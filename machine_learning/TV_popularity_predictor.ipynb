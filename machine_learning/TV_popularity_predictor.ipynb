{
 "cells": [
  {
   "cell_type": "markdown",
   "metadata": {},
   "source": [
    "# TV shows Popularity Predictor (39%)\n",
    "\n",
    "The goal of this challenge is to create a model that predicts the `popularity` of a movie or TV show\n",
    "\n",
    "<img src=\"image.jpg\" width=300 />\n",
    "\n",
    "\n",
    "\n",
    "\n",
    "The dataset contains a list of movies and TV shows with the following characteristics:\n",
    "- `title`: title of the movie in english\n",
    "- `original_title`: original title of the movie \n",
    "- `duration_min`: duration of the movie in minutes\n",
    "- `popularity`: popularity of the movie in terms of review scores\n",
    "- `release_date`: release date\n",
    "- `description`: short summary of the movie\n",
    "- `budget`: budget spent to produce the movie in USD\n",
    "- `revenue`: movie revenue in USD \n",
    "- `original_language`: original language \n",
    "- `status`: is the movie already released or not\n",
    "- `number_of_awards_won`: number of awards won for the movie\n",
    "- `number_of_nominations`: number of nominations\n",
    "- `has_collection`: if the movie is part of a sequel or not\n",
    "- `all_genres`: genres that described the movie (can be zero, one or many!) \n",
    "- `top_countries`: countries where the movie was produced (can be zero, one or many!) \n",
    "- `number_of_top_productions`: number of top production companies that produced the film if any. \n",
    "Top production companies includes: Warner Bros, Universal Pictures, Paramount Pictures, Canal+, etc...\n",
    "- `available_in_english`: whether the movie is available in english or not"
   ]
  },
  {
   "cell_type": "markdown",
   "metadata": {},
   "source": [
    "## Imports\n",
    "\n",
    "Run the following cell to load the basic packages:"
   ]
  },
  {
   "cell_type": "code",
   "execution_count": 1,
   "metadata": {
    "ExecuteTime": {
     "end_time": "2021-06-29T17:29:05.325249Z",
     "start_time": "2021-06-29T17:29:04.415422Z"
    }
   },
   "outputs": [],
   "source": [
    "import numpy as np\n",
    "import pandas as pd\n",
    "import matplotlib.pyplot as plt\n",
    "import seaborn as sns\n",
    "from nbresult import ChallengeResult"
   ]
  },
  {
   "cell_type": "markdown",
   "metadata": {},
   "source": [
    "## Data collection\n",
    "\n",
    "📝 **Load the `movie_popularity.csv` dataset from the provided this [URL](https://wagon-public-datasets.s3.amazonaws.com/certification_france_2021_q2/tv_movies_popularity.csv)**\n",
    "- First, check and remove the rows that may be complete duplicate from one another (we never know!)\n",
    "- Then, drop the columns that have too much missing values\n",
    "- Finally, drop the few remaining rows that have missing values\n",
    "- Store the result in a `DataFrame` named `data`"
   ]
  },
  {
   "cell_type": "code",
   "execution_count": 2,
   "metadata": {
    "ExecuteTime": {
     "end_time": "2021-06-29T17:29:09.664618Z",
     "start_time": "2021-06-29T17:29:05.328223Z"
    },
    "slideshow": {
     "slide_type": "notes"
    },
    "tags": [
     "challengify"
    ]
   },
   "outputs": [],
   "source": [
    "data = pd.read_csv('https://wagon-public-datasets.s3.amazonaws.com/certification_france_2021_q2/tv_movies_popularity.csv')"
   ]
  },
  {
   "cell_type": "code",
   "execution_count": 3,
   "metadata": {},
   "outputs": [],
   "source": [
    "pd.set_option('display.max_rows', 500)"
   ]
  },
  {
   "cell_type": "code",
   "execution_count": 4,
   "metadata": {},
   "outputs": [
    {
     "name": "stdout",
     "output_type": "stream",
     "text": [
      "(6864, 17)\n",
      "(6464, 17)\n"
     ]
    }
   ],
   "source": [
    "# Remove potential duplicates\n",
    "print(data.shape)\n",
    "data = data.drop_duplicates()\n",
    "print(data.shape)"
   ]
  },
  {
   "cell_type": "code",
   "execution_count": 5,
   "metadata": {},
   "outputs": [
    {
     "data": {
      "text/plain": [
       "King Kong                                3\n",
       "Anna Karenina                            3\n",
       "Hercules                                 3\n",
       "Life                                     2\n",
       "Hot Pursuit                              2\n",
       "                                        ..\n",
       "Along Came a Spider                      1\n",
       "Miracle at St. Anna                      1\n",
       "GHOST IN THE SHELL                       1\n",
       "National Lampoon's Christmas Vacation    1\n",
       "Ice Age: Continental Drift               1\n",
       "Name: original_title, Length: 6351, dtype: int64"
      ]
     },
     "execution_count": 5,
     "metadata": {},
     "output_type": "execute_result"
    }
   ],
   "source": [
    "data['original_title'].value_counts()"
   ]
  },
  {
   "cell_type": "code",
   "execution_count": 6,
   "metadata": {},
   "outputs": [
    {
     "data": {
      "text/html": [
       "<div>\n",
       "<style scoped>\n",
       "    .dataframe tbody tr th:only-of-type {\n",
       "        vertical-align: middle;\n",
       "    }\n",
       "\n",
       "    .dataframe tbody tr th {\n",
       "        vertical-align: top;\n",
       "    }\n",
       "\n",
       "    .dataframe thead th {\n",
       "        text-align: right;\n",
       "    }\n",
       "</style>\n",
       "<table border=\"1\" class=\"dataframe\">\n",
       "  <thead>\n",
       "    <tr style=\"text-align: right;\">\n",
       "      <th></th>\n",
       "      <th>original_title</th>\n",
       "      <th>title</th>\n",
       "      <th>popularity</th>\n",
       "      <th>release_date</th>\n",
       "      <th>duration_min</th>\n",
       "      <th>description</th>\n",
       "      <th>budget</th>\n",
       "      <th>revenue</th>\n",
       "      <th>original_language</th>\n",
       "      <th>status</th>\n",
       "      <th>number_of_awards_won</th>\n",
       "      <th>number_of_nominations</th>\n",
       "      <th>has_collection</th>\n",
       "      <th>all_genres</th>\n",
       "      <th>top_countries</th>\n",
       "      <th>number_of_top_productions</th>\n",
       "      <th>available_in_english</th>\n",
       "    </tr>\n",
       "  </thead>\n",
       "  <tbody>\n",
       "    <tr>\n",
       "      <th>336</th>\n",
       "      <td>Anna Karenina</td>\n",
       "      <td>Anna Karenina</td>\n",
       "      <td>8.543311</td>\n",
       "      <td>2012-09-06</td>\n",
       "      <td>130.0</td>\n",
       "      <td>In late-19th-century Russian high society, St....</td>\n",
       "      <td>0</td>\n",
       "      <td>68929150.0</td>\n",
       "      <td>en</td>\n",
       "      <td>Released</td>\n",
       "      <td>33</td>\n",
       "      <td>53</td>\n",
       "      <td>0</td>\n",
       "      <td>Drama, Romance</td>\n",
       "      <td>France, United Kingdom</td>\n",
       "      <td>2</td>\n",
       "      <td>True</td>\n",
       "    </tr>\n",
       "    <tr>\n",
       "      <th>2602</th>\n",
       "      <td>Anna Karenina</td>\n",
       "      <td>Anna Karenina</td>\n",
       "      <td>5.660835</td>\n",
       "      <td>1997-04-04</td>\n",
       "      <td>108.0</td>\n",
       "      <td>Anna (Marceau) is a wife and mother who has an...</td>\n",
       "      <td>35000000</td>\n",
       "      <td>791830.0</td>\n",
       "      <td>en</td>\n",
       "      <td>Released</td>\n",
       "      <td>0</td>\n",
       "      <td>0</td>\n",
       "      <td>0</td>\n",
       "      <td>Drama, Romance</td>\n",
       "      <td>United States of America</td>\n",
       "      <td>1</td>\n",
       "      <td>True</td>\n",
       "    </tr>\n",
       "    <tr>\n",
       "      <th>5915</th>\n",
       "      <td>Anna Karenina</td>\n",
       "      <td>Anna Karenina</td>\n",
       "      <td>1.810574</td>\n",
       "      <td>1935-08-30</td>\n",
       "      <td>95.0</td>\n",
       "      <td>The married Anna Karenina falls in love with C...</td>\n",
       "      <td>1152000</td>\n",
       "      <td>NaN</td>\n",
       "      <td>en</td>\n",
       "      <td>Released</td>\n",
       "      <td>3</td>\n",
       "      <td>0</td>\n",
       "      <td>0</td>\n",
       "      <td>Drama, Romance</td>\n",
       "      <td>United States of America</td>\n",
       "      <td>1</td>\n",
       "      <td>True</td>\n",
       "    </tr>\n",
       "  </tbody>\n",
       "</table>\n",
       "</div>"
      ],
      "text/plain": [
       "     original_title          title  popularity release_date  duration_min  \\\n",
       "336   Anna Karenina  Anna Karenina    8.543311   2012-09-06         130.0   \n",
       "2602  Anna Karenina  Anna Karenina    5.660835   1997-04-04         108.0   \n",
       "5915  Anna Karenina  Anna Karenina    1.810574   1935-08-30          95.0   \n",
       "\n",
       "                                            description    budget     revenue  \\\n",
       "336   In late-19th-century Russian high society, St....         0  68929150.0   \n",
       "2602  Anna (Marceau) is a wife and mother who has an...  35000000    791830.0   \n",
       "5915  The married Anna Karenina falls in love with C...   1152000         NaN   \n",
       "\n",
       "     original_language    status  number_of_awards_won  number_of_nominations  \\\n",
       "336                 en  Released                    33                     53   \n",
       "2602                en  Released                     0                      0   \n",
       "5915                en  Released                     3                      0   \n",
       "\n",
       "      has_collection      all_genres             top_countries  \\\n",
       "336                0  Drama, Romance    France, United Kingdom   \n",
       "2602               0  Drama, Romance  United States of America   \n",
       "5915               0  Drama, Romance  United States of America   \n",
       "\n",
       "      number_of_top_productions  available_in_english  \n",
       "336                           2                  True  \n",
       "2602                          1                  True  \n",
       "5915                          1                  True  "
      ]
     },
     "execution_count": 6,
     "metadata": {},
     "output_type": "execute_result"
    }
   ],
   "source": [
    "data[data[\"original_title\"].str.contains(\"Anna Karenina\")]"
   ]
  },
  {
   "cell_type": "code",
   "execution_count": 7,
   "metadata": {},
   "outputs": [
    {
     "data": {
      "text/plain": [
       "Released           6459\n",
       "Post Production       4\n",
       "Rumored               1\n",
       "Name: status, dtype: int64"
      ]
     },
     "execution_count": 7,
     "metadata": {},
     "output_type": "execute_result"
    }
   ],
   "source": [
    "data['status'].value_counts()"
   ]
  },
  {
   "cell_type": "code",
   "execution_count": 8,
   "metadata": {},
   "outputs": [
    {
     "data": {
      "text/plain": [
       "True     5807\n",
       "False     657\n",
       "Name: available_in_english, dtype: int64"
      ]
     },
     "execution_count": 8,
     "metadata": {},
     "output_type": "execute_result"
    }
   ],
   "source": [
    "data['available_in_english'].value_counts()"
   ]
  },
  {
   "cell_type": "code",
   "execution_count": 9,
   "metadata": {},
   "outputs": [
    {
     "data": {
      "text/plain": [
       "revenue                      3847\n",
       "title                           1\n",
       "original_title                  0\n",
       "number_of_awards_won            0\n",
       "number_of_top_productions       0\n",
       "top_countries                   0\n",
       "all_genres                      0\n",
       "has_collection                  0\n",
       "number_of_nominations           0\n",
       "original_language               0\n",
       "status                          0\n",
       "budget                          0\n",
       "description                     0\n",
       "duration_min                    0\n",
       "release_date                    0\n",
       "popularity                      0\n",
       "available_in_english            0\n",
       "dtype: int64"
      ]
     },
     "execution_count": 9,
     "metadata": {},
     "output_type": "execute_result"
    }
   ],
   "source": [
    "# Investigate missing values\n",
    "data.isnull().sum().sort_values(ascending=False)"
   ]
  },
  {
   "cell_type": "code",
   "execution_count": 10,
   "metadata": {},
   "outputs": [
    {
     "data": {
      "text/html": [
       "<div>\n",
       "<style scoped>\n",
       "    .dataframe tbody tr th:only-of-type {\n",
       "        vertical-align: middle;\n",
       "    }\n",
       "\n",
       "    .dataframe tbody tr th {\n",
       "        vertical-align: top;\n",
       "    }\n",
       "\n",
       "    .dataframe thead th {\n",
       "        text-align: right;\n",
       "    }\n",
       "</style>\n",
       "<table border=\"1\" class=\"dataframe\">\n",
       "  <thead>\n",
       "    <tr style=\"text-align: right;\">\n",
       "      <th></th>\n",
       "      <th>original_title</th>\n",
       "      <th>title</th>\n",
       "      <th>popularity</th>\n",
       "      <th>release_date</th>\n",
       "      <th>duration_min</th>\n",
       "      <th>description</th>\n",
       "      <th>budget</th>\n",
       "      <th>original_language</th>\n",
       "      <th>status</th>\n",
       "      <th>number_of_awards_won</th>\n",
       "      <th>number_of_nominations</th>\n",
       "      <th>has_collection</th>\n",
       "      <th>all_genres</th>\n",
       "      <th>top_countries</th>\n",
       "      <th>number_of_top_productions</th>\n",
       "      <th>available_in_english</th>\n",
       "    </tr>\n",
       "  </thead>\n",
       "  <tbody>\n",
       "    <tr>\n",
       "      <th>21</th>\n",
       "      <td>Dr. Giggles</td>\n",
       "      <td>Dr. Giggles</td>\n",
       "      <td>1.252367</td>\n",
       "      <td>1992-10-23</td>\n",
       "      <td>95.0</td>\n",
       "      <td>A madman who believes he's a doctor comes to t...</td>\n",
       "      <td>0</td>\n",
       "      <td>en</td>\n",
       "      <td>Released</td>\n",
       "      <td>1</td>\n",
       "      <td>2</td>\n",
       "      <td>0</td>\n",
       "      <td>Comedy, Horror, Mystery, Thriller</td>\n",
       "      <td>Japan, United States of America</td>\n",
       "      <td>1</td>\n",
       "      <td>True</td>\n",
       "    </tr>\n",
       "    <tr>\n",
       "      <th>4441</th>\n",
       "      <td>Frailty</td>\n",
       "      <td>Frailty</td>\n",
       "      <td>7.397953</td>\n",
       "      <td>2001-11-17</td>\n",
       "      <td>100.0</td>\n",
       "      <td>A mysterious man arrives at the offices of an ...</td>\n",
       "      <td>11000000</td>\n",
       "      <td>en</td>\n",
       "      <td>Released</td>\n",
       "      <td>5</td>\n",
       "      <td>16</td>\n",
       "      <td>0</td>\n",
       "      <td>Crime, Drama, Thriller</td>\n",
       "      <td>Germany, Italy, United States of America</td>\n",
       "      <td>0</td>\n",
       "      <td>True</td>\n",
       "    </tr>\n",
       "    <tr>\n",
       "      <th>1145</th>\n",
       "      <td>RockNRolla</td>\n",
       "      <td>RockNRolla</td>\n",
       "      <td>7.263988</td>\n",
       "      <td>2008-09-04</td>\n",
       "      <td>114.0</td>\n",
       "      <td>When a Russian mobster orchestrates a crooked ...</td>\n",
       "      <td>18000000</td>\n",
       "      <td>en</td>\n",
       "      <td>Released</td>\n",
       "      <td>1</td>\n",
       "      <td>5</td>\n",
       "      <td>0</td>\n",
       "      <td>Action, Crime, Thriller</td>\n",
       "      <td>United Kingdom</td>\n",
       "      <td>2</td>\n",
       "      <td>True</td>\n",
       "    </tr>\n",
       "  </tbody>\n",
       "</table>\n",
       "</div>"
      ],
      "text/plain": [
       "     original_title        title  popularity release_date  duration_min  \\\n",
       "21      Dr. Giggles  Dr. Giggles    1.252367   1992-10-23          95.0   \n",
       "4441        Frailty      Frailty    7.397953   2001-11-17         100.0   \n",
       "1145     RockNRolla   RockNRolla    7.263988   2008-09-04         114.0   \n",
       "\n",
       "                                            description    budget  \\\n",
       "21    A madman who believes he's a doctor comes to t...         0   \n",
       "4441  A mysterious man arrives at the offices of an ...  11000000   \n",
       "1145  When a Russian mobster orchestrates a crooked ...  18000000   \n",
       "\n",
       "     original_language    status  number_of_awards_won  number_of_nominations  \\\n",
       "21                  en  Released                     1                      2   \n",
       "4441                en  Released                     5                     16   \n",
       "1145                en  Released                     1                      5   \n",
       "\n",
       "      has_collection                         all_genres  \\\n",
       "21                 0  Comedy, Horror, Mystery, Thriller   \n",
       "4441               0             Crime, Drama, Thriller   \n",
       "1145               0            Action, Crime, Thriller   \n",
       "\n",
       "                                 top_countries  number_of_top_productions  \\\n",
       "21             Japan, United States of America                          1   \n",
       "4441  Germany, Italy, United States of America                          0   \n",
       "1145                            United Kingdom                          2   \n",
       "\n",
       "      available_in_english  \n",
       "21                    True  \n",
       "4441                  True  \n",
       "1145                  True  "
      ]
     },
     "execution_count": 10,
     "metadata": {},
     "output_type": "execute_result"
    }
   ],
   "source": [
    "# Drop colunmn revenue with too much missing values\n",
    "data.drop(columns='revenue', inplace=True)\n",
    "data.sample(3)"
   ]
  },
  {
   "cell_type": "code",
   "execution_count": 11,
   "metadata": {},
   "outputs": [
    {
     "data": {
      "text/plain": [
       "0           1424\n",
       "20000000     184\n",
       "25000000     171\n",
       "15000000     169\n",
       "30000000     154\n",
       "            ... \n",
       "4180000        1\n",
       "2380000        1\n",
       "8376800        1\n",
       "99000000       1\n",
       "22700000       1\n",
       "Name: budget, Length: 636, dtype: int64"
      ]
     },
     "execution_count": 11,
     "metadata": {},
     "output_type": "execute_result"
    }
   ],
   "source": [
    "data['budget'].value_counts()"
   ]
  },
  {
   "cell_type": "code",
   "execution_count": 12,
   "metadata": {},
   "outputs": [
    {
     "name": "stdout",
     "output_type": "stream",
     "text": [
      "(6464, 16)\n",
      "(6463, 16)\n"
     ]
    }
   ],
   "source": [
    "#  Drop the few remaining rows that have missing values -> remove row with missing title\n",
    "print(data.shape)\n",
    "data = data.dropna()\n",
    "print(data.shape)"
   ]
  },
  {
   "cell_type": "markdown",
   "metadata": {},
   "source": [
    "### 🧪 Run the following cell to save your results"
   ]
  },
  {
   "cell_type": "code",
   "execution_count": 13,
   "metadata": {
    "ExecuteTime": {
     "end_time": "2021-06-29T17:29:09.754301Z",
     "start_time": "2021-06-29T17:29:09.746171Z"
    }
   },
   "outputs": [],
   "source": [
    "from nbresult import ChallengeResult\n",
    "\n",
    "result = ChallengeResult(\n",
    "    \"data_cleaning\",\n",
    "    columns=data.columns,\n",
    "    cleaning=sum(data.isnull().sum()),\n",
    "    shape=data.shape)\n",
    "result.write()"
   ]
  },
  {
   "cell_type": "markdown",
   "metadata": {},
   "source": [
    "## Baseline model"
   ]
  },
  {
   "cell_type": "markdown",
   "metadata": {},
   "source": [
    "### The metric"
   ]
  },
  {
   "cell_type": "markdown",
   "metadata": {},
   "source": [
    "📝 **We want to predict `popularity`: Start by plotting a histogram of the target to visualize it**"
   ]
  },
  {
   "cell_type": "markdown",
   "metadata": {},
   "source": [
    "📝 **Which sklearn's scoring [metric](https://scikit-learn.org/stable/modules/model_evaluation.html) should we use if we want it to:**\n",
    "\n",
    "- Be better when greater (i.e. metric_good_model > metric_bad_model)\n",
    "- Penalize **more** an error between 10 and 20 compared with an error between 110 and 120\n",
    "- Said otherwise, what matter should be the **relative error ratio**, more than the absolute error difference\n",
    "\n",
    "Hint: the histogram plotted above should give you some intuition about it\n",
    "\n",
    "👉 Store its exact [sklearn scoring name](https://scikit-learn.org/stable/modules/model_evaluation.html) as `string` in the variable `scoring` below.\n",
    "\n",
    "🚨 You must use this metric for the rest of the challenge"
   ]
  },
  {
   "cell_type": "code",
   "execution_count": 14,
   "metadata": {},
   "outputs": [
    {
     "data": {
      "image/png": "[encoded data removed]",
      "text/plain": [
       "<Figure size 432x288 with 1 Axes>"
      ]
     },
     "metadata": {
      "needs_background": "light"
     },
     "output_type": "display_data"
    }
   ],
   "source": [
    "# Plot districution target\n",
    "sns.histplot(data=data,x=data['popularity']);"
   ]
  },
  {
   "cell_type": "code",
   "execution_count": 15,
   "metadata": {
    "ExecuteTime": {
     "end_time": "2021-06-29T17:29:13.047468Z",
     "start_time": "2021-06-29T17:29:13.045265Z"
    },
    "slideshow": {
     "slide_type": "notes"
    },
    "tags": [
     "challengify"
    ]
   },
   "outputs": [],
   "source": [
    "# Choose metric -> regression model\n",
    "scoring = 'neg_mean_absolute_percentage_error'"
   ]
  },
  {
   "cell_type": "markdown",
   "metadata": {},
   "source": [
    "<details>\n",
    "    <summary>💡 Hint</summary>\n",
    "It is around here!\n",
    "<img src=\"scores.jpg\" width=200 height=400 />\n",
    "</details>"
   ]
  },
  {
   "cell_type": "markdown",
   "metadata": {},
   "source": [
    "### X,y"
   ]
  },
  {
   "cell_type": "markdown",
   "metadata": {},
   "source": [
    "**📝 Define `X` as the features Dataframe (keep all features) and `y` as the target Series.**"
   ]
  },
  {
   "cell_type": "code",
   "execution_count": 16,
   "metadata": {
    "ExecuteTime": {
     "end_time": "2021-06-29T17:29:13.054580Z",
     "start_time": "2021-06-29T17:29:13.049865Z"
    },
    "tags": [
     "challengify"
    ]
   },
   "outputs": [
    {
     "name": "stdout",
     "output_type": "stream",
     "text": [
      "(6463, 15)\n",
      "(6463,)\n"
     ]
    }
   ],
   "source": [
    "X = data.drop(columns='popularity')\n",
    "y = data['popularity']\n",
    "print(X.shape)\n",
    "print(y.shape)"
   ]
  },
  {
   "cell_type": "markdown",
   "metadata": {},
   "source": [
    "### Basic pipeline"
   ]
  },
  {
   "cell_type": "markdown",
   "metadata": {},
   "source": [
    "📝 **Check unique values per features**"
   ]
  },
  {
   "cell_type": "code",
   "execution_count": 17,
   "metadata": {
    "ExecuteTime": {
     "end_time": "2021-06-29T17:29:13.074836Z",
     "start_time": "2021-06-29T17:29:13.062527Z"
    },
    "tags": [
     "challengify"
    ]
   },
   "outputs": [
    {
     "data": {
      "text/html": [
       "<div>\n",
       "<style scoped>\n",
       "    .dataframe tbody tr th:only-of-type {\n",
       "        vertical-align: middle;\n",
       "    }\n",
       "\n",
       "    .dataframe tbody tr th {\n",
       "        vertical-align: top;\n",
       "    }\n",
       "\n",
       "    .dataframe thead th {\n",
       "        text-align: right;\n",
       "    }\n",
       "</style>\n",
       "<table border=\"1\" class=\"dataframe\">\n",
       "  <thead>\n",
       "    <tr style=\"text-align: right;\">\n",
       "      <th></th>\n",
       "      <th>original_title</th>\n",
       "      <th>title</th>\n",
       "      <th>release_date</th>\n",
       "      <th>duration_min</th>\n",
       "      <th>description</th>\n",
       "      <th>budget</th>\n",
       "      <th>original_language</th>\n",
       "      <th>status</th>\n",
       "      <th>number_of_awards_won</th>\n",
       "      <th>number_of_nominations</th>\n",
       "      <th>has_collection</th>\n",
       "      <th>all_genres</th>\n",
       "      <th>top_countries</th>\n",
       "      <th>number_of_top_productions</th>\n",
       "      <th>available_in_english</th>\n",
       "    </tr>\n",
       "  </thead>\n",
       "  <tbody>\n",
       "    <tr>\n",
       "      <th>2858</th>\n",
       "      <td>Doctor Zhivago</td>\n",
       "      <td>Doctor Zhivago</td>\n",
       "      <td>1965-12-22</td>\n",
       "      <td>197.0</td>\n",
       "      <td>The life of a Russian physician and poet who, ...</td>\n",
       "      <td>11000000</td>\n",
       "      <td>en</td>\n",
       "      <td>Released</td>\n",
       "      <td>21</td>\n",
       "      <td>13</td>\n",
       "      <td>0</td>\n",
       "      <td>Drama, Romance, War</td>\n",
       "      <td>Italy, United States of America</td>\n",
       "      <td>1</td>\n",
       "      <td>True</td>\n",
       "    </tr>\n",
       "    <tr>\n",
       "      <th>694</th>\n",
       "      <td>Vanishing Point</td>\n",
       "      <td>Vanishing Point</td>\n",
       "      <td>1971-01-15</td>\n",
       "      <td>99.0</td>\n",
       "      <td>During the 1970s, car delivery driver Kowalski...</td>\n",
       "      <td>1300000</td>\n",
       "      <td>en</td>\n",
       "      <td>Released</td>\n",
       "      <td>0</td>\n",
       "      <td>0</td>\n",
       "      <td>0</td>\n",
       "      <td>Action, Drama, Thriller</td>\n",
       "      <td>United States of America</td>\n",
       "      <td>1</td>\n",
       "      <td>True</td>\n",
       "    </tr>\n",
       "    <tr>\n",
       "      <th>6194</th>\n",
       "      <td>9 Songs</td>\n",
       "      <td>9 Songs</td>\n",
       "      <td>2004-07-16</td>\n",
       "      <td>66.0</td>\n",
       "      <td>In London, intense sexual encounters take plac...</td>\n",
       "      <td>1000000</td>\n",
       "      <td>en</td>\n",
       "      <td>Released</td>\n",
       "      <td>1</td>\n",
       "      <td>2</td>\n",
       "      <td>0</td>\n",
       "      <td>Drama, Music, Romance</td>\n",
       "      <td>United Kingdom</td>\n",
       "      <td>0</td>\n",
       "      <td>True</td>\n",
       "    </tr>\n",
       "  </tbody>\n",
       "</table>\n",
       "</div>"
      ],
      "text/plain": [
       "       original_title            title release_date  duration_min  \\\n",
       "2858   Doctor Zhivago   Doctor Zhivago   1965-12-22         197.0   \n",
       "694   Vanishing Point  Vanishing Point   1971-01-15          99.0   \n",
       "6194          9 Songs          9 Songs   2004-07-16          66.0   \n",
       "\n",
       "                                            description    budget  \\\n",
       "2858  The life of a Russian physician and poet who, ...  11000000   \n",
       "694   During the 1970s, car delivery driver Kowalski...   1300000   \n",
       "6194  In London, intense sexual encounters take plac...   1000000   \n",
       "\n",
       "     original_language    status  number_of_awards_won  number_of_nominations  \\\n",
       "2858                en  Released                    21                     13   \n",
       "694                 en  Released                     0                      0   \n",
       "6194                en  Released                     1                      2   \n",
       "\n",
       "      has_collection               all_genres  \\\n",
       "2858               0      Drama, Romance, War   \n",
       "694                0  Action, Drama, Thriller   \n",
       "6194               0    Drama, Music, Romance   \n",
       "\n",
       "                        top_countries  number_of_top_productions  \\\n",
       "2858  Italy, United States of America                          1   \n",
       "694          United States of America                          1   \n",
       "6194                   United Kingdom                          0   \n",
       "\n",
       "      available_in_english  \n",
       "2858                  True  \n",
       "694                   True  \n",
       "6194                  True  "
      ]
     },
     "execution_count": 17,
     "metadata": {},
     "output_type": "execute_result"
    }
   ],
   "source": [
    "X.sample(3)"
   ]
  },
  {
   "cell_type": "code",
   "execution_count": 18,
   "metadata": {
    "scrolled": true
   },
   "outputs": [
    {
     "data": {
      "text/plain": [
       "original_title                object\n",
       "title                         object\n",
       "release_date                  object\n",
       "duration_min                 float64\n",
       "description                   object\n",
       "budget                         int64\n",
       "original_language             object\n",
       "status                        object\n",
       "number_of_awards_won           int64\n",
       "number_of_nominations          int64\n",
       "has_collection                 int64\n",
       "all_genres                    object\n",
       "top_countries                 object\n",
       "number_of_top_productions      int64\n",
       "available_in_english            bool\n",
       "dtype: object"
      ]
     },
     "execution_count": 18,
     "metadata": {},
     "output_type": "execute_result"
    }
   ],
   "source": [
    "X.dtypes"
   ]
  },
  {
   "cell_type": "code",
   "execution_count": 19,
   "metadata": {},
   "outputs": [
    {
     "data": {
      "text/plain": [
       "en    5657\n",
       "fr     165\n",
       "hi     114\n",
       "ja      81\n",
       "es      63\n",
       "it      45\n",
       "ru      39\n",
       "zh      38\n",
       "de      37\n",
       "ko      36\n",
       "cn      33\n",
       "ta      26\n",
       "da      17\n",
       "sv      14\n",
       "te       9\n",
       "pt       9\n",
       "ml       8\n",
       "tr       8\n",
       "ro       7\n",
       "nl       7\n",
       "fa       5\n",
       "pl       5\n",
       "th       5\n",
       "hu       4\n",
       "no       4\n",
       "el       3\n",
       "he       3\n",
       "bn       3\n",
       "sr       2\n",
       "cs       2\n",
       "fi       2\n",
       "id       2\n",
       "xx       1\n",
       "is       1\n",
       "bm       1\n",
       "nb       1\n",
       "ca       1\n",
       "af       1\n",
       "ar       1\n",
       "ur       1\n",
       "kn       1\n",
       "ka       1\n",
       "Name: original_language, dtype: int64"
      ]
     },
     "execution_count": 19,
     "metadata": {},
     "output_type": "execute_result"
    }
   ],
   "source": [
    "data['original_language'].value_counts()"
   ]
  },
  {
   "cell_type": "code",
   "execution_count": 20,
   "metadata": {},
   "outputs": [
    {
     "data": {
      "text/plain": [
       "0           1424\n",
       "20000000     184\n",
       "25000000     171\n",
       "15000000     169\n",
       "30000000     154\n",
       "            ... \n",
       "4180000        1\n",
       "2380000        1\n",
       "8376800        1\n",
       "99000000       1\n",
       "22700000       1\n",
       "Name: budget, Length: 636, dtype: int64"
      ]
     },
     "execution_count": 20,
     "metadata": {},
     "output_type": "execute_result"
    }
   ],
   "source": [
    "data['budget'].value_counts()"
   ]
  },
  {
   "cell_type": "code",
   "execution_count": 21,
   "metadata": {},
   "outputs": [
    {
     "data": {
      "text/plain": [
       "(1424, 16)"
      ]
     },
     "execution_count": 21,
     "metadata": {},
     "output_type": "execute_result"
    }
   ],
   "source": [
    "data[data['budget']==0].shape"
   ]
  },
  {
   "cell_type": "code",
   "execution_count": 22,
   "metadata": {},
   "outputs": [
    {
     "data": {
      "image/png": "[encoded data removed]",
      "text/plain": [
       "<Figure size 432x288 with 1 Axes>"
      ]
     },
     "metadata": {
      "needs_background": "light"
     },
     "output_type": "display_data"
    }
   ],
   "source": [
    "sns.histplot(data=data,x=data['duration_min']);"
   ]
  },
  {
   "cell_type": "markdown",
   "metadata": {},
   "source": [
    "In this baseline, let's forget about the columns below that are difficult to process"
   ]
  },
  {
   "cell_type": "code",
   "execution_count": 23,
   "metadata": {
    "ExecuteTime": {
     "end_time": "2021-06-29T17:29:13.102327Z",
     "start_time": "2021-06-29T17:29:13.099066Z"
    }
   },
   "outputs": [],
   "source": [
    "text = ['description', 'original_title', 'title']\n",
    "dates = ['release_date'] "
   ]
  },
  {
   "cell_type": "markdown",
   "metadata": {},
   "source": [
    "We will simply scale the numerical features and one-hot-encode the categorical ones remaining\n",
    "\n",
    "📝 **Prepare 2 `list`s of features names as `str`**:\n",
    "- `numerical` which contains **only** numerical features\n",
    "- `categorical` which contains **only** categorical features (exept text and dates above)"
   ]
  },
  {
   "cell_type": "code",
   "execution_count": 24,
   "metadata": {},
   "outputs": [
    {
     "data": {
      "text/plain": [
       "original_title                object\n",
       "title                         object\n",
       "release_date                  object\n",
       "duration_min                 float64\n",
       "description                   object\n",
       "budget                         int64\n",
       "original_language             object\n",
       "status                        object\n",
       "number_of_awards_won           int64\n",
       "number_of_nominations          int64\n",
       "has_collection                 int64\n",
       "all_genres                    object\n",
       "top_countries                 object\n",
       "number_of_top_productions      int64\n",
       "available_in_english            bool\n",
       "dtype: object"
      ]
     },
     "execution_count": 24,
     "metadata": {},
     "output_type": "execute_result"
    }
   ],
   "source": [
    "X.dtypes"
   ]
  },
  {
   "cell_type": "code",
   "execution_count": 25,
   "metadata": {
    "ExecuteTime": {
     "end_time": "2021-06-29T17:29:13.107916Z",
     "start_time": "2021-06-29T17:29:13.104876Z"
    },
    "tags": [
     "challengify"
    ]
   },
   "outputs": [],
   "source": [
    "numerical = list(X.select_dtypes(include=['float64','int64']).columns)\n",
    "categorical = ['original_language','status','all_genres','top_countries','available_in_english']"
   ]
  },
  {
   "cell_type": "markdown",
   "metadata": {},
   "source": [
    "### Pipelining\n",
    "\n",
    "You are going to build a basic pipeline made of a basic preprocessing and a trees-based model of your choice."
   ]
  },
  {
   "cell_type": "markdown",
   "metadata": {},
   "source": [
    "#### Preprocessing pipeline\n",
    "\n",
    "**📝 Create a basic preprocessing pipeline for the 2 types of features above:**\n",
    "- It should scale the `numerical` features\n",
    "- one-hot-encode the `categorical` and `boolean` features\n",
    "- drop the others\n",
    "- Store your pipeline in a `basic_preprocessing` variable"
   ]
  },
  {
   "cell_type": "code",
   "execution_count": 26,
   "metadata": {
    "ExecuteTime": {
     "end_time": "2021-06-29T17:29:13.475427Z",
     "start_time": "2021-06-29T17:29:13.109926Z"
    }
   },
   "outputs": [],
   "source": [
    "# Execute this cell to enable a nice display for your pipelines\n",
    "from sklearn import set_config; set_config(display='diagram')"
   ]
  },
  {
   "cell_type": "code",
   "execution_count": 27,
   "metadata": {
    "ExecuteTime": {
     "end_time": "2021-06-29T17:29:13.497003Z",
     "start_time": "2021-06-29T17:29:13.477748Z"
    },
    "tags": [
     "challengify"
    ]
   },
   "outputs": [],
   "source": [
    "from sklearn.pipeline import Pipeline\n",
    "from sklearn.preprocessing import OneHotEncoder\n",
    "from sklearn.preprocessing import StandardScaler\n",
    "from sklearn.compose import ColumnTransformer"
   ]
  },
  {
   "cell_type": "code",
   "execution_count": 28,
   "metadata": {},
   "outputs": [
    {
     "data": {
      "text/html": [
       "<style>#sk-b31a6969-da0b-4c48-812c-636844961a4b {color: black;background-color: white;}#sk-b31a6969-da0b-4c48-812c-636844961a4b pre{padding: 0;}#sk-b31a6969-da0b-4c48-812c-636844961a4b div.sk-toggleable {background-color: white;}#sk-b31a6969-da0b-4c48-812c-636844961a4b label.sk-toggleable__label {cursor: pointer;display: block;width: 100%;margin-bottom: 0;padding: 0.2em 0.3em;box-sizing: border-box;text-align: center;}#sk-b31a6969-da0b-4c48-812c-636844961a4b div.sk-toggleable__content {max-height: 0;max-width: 0;overflow: hidden;text-align: left;background-color: #f0f8ff;}#sk-b31a6969-da0b-4c48-812c-636844961a4b div.sk-toggleable__content pre {margin: 0.2em;color: black;border-radius: 0.25em;background-color: #f0f8ff;}#sk-b31a6969-da0b-4c48-812c-636844961a4b input.sk-toggleable__control:checked~div.sk-toggleable__content {max-height: 200px;max-width: 100%;overflow: auto;}#sk-b31a6969-da0b-4c48-812c-636844961a4b div.sk-estimator input.sk-toggleable__control:checked~label.sk-toggleable__label {background-color: #d4ebff;}#sk-b31a6969-da0b-4c48-812c-636844961a4b div.sk-label input.sk-toggleable__control:checked~label.sk-toggleable__label {background-color: #d4ebff;}#sk-b31a6969-da0b-4c48-812c-636844961a4b input.sk-hidden--visually {border: 0;clip: rect(1px 1px 1px 1px);clip: rect(1px, 1px, 1px, 1px);height: 1px;margin: -1px;overflow: hidden;padding: 0;position: absolute;width: 1px;}#sk-b31a6969-da0b-4c48-812c-636844961a4b div.sk-estimator {font-family: monospace;background-color: #f0f8ff;margin: 0.25em 0.25em;border: 1px dotted black;border-radius: 0.25em;box-sizing: border-box;}#sk-b31a6969-da0b-4c48-812c-636844961a4b div.sk-estimator:hover {background-color: #d4ebff;}#sk-b31a6969-da0b-4c48-812c-636844961a4b div.sk-parallel-item::after {content: \"\";width: 100%;border-bottom: 1px solid gray;flex-grow: 1;}#sk-b31a6969-da0b-4c48-812c-636844961a4b div.sk-label:hover label.sk-toggleable__label {background-color: #d4ebff;}#sk-b31a6969-da0b-4c48-812c-636844961a4b div.sk-serial::before {content: \"\";position: absolute;border-left: 1px solid gray;box-sizing: border-box;top: 2em;bottom: 0;left: 50%;}#sk-b31a6969-da0b-4c48-812c-636844961a4b div.sk-serial {display: flex;flex-direction: column;align-items: center;background-color: white;}#sk-b31a6969-da0b-4c48-812c-636844961a4b div.sk-item {z-index: 1;}#sk-b31a6969-da0b-4c48-812c-636844961a4b div.sk-parallel {display: flex;align-items: stretch;justify-content: center;background-color: white;}#sk-b31a6969-da0b-4c48-812c-636844961a4b div.sk-parallel-item {display: flex;flex-direction: column;position: relative;background-color: white;}#sk-b31a6969-da0b-4c48-812c-636844961a4b div.sk-parallel-item:first-child::after {align-self: flex-end;width: 50%;}#sk-b31a6969-da0b-4c48-812c-636844961a4b div.sk-parallel-item:last-child::after {align-self: flex-start;width: 50%;}#sk-b31a6969-da0b-4c48-812c-636844961a4b div.sk-parallel-item:only-child::after {width: 0;}#sk-b31a6969-da0b-4c48-812c-636844961a4b div.sk-dashed-wrapped {border: 1px dashed gray;margin: 0.2em;box-sizing: border-box;padding-bottom: 0.1em;background-color: white;position: relative;}#sk-b31a6969-da0b-4c48-812c-636844961a4b div.sk-label label {font-family: monospace;font-weight: bold;background-color: white;display: inline-block;line-height: 1.2em;}#sk-b31a6969-da0b-4c48-812c-636844961a4b div.sk-label-container {position: relative;z-index: 2;text-align: center;}#sk-b31a6969-da0b-4c48-812c-636844961a4b div.sk-container {display: inline-block;position: relative;}</style><div id=\"sk-b31a6969-da0b-4c48-812c-636844961a4b\" class\"sk-top-container\"><div class=\"sk-container\"><div class=\"sk-item sk-dashed-wrapped\"><div class=\"sk-label-container\"><div class=\"sk-label sk-toggleable\"><input class=\"sk-toggleable__control sk-hidden--visually\" id=\"1d9f61f8-2e4d-49b8-95fa-e92693cc7d1a\" type=\"checkbox\" ><label class=\"sk-toggleable__label\" for=\"1d9f61f8-2e4d-49b8-95fa-e92693cc7d1a\">ColumnTransformer</label><div class=\"sk-toggleable__content\"><pre>ColumnTransformer(transformers=[('categorical_encoder',\n",
       "                                 Pipeline(steps=[('one_hot_encode',\n",
       "                                                  OneHotEncoder(handle_unknown='ignore',\n",
       "                                                                sparse=False))]),\n",
       "                                 ['original_language', 'status', 'all_genres',\n",
       "                                  'top_countries', 'available_in_english']),\n",
       "                                ('numerical_encoder',\n",
       "                                 Pipeline(steps=[('scaling',\n",
       "                                                  StandardScaler())]),\n",
       "                                 ['duration_min', 'budget',\n",
       "                                  'number_of_awards_won',\n",
       "                                  'number_of_nominations', 'has_collection',\n",
       "                                  'number_of_top_productions'])])</pre></div></div></div><div class=\"sk-parallel\"><div class=\"sk-parallel-item\"><div class=\"sk-item\"><div class=\"sk-label-container\"><div class=\"sk-label sk-toggleable\"><input class=\"sk-toggleable__control sk-hidden--visually\" id=\"ddcaf6ae-238d-403d-b56b-815301cc5b99\" type=\"checkbox\" ><label class=\"sk-toggleable__label\" for=\"ddcaf6ae-238d-403d-b56b-815301cc5b99\">categorical_encoder</label><div class=\"sk-toggleable__content\"><pre>['original_language', 'status', 'all_genres', 'top_countries', 'available_in_english']</pre></div></div></div><div class=\"sk-serial\"><div class=\"sk-item\"><div class=\"sk-serial\"><div class=\"sk-item\"><div class=\"sk-estimator sk-toggleable\"><input class=\"sk-toggleable__control sk-hidden--visually\" id=\"5880eaff-6bdc-47d9-a756-e5bb5f0a4091\" type=\"checkbox\" ><label class=\"sk-toggleable__label\" for=\"5880eaff-6bdc-47d9-a756-e5bb5f0a4091\">OneHotEncoder</label><div class=\"sk-toggleable__content\"><pre>OneHotEncoder(handle_unknown='ignore', sparse=False)</pre></div></div></div></div></div></div></div></div><div class=\"sk-parallel-item\"><div class=\"sk-item\"><div class=\"sk-label-container\"><div class=\"sk-label sk-toggleable\"><input class=\"sk-toggleable__control sk-hidden--visually\" id=\"45f522a7-81d2-421c-b8c3-b931a3b957e3\" type=\"checkbox\" ><label class=\"sk-toggleable__label\" for=\"45f522a7-81d2-421c-b8c3-b931a3b957e3\">numerical_encoder</label><div class=\"sk-toggleable__content\"><pre>['duration_min', 'budget', 'number_of_awards_won', 'number_of_nominations', 'has_collection', 'number_of_top_productions']</pre></div></div></div><div class=\"sk-serial\"><div class=\"sk-item\"><div class=\"sk-serial\"><div class=\"sk-item\"><div class=\"sk-estimator sk-toggleable\"><input class=\"sk-toggleable__control sk-hidden--visually\" id=\"e38b740f-2398-4962-8a6d-47e0797eda07\" type=\"checkbox\" ><label class=\"sk-toggleable__label\" for=\"e38b740f-2398-4962-8a6d-47e0797eda07\">StandardScaler</label><div class=\"sk-toggleable__content\"><pre>StandardScaler()</pre></div></div></div></div></div></div></div></div></div></div></div></div>"
      ],
      "text/plain": [
       "ColumnTransformer(transformers=[('categorical_encoder',\n",
       "                                 Pipeline(steps=[('one_hot_encode',\n",
       "                                                  OneHotEncoder(handle_unknown='ignore',\n",
       "                                                                sparse=False))]),\n",
       "                                 ['original_language', 'status', 'all_genres',\n",
       "                                  'top_countries', 'available_in_english']),\n",
       "                                ('numerical_encoder',\n",
       "                                 Pipeline(steps=[('scaling',\n",
       "                                                  StandardScaler())]),\n",
       "                                 ['duration_min', 'budget',\n",
       "                                  'number_of_awards_won',\n",
       "                                  'number_of_nominations', 'has_collection',\n",
       "                                  'number_of_top_productions'])])"
      ]
     },
     "execution_count": 28,
     "metadata": {},
     "output_type": "execute_result"
    }
   ],
   "source": [
    "categorical_encoder = Pipeline([('one_hot_encode', OneHotEncoder(handle_unknown='ignore',sparse=False))])\n",
    "\n",
    "numerical_encoder = Pipeline([('scaling', StandardScaler())])\n",
    "\n",
    "basic_preprocessing = ColumnTransformer([\n",
    "    ('categorical_encoder', categorical_encoder,categorical),\n",
    "    ('numerical_encoder', numerical_encoder,numerical)],remainder='drop')\n",
    "basic_preprocessing"
   ]
  },
  {
   "cell_type": "markdown",
   "metadata": {},
   "source": [
    "**📝 Encode the features and store the result in the variable `X_basic_preprocessing`.**"
   ]
  },
  {
   "cell_type": "code",
   "execution_count": 29,
   "metadata": {
    "ExecuteTime": {
     "end_time": "2021-06-29T17:29:13.523938Z",
     "start_time": "2021-06-29T17:29:13.499042Z"
    },
    "tags": [
     "challengify"
    ]
   },
   "outputs": [],
   "source": [
    "X_basic_preprocessing = basic_preprocessing.fit_transform(X)"
   ]
  },
  {
   "cell_type": "code",
   "execution_count": 30,
   "metadata": {},
   "outputs": [
    {
     "data": {
      "text/plain": [
       "(6463, 1118)"
      ]
     },
     "execution_count": 30,
     "metadata": {},
     "output_type": "execute_result"
    }
   ],
   "source": [
    "X_basic_preprocessing.shape"
   ]
  },
  {
   "cell_type": "markdown",
   "metadata": {},
   "source": [
    "**❓ How many features has been generated by the preprocessing? What do you think about this number?**"
   ]
  },
  {
   "cell_type": "markdown",
   "metadata": {
    "tags": [
     "challengify"
    ]
   },
   "source": [
    "> 1118 : Way too many features due to one hot encoding columns with too many possible values"
   ]
  },
  {
   "cell_type": "markdown",
   "metadata": {},
   "source": [
    "#### Modeling pipeline\n",
    "\n",
    "Let's add a model to our pipe. With so many features one-hot-encoded, we **need a model which can act as a feature selector**\n",
    "\n",
    "👉 A linear model regularized with L1 penalty is a good starting point.\n",
    "\n",
    "\n",
    "**📝 Create a `basic_pipeline` which encapsulate the `basic_preprocessing` pipeline + a linear model with a L1 penalty**\n",
    "\n",
    "- store the resulting pipeline as `basic_pipeline`\n",
    "- don't fine-tune it\n",
    "\n",
    "\n",
    "<details>\n",
    "    <summary>Hints</summary>\n",
    "\n",
    "Choose your model from the list [here](https://scikit-learn.org/stable/modules/classes.html#module-sklearn.linear_model)\n",
    "\n",
    "</details>"
   ]
  },
  {
   "cell_type": "code",
   "execution_count": 31,
   "metadata": {
    "ExecuteTime": {
     "end_time": "2021-06-29T17:29:13.614429Z",
     "start_time": "2021-06-29T17:29:13.609607Z"
    },
    "tags": [
     "challengify"
    ]
   },
   "outputs": [],
   "source": [
    "# Choose linear model with simple feature selection and L1 regularization\n",
    "from sklearn.linear_model import Lasso"
   ]
  },
  {
   "cell_type": "code",
   "execution_count": 32,
   "metadata": {},
   "outputs": [
    {
     "data": {
      "text/html": [
       "<style>#sk-e0d18ca3-4b76-436a-a1bc-fb27a3463122 {color: black;background-color: white;}#sk-e0d18ca3-4b76-436a-a1bc-fb27a3463122 pre{padding: 0;}#sk-e0d18ca3-4b76-436a-a1bc-fb27a3463122 div.sk-toggleable {background-color: white;}#sk-e0d18ca3-4b76-436a-a1bc-fb27a3463122 label.sk-toggleable__label {cursor: pointer;display: block;width: 100%;margin-bottom: 0;padding: 0.2em 0.3em;box-sizing: border-box;text-align: center;}#sk-e0d18ca3-4b76-436a-a1bc-fb27a3463122 div.sk-toggleable__content {max-height: 0;max-width: 0;overflow: hidden;text-align: left;background-color: #f0f8ff;}#sk-e0d18ca3-4b76-436a-a1bc-fb27a3463122 div.sk-toggleable__content pre {margin: 0.2em;color: black;border-radius: 0.25em;background-color: #f0f8ff;}#sk-e0d18ca3-4b76-436a-a1bc-fb27a3463122 input.sk-toggleable__control:checked~div.sk-toggleable__content {max-height: 200px;max-width: 100%;overflow: auto;}#sk-e0d18ca3-4b76-436a-a1bc-fb27a3463122 div.sk-estimator input.sk-toggleable__control:checked~label.sk-toggleable__label {background-color: #d4ebff;}#sk-e0d18ca3-4b76-436a-a1bc-fb27a3463122 div.sk-label input.sk-toggleable__control:checked~label.sk-toggleable__label {background-color: #d4ebff;}#sk-e0d18ca3-4b76-436a-a1bc-fb27a3463122 input.sk-hidden--visually {border: 0;clip: rect(1px 1px 1px 1px);clip: rect(1px, 1px, 1px, 1px);height: 1px;margin: -1px;overflow: hidden;padding: 0;position: absolute;width: 1px;}#sk-e0d18ca3-4b76-436a-a1bc-fb27a3463122 div.sk-estimator {font-family: monospace;background-color: #f0f8ff;margin: 0.25em 0.25em;border: 1px dotted black;border-radius: 0.25em;box-sizing: border-box;}#sk-e0d18ca3-4b76-436a-a1bc-fb27a3463122 div.sk-estimator:hover {background-color: #d4ebff;}#sk-e0d18ca3-4b76-436a-a1bc-fb27a3463122 div.sk-parallel-item::after {content: \"\";width: 100%;border-bottom: 1px solid gray;flex-grow: 1;}#sk-e0d18ca3-4b76-436a-a1bc-fb27a3463122 div.sk-label:hover label.sk-toggleable__label {background-color: #d4ebff;}#sk-e0d18ca3-4b76-436a-a1bc-fb27a3463122 div.sk-serial::before {content: \"\";position: absolute;border-left: 1px solid gray;box-sizing: border-box;top: 2em;bottom: 0;left: 50%;}#sk-e0d18ca3-4b76-436a-a1bc-fb27a3463122 div.sk-serial {display: flex;flex-direction: column;align-items: center;background-color: white;}#sk-e0d18ca3-4b76-436a-a1bc-fb27a3463122 div.sk-item {z-index: 1;}#sk-e0d18ca3-4b76-436a-a1bc-fb27a3463122 div.sk-parallel {display: flex;align-items: stretch;justify-content: center;background-color: white;}#sk-e0d18ca3-4b76-436a-a1bc-fb27a3463122 div.sk-parallel-item {display: flex;flex-direction: column;position: relative;background-color: white;}#sk-e0d18ca3-4b76-436a-a1bc-fb27a3463122 div.sk-parallel-item:first-child::after {align-self: flex-end;width: 50%;}#sk-e0d18ca3-4b76-436a-a1bc-fb27a3463122 div.sk-parallel-item:last-child::after {align-self: flex-start;width: 50%;}#sk-e0d18ca3-4b76-436a-a1bc-fb27a3463122 div.sk-parallel-item:only-child::after {width: 0;}#sk-e0d18ca3-4b76-436a-a1bc-fb27a3463122 div.sk-dashed-wrapped {border: 1px dashed gray;margin: 0.2em;box-sizing: border-box;padding-bottom: 0.1em;background-color: white;position: relative;}#sk-e0d18ca3-4b76-436a-a1bc-fb27a3463122 div.sk-label label {font-family: monospace;font-weight: bold;background-color: white;display: inline-block;line-height: 1.2em;}#sk-e0d18ca3-4b76-436a-a1bc-fb27a3463122 div.sk-label-container {position: relative;z-index: 2;text-align: center;}#sk-e0d18ca3-4b76-436a-a1bc-fb27a3463122 div.sk-container {display: inline-block;position: relative;}</style><div id=\"sk-e0d18ca3-4b76-436a-a1bc-fb27a3463122\" class\"sk-top-container\"><div class=\"sk-container\"><div class=\"sk-item sk-dashed-wrapped\"><div class=\"sk-label-container\"><div class=\"sk-label sk-toggleable\"><input class=\"sk-toggleable__control sk-hidden--visually\" id=\"a1e79f0f-a58c-4328-923e-e53bd6da154e\" type=\"checkbox\" ><label class=\"sk-toggleable__label\" for=\"a1e79f0f-a58c-4328-923e-e53bd6da154e\">Pipeline</label><div class=\"sk-toggleable__content\"><pre>Pipeline(steps=[('preprocessing',\n",
       "                 ColumnTransformer(transformers=[('categorical_encoder',\n",
       "                                                  Pipeline(steps=[('one_hot_encode',\n",
       "                                                                   OneHotEncoder(handle_unknown='ignore',\n",
       "                                                                                 sparse=False))]),\n",
       "                                                  ['original_language',\n",
       "                                                   'status', 'all_genres',\n",
       "                                                   'top_countries',\n",
       "                                                   'available_in_english']),\n",
       "                                                 ('numerical_encoder',\n",
       "                                                  Pipeline(steps=[('scaling',\n",
       "                                                                   StandardScaler())]),\n",
       "                                                  ['duration_min', 'budget',\n",
       "                                                   'number_of_awards_won',\n",
       "                                                   'number_of_nominations',\n",
       "                                                   'has_collection',\n",
       "                                                   'number_of_top_productions'])])),\n",
       "                ('linear_regression', Lasso())])</pre></div></div></div><div class=\"sk-serial\"><div class=\"sk-item sk-dashed-wrapped\"><div class=\"sk-label-container\"><div class=\"sk-label sk-toggleable\"><input class=\"sk-toggleable__control sk-hidden--visually\" id=\"af0a71a6-676c-4c5c-b9eb-220e1cf5f390\" type=\"checkbox\" ><label class=\"sk-toggleable__label\" for=\"af0a71a6-676c-4c5c-b9eb-220e1cf5f390\">preprocessing: ColumnTransformer</label><div class=\"sk-toggleable__content\"><pre>ColumnTransformer(transformers=[('categorical_encoder',\n",
       "                                 Pipeline(steps=[('one_hot_encode',\n",
       "                                                  OneHotEncoder(handle_unknown='ignore',\n",
       "                                                                sparse=False))]),\n",
       "                                 ['original_language', 'status', 'all_genres',\n",
       "                                  'top_countries', 'available_in_english']),\n",
       "                                ('numerical_encoder',\n",
       "                                 Pipeline(steps=[('scaling',\n",
       "                                                  StandardScaler())]),\n",
       "                                 ['duration_min', 'budget',\n",
       "                                  'number_of_awards_won',\n",
       "                                  'number_of_nominations', 'has_collection',\n",
       "                                  'number_of_top_productions'])])</pre></div></div></div><div class=\"sk-parallel\"><div class=\"sk-parallel-item\"><div class=\"sk-item\"><div class=\"sk-label-container\"><div class=\"sk-label sk-toggleable\"><input class=\"sk-toggleable__control sk-hidden--visually\" id=\"88601a5c-2c51-4058-b35e-fa2d1f496466\" type=\"checkbox\" ><label class=\"sk-toggleable__label\" for=\"88601a5c-2c51-4058-b35e-fa2d1f496466\">categorical_encoder</label><div class=\"sk-toggleable__content\"><pre>['original_language', 'status', 'all_genres', 'top_countries', 'available_in_english']</pre></div></div></div><div class=\"sk-serial\"><div class=\"sk-item\"><div class=\"sk-serial\"><div class=\"sk-item\"><div class=\"sk-estimator sk-toggleable\"><input class=\"sk-toggleable__control sk-hidden--visually\" id=\"9cd4f6d5-4fd0-495b-9446-855b7657fc48\" type=\"checkbox\" ><label class=\"sk-toggleable__label\" for=\"9cd4f6d5-4fd0-495b-9446-855b7657fc48\">OneHotEncoder</label><div class=\"sk-toggleable__content\"><pre>OneHotEncoder(handle_unknown='ignore', sparse=False)</pre></div></div></div></div></div></div></div></div><div class=\"sk-parallel-item\"><div class=\"sk-item\"><div class=\"sk-label-container\"><div class=\"sk-label sk-toggleable\"><input class=\"sk-toggleable__control sk-hidden--visually\" id=\"aca8c49d-1f2b-4dde-8d65-56da423c2635\" type=\"checkbox\" ><label class=\"sk-toggleable__label\" for=\"aca8c49d-1f2b-4dde-8d65-56da423c2635\">numerical_encoder</label><div class=\"sk-toggleable__content\"><pre>['duration_min', 'budget', 'number_of_awards_won', 'number_of_nominations', 'has_collection', 'number_of_top_productions']</pre></div></div></div><div class=\"sk-serial\"><div class=\"sk-item\"><div class=\"sk-serial\"><div class=\"sk-item\"><div class=\"sk-estimator sk-toggleable\"><input class=\"sk-toggleable__control sk-hidden--visually\" id=\"c0de16e3-bc5b-4f22-9e87-f5be114cc8b6\" type=\"checkbox\" ><label class=\"sk-toggleable__label\" for=\"c0de16e3-bc5b-4f22-9e87-f5be114cc8b6\">StandardScaler</label><div class=\"sk-toggleable__content\"><pre>StandardScaler()</pre></div></div></div></div></div></div></div></div></div></div><div class=\"sk-item\"><div class=\"sk-estimator sk-toggleable\"><input class=\"sk-toggleable__control sk-hidden--visually\" id=\"43c13940-d246-4b91-8885-2971959f3bb5\" type=\"checkbox\" ><label class=\"sk-toggleable__label\" for=\"43c13940-d246-4b91-8885-2971959f3bb5\">Lasso</label><div class=\"sk-toggleable__content\"><pre>Lasso()</pre></div></div></div></div></div></div></div>"
      ],
      "text/plain": [
       "Pipeline(steps=[('preprocessing',\n",
       "                 ColumnTransformer(transformers=[('categorical_encoder',\n",
       "                                                  Pipeline(steps=[('one_hot_encode',\n",
       "                                                                   OneHotEncoder(handle_unknown='ignore',\n",
       "                                                                                 sparse=False))]),\n",
       "                                                  ['original_language',\n",
       "                                                   'status', 'all_genres',\n",
       "                                                   'top_countries',\n",
       "                                                   'available_in_english']),\n",
       "                                                 ('numerical_encoder',\n",
       "                                                  Pipeline(steps=[('scaling',\n",
       "                                                                   StandardScaler())]),\n",
       "                                                  ['duration_min', 'budget',\n",
       "                                                   'number_of_awards_won',\n",
       "                                                   'number_of_nominations',\n",
       "                                                   'has_collection',\n",
       "                                                   'number_of_top_productions'])])),\n",
       "                ('linear_regression', Lasso())])"
      ]
     },
     "execution_count": 32,
     "metadata": {},
     "output_type": "execute_result"
    }
   ],
   "source": [
    "basic_pipeline = Pipeline([\n",
    "    ('preprocessing', basic_preprocessing),\n",
    "    ('linear_regression', Lasso())])\n",
    "basic_pipeline"
   ]
  },
  {
   "cell_type": "markdown",
   "metadata": {},
   "source": [
    "### Cross-validated baseline\n",
    "\n",
    "**📝 Perform a cross-validated evaluation of your baseline model using the metric you defined above. Store the results of this evaluation as an `array` of floating scores in the `basic_scores` variable.**"
   ]
  },
  {
   "cell_type": "code",
   "execution_count": 33,
   "metadata": {
    "ExecuteTime": {
     "end_time": "2021-06-29T17:29:13.834847Z",
     "start_time": "2021-06-29T17:29:13.634994Z"
    },
    "scrolled": false,
    "tags": [
     "challengify"
    ]
   },
   "outputs": [],
   "source": [
    "from sklearn.model_selection import cross_val_score\n",
    "from sklearn.metrics import mean_absolute_percentage_error"
   ]
  },
  {
   "cell_type": "code",
   "execution_count": 34,
   "metadata": {},
   "outputs": [
    {
     "data": {
      "text/plain": [
       "array([-0.83776251, -0.97171224, -0.9191002 , -0.90719379, -0.91872668])"
      ]
     },
     "execution_count": 34,
     "metadata": {},
     "output_type": "execute_result"
    }
   ],
   "source": [
    "basic_scores = cross_val_score(basic_pipeline, X, y, cv=5, scoring='neg_mean_absolute_percentage_error')\n",
    "basic_scores"
   ]
  },
  {
   "cell_type": "markdown",
   "metadata": {},
   "source": [
    "### 🧪 Save your results\n",
    "\n",
    "Run the following cell to save your results"
   ]
  },
  {
   "cell_type": "code",
   "execution_count": 35,
   "metadata": {
    "ExecuteTime": {
     "end_time": "2021-06-29T17:29:13.848670Z",
     "start_time": "2021-06-29T17:29:13.844198Z"
    }
   },
   "outputs": [],
   "source": [
    "ChallengeResult(\n",
    "    'baseline',\n",
    "    metric=scoring,\n",
    "    features=[categorical,numerical],\n",
    "    preproc=basic_preprocessing,\n",
    "    preproc_shape=X_basic_preprocessing.shape,\n",
    "    pipe=basic_pipeline,\n",
    "    scores=basic_scores\n",
    ").write()"
   ]
  },
  {
   "cell_type": "markdown",
   "metadata": {},
   "source": [
    "## Feature engineering"
   ]
  },
  {
   "cell_type": "markdown",
   "metadata": {},
   "source": [
    "### Time Features\n",
    "\n",
    "\n",
    "👉 Let's try to improve performance using the feature `release_date`, and especially its `month` and `year`.\n",
    "\n",
    "ℹ️ If you want to skip this section, you can move directly to the next one: _Advanced categorical features_."
   ]
  },
  {
   "cell_type": "markdown",
   "metadata": {},
   "source": [
    "**📝 Complete the custom transformer `TimeFeaturesExtractor` below**\n",
    "\n",
    "Running\n",
    "```python\n",
    "TimeFeaturesExtractor().fit_transform(X[['release_date']])\n",
    "``` \n",
    "should return something like\n",
    "\n",
    "|    |   month |   year |\n",
    "|---:|--------:|-------:|\n",
    "|  0 |       2 |   2015 |\n",
    "|  1 |       8 |   2004 |\n",
    "|  2 |      10 |   2014 |\n",
    "|  3 |       3 |   2012 |\n",
    "|  4 |       8 |   2012 |\n"
   ]
  },
  {
   "cell_type": "code",
   "execution_count": 36,
   "metadata": {
    "ExecuteTime": {
     "end_time": "2021-06-29T17:29:13.859554Z",
     "start_time": "2021-06-29T17:29:13.855428Z"
    }
   },
   "outputs": [],
   "source": [
    "from sklearn.base import BaseEstimator, TransformerMixin\n",
    "\n",
    "class TimeFeaturesExtractor(BaseEstimator, TransformerMixin):\n",
    "    \"\"\"Extract the 2 time features from a date\"\"\"\n",
    "    \n",
    "    def fit(self, X, y=None):\n",
    "        return self\n",
    "    \n",
    "    def transform(self, X, y=None):\n",
    "        \"\"\"\n",
    "        Params:\n",
    "        X: DataFrame\n",
    "        y: Series\n",
    "        \n",
    "        Returns a DataFrame with 2 columns containing the time features as integers extracted from the release_date.\n",
    "        \"\"\"\n",
    "        df = pd.DataFrame()\n",
    "        df['month'] = pd.DatetimeIndex(X['release_date']).month\n",
    "        df['year'] = pd.DatetimeIndex(X['release_date']).year\n",
    "        return df"
   ]
  },
  {
   "cell_type": "code",
   "execution_count": 37,
   "metadata": {
    "ExecuteTime": {
     "end_time": "2021-06-29T17:29:13.877264Z",
     "start_time": "2021-06-29T17:29:13.862231Z"
    }
   },
   "outputs": [
    {
     "data": {
      "text/html": [
       "<div>\n",
       "<style scoped>\n",
       "    .dataframe tbody tr th:only-of-type {\n",
       "        vertical-align: middle;\n",
       "    }\n",
       "\n",
       "    .dataframe tbody tr th {\n",
       "        vertical-align: top;\n",
       "    }\n",
       "\n",
       "    .dataframe thead th {\n",
       "        text-align: right;\n",
       "    }\n",
       "</style>\n",
       "<table border=\"1\" class=\"dataframe\">\n",
       "  <thead>\n",
       "    <tr style=\"text-align: right;\">\n",
       "      <th></th>\n",
       "      <th>month</th>\n",
       "      <th>year</th>\n",
       "    </tr>\n",
       "  </thead>\n",
       "  <tbody>\n",
       "    <tr>\n",
       "      <th>0</th>\n",
       "      <td>2</td>\n",
       "      <td>2015</td>\n",
       "    </tr>\n",
       "    <tr>\n",
       "      <th>1</th>\n",
       "      <td>8</td>\n",
       "      <td>2004</td>\n",
       "    </tr>\n",
       "    <tr>\n",
       "      <th>2</th>\n",
       "      <td>10</td>\n",
       "      <td>2014</td>\n",
       "    </tr>\n",
       "    <tr>\n",
       "      <th>3</th>\n",
       "      <td>3</td>\n",
       "      <td>2012</td>\n",
       "    </tr>\n",
       "    <tr>\n",
       "      <th>4</th>\n",
       "      <td>8</td>\n",
       "      <td>2012</td>\n",
       "    </tr>\n",
       "  </tbody>\n",
       "</table>\n",
       "</div>"
      ],
      "text/plain": [
       "   month  year\n",
       "0      2  2015\n",
       "1      8  2004\n",
       "2     10  2014\n",
       "3      3  2012\n",
       "4      8  2012"
      ]
     },
     "execution_count": 37,
     "metadata": {},
     "output_type": "execute_result"
    }
   ],
   "source": [
    "# Try your transformer and save your new features here\n",
    "X_time_features = TimeFeaturesExtractor().fit_transform(X[['release_date']])\n",
    "X_time_features.head()"
   ]
  },
  {
   "cell_type": "markdown",
   "metadata": {},
   "source": [
    "We still have 2 problems to solve\n",
    "- `month` is cyclical: 12 should be a close to 1 as to 11, right? \n",
    "- `year` is not scaled\n",
    "\n",
    "**📝 Build a final custom transformer `CyclicalEncoder` so that**\n",
    "\n",
    "Running\n",
    "```python\n",
    "CyclicalEncoder().fit_transform(X_time_features)\n",
    "``` \n",
    "should return something like this\n",
    "\n",
    "|    |    month_cos |   month_sin |      year |\n",
    "|---:|-------------:|------------:|----------:|\n",
    "|  0 |  0.5         |    0.866025 | 0.0466039 |\n",
    "|  1 | -0.5         |   -0.866025 | 0.0411502 |\n",
    "|  2 |  0.5         |   -0.866025 | 0.0461081 |\n",
    "|  3 |  6.12323e-17 |    1        | 0.0451165 |\n",
    "|  4 | -0.5         |   -0.866025 | 0.0451165 |\n",
    "\n",
    "With the cyclical encoding is done as below\n",
    "- `month_cos = 2 * math.pi / 12 * X[['month']] `\n",
    "- `month_sin = 2 * math.pi / 12 * X[['month']] `\n",
    "\n",
    "And the `year` begin min-max scaled"
   ]
  },
  {
   "cell_type": "code",
   "execution_count": 38,
   "metadata": {
    "ExecuteTime": {
     "end_time": "2021-06-29T17:29:13.884690Z",
     "start_time": "2021-06-29T17:29:13.879274Z"
    }
   },
   "outputs": [],
   "source": [
    "from sklearn.base import BaseEstimator, TransformerMixin\n",
    "import math\n",
    "\n",
    "class CyclicalEncoder(BaseEstimator, TransformerMixin):\n",
    "    \"\"\"\n",
    "    Encode a cyclical feature\n",
    "    \"\"\"\n",
    "    \n",
    "    def __init__(self):\n",
    "        pass\n",
    "\n",
    "    def fit(self, X, y=None):\n",
    "        \"\"\"\n",
    "        Compute here what you need for the transform phase and store it as instance variable\n",
    "        \"\"\"\n",
    "        \n",
    "        return self\n",
    "\n",
    "    def transform(self, X, y=None):\n",
    "        \"\"\"\n",
    "        Compute and returns the final DataFrame\n",
    "        \"\"\"\n",
    "        pass  # YOUR CODE HERE"
   ]
  },
  {
   "cell_type": "code",
   "execution_count": 39,
   "metadata": {
    "ExecuteTime": {
     "end_time": "2021-06-29T17:29:13.899004Z",
     "start_time": "2021-06-29T17:29:13.886894Z"
    }
   },
   "outputs": [],
   "source": [
    "# Try your transformer and save your new features here\n",
    "#X_time_cyclical = CyclicalEncoder().fit_transform(X_time_features)\n",
    "#X_time_cyclical.head()\n",
    "\n",
    "# Pour le test on crée un dataframe vide\n",
    "X_time_cyclical=pd.DataFrame()"
   ]
  },
  {
   "cell_type": "code",
   "execution_count": 40,
   "metadata": {
    "ExecuteTime": {
     "end_time": "2021-06-29T17:29:14.052971Z",
     "start_time": "2021-06-29T17:29:13.900696Z"
    }
   },
   "outputs": [],
   "source": [
    "# Check that this form a circle with 12 points\n",
    "#plt.scatter(X_time_cyclical['month_cos'],\n",
    "#            X_time_cyclical['month_sin'])\n",
    "#plt.xlabel(\"month_cos\"); plt.ylabel(\"month_sin\");"
   ]
  },
  {
   "cell_type": "markdown",
   "metadata": {},
   "source": [
    "**📝 Enhance your `basic_pipeline` with a new preprocessing including both `TimeFeaturesExtractor` and `CyclicalFeatureExtractor`:**\n",
    "\n",
    "- Just use `TimeFeatureExtractor` if you haven't had time to do the `Cyclical` one\n",
    "- Store this new pipeline as `time_pipeline`\n",
    "- Keep same estimator for now"
   ]
  },
  {
   "cell_type": "code",
   "execution_count": 41,
   "metadata": {},
   "outputs": [
    {
     "data": {
      "text/html": [
       "<style>#sk-f767574e-9876-43fe-9549-e8bcd9b72788 {color: black;background-color: white;}#sk-f767574e-9876-43fe-9549-e8bcd9b72788 pre{padding: 0;}#sk-f767574e-9876-43fe-9549-e8bcd9b72788 div.sk-toggleable {background-color: white;}#sk-f767574e-9876-43fe-9549-e8bcd9b72788 label.sk-toggleable__label {cursor: pointer;display: block;width: 100%;margin-bottom: 0;padding: 0.2em 0.3em;box-sizing: border-box;text-align: center;}#sk-f767574e-9876-43fe-9549-e8bcd9b72788 div.sk-toggleable__content {max-height: 0;max-width: 0;overflow: hidden;text-align: left;background-color: #f0f8ff;}#sk-f767574e-9876-43fe-9549-e8bcd9b72788 div.sk-toggleable__content pre {margin: 0.2em;color: black;border-radius: 0.25em;background-color: #f0f8ff;}#sk-f767574e-9876-43fe-9549-e8bcd9b72788 input.sk-toggleable__control:checked~div.sk-toggleable__content {max-height: 200px;max-width: 100%;overflow: auto;}#sk-f767574e-9876-43fe-9549-e8bcd9b72788 div.sk-estimator input.sk-toggleable__control:checked~label.sk-toggleable__label {background-color: #d4ebff;}#sk-f767574e-9876-43fe-9549-e8bcd9b72788 div.sk-label input.sk-toggleable__control:checked~label.sk-toggleable__label {background-color: #d4ebff;}#sk-f767574e-9876-43fe-9549-e8bcd9b72788 input.sk-hidden--visually {border: 0;clip: rect(1px 1px 1px 1px);clip: rect(1px, 1px, 1px, 1px);height: 1px;margin: -1px;overflow: hidden;padding: 0;position: absolute;width: 1px;}#sk-f767574e-9876-43fe-9549-e8bcd9b72788 div.sk-estimator {font-family: monospace;background-color: #f0f8ff;margin: 0.25em 0.25em;border: 1px dotted black;border-radius: 0.25em;box-sizing: border-box;}#sk-f767574e-9876-43fe-9549-e8bcd9b72788 div.sk-estimator:hover {background-color: #d4ebff;}#sk-f767574e-9876-43fe-9549-e8bcd9b72788 div.sk-parallel-item::after {content: \"\";width: 100%;border-bottom: 1px solid gray;flex-grow: 1;}#sk-f767574e-9876-43fe-9549-e8bcd9b72788 div.sk-label:hover label.sk-toggleable__label {background-color: #d4ebff;}#sk-f767574e-9876-43fe-9549-e8bcd9b72788 div.sk-serial::before {content: \"\";position: absolute;border-left: 1px solid gray;box-sizing: border-box;top: 2em;bottom: 0;left: 50%;}#sk-f767574e-9876-43fe-9549-e8bcd9b72788 div.sk-serial {display: flex;flex-direction: column;align-items: center;background-color: white;}#sk-f767574e-9876-43fe-9549-e8bcd9b72788 div.sk-item {z-index: 1;}#sk-f767574e-9876-43fe-9549-e8bcd9b72788 div.sk-parallel {display: flex;align-items: stretch;justify-content: center;background-color: white;}#sk-f767574e-9876-43fe-9549-e8bcd9b72788 div.sk-parallel-item {display: flex;flex-direction: column;position: relative;background-color: white;}#sk-f767574e-9876-43fe-9549-e8bcd9b72788 div.sk-parallel-item:first-child::after {align-self: flex-end;width: 50%;}#sk-f767574e-9876-43fe-9549-e8bcd9b72788 div.sk-parallel-item:last-child::after {align-self: flex-start;width: 50%;}#sk-f767574e-9876-43fe-9549-e8bcd9b72788 div.sk-parallel-item:only-child::after {width: 0;}#sk-f767574e-9876-43fe-9549-e8bcd9b72788 div.sk-dashed-wrapped {border: 1px dashed gray;margin: 0.2em;box-sizing: border-box;padding-bottom: 0.1em;background-color: white;position: relative;}#sk-f767574e-9876-43fe-9549-e8bcd9b72788 div.sk-label label {font-family: monospace;font-weight: bold;background-color: white;display: inline-block;line-height: 1.2em;}#sk-f767574e-9876-43fe-9549-e8bcd9b72788 div.sk-label-container {position: relative;z-index: 2;text-align: center;}#sk-f767574e-9876-43fe-9549-e8bcd9b72788 div.sk-container {display: inline-block;position: relative;}</style><div id=\"sk-f767574e-9876-43fe-9549-e8bcd9b72788\" class\"sk-top-container\"><div class=\"sk-container\"><div class=\"sk-item sk-dashed-wrapped\"><div class=\"sk-label-container\"><div class=\"sk-label sk-toggleable\"><input class=\"sk-toggleable__control sk-hidden--visually\" id=\"91c4f2bd-dad1-4f86-9b78-92245596bc5a\" type=\"checkbox\" ><label class=\"sk-toggleable__label\" for=\"91c4f2bd-dad1-4f86-9b78-92245596bc5a\">ColumnTransformer</label><div class=\"sk-toggleable__content\"><pre>ColumnTransformer(transformers=[('time_encoder', TimeFeaturesExtractor(),\n",
       "                                 ['release_date']),\n",
       "                                ('categorical_encoder',\n",
       "                                 Pipeline(steps=[('one_hot_encode',\n",
       "                                                  OneHotEncoder(handle_unknown='ignore',\n",
       "                                                                sparse=False))]),\n",
       "                                 ['original_language', 'status', 'all_genres',\n",
       "                                  'top_countries', 'available_in_english']),\n",
       "                                ('numerical_encoder',\n",
       "                                 Pipeline(steps=[('scaling',\n",
       "                                                  StandardScaler())]),\n",
       "                                 ['duration_min', 'budget',\n",
       "                                  'number_of_awards_won',\n",
       "                                  'number_of_nominations', 'has_collection',\n",
       "                                  'number_of_top_productions'])])</pre></div></div></div><div class=\"sk-parallel\"><div class=\"sk-parallel-item\"><div class=\"sk-item\"><div class=\"sk-label-container\"><div class=\"sk-label sk-toggleable\"><input class=\"sk-toggleable__control sk-hidden--visually\" id=\"51a0639b-633b-424b-82fb-dc6718ff077b\" type=\"checkbox\" ><label class=\"sk-toggleable__label\" for=\"51a0639b-633b-424b-82fb-dc6718ff077b\">time_encoder</label><div class=\"sk-toggleable__content\"><pre>['release_date']</pre></div></div></div><div class=\"sk-serial\"><div class=\"sk-item\"><div class=\"sk-estimator sk-toggleable\"><input class=\"sk-toggleable__control sk-hidden--visually\" id=\"2805660b-b2e7-4e51-9494-f426ec32fd92\" type=\"checkbox\" ><label class=\"sk-toggleable__label\" for=\"2805660b-b2e7-4e51-9494-f426ec32fd92\">TimeFeaturesExtractor</label><div class=\"sk-toggleable__content\"><pre>TimeFeaturesExtractor()</pre></div></div></div></div></div></div><div class=\"sk-parallel-item\"><div class=\"sk-item\"><div class=\"sk-label-container\"><div class=\"sk-label sk-toggleable\"><input class=\"sk-toggleable__control sk-hidden--visually\" id=\"93788dd5-970e-4b60-b4b5-019f258bd8d5\" type=\"checkbox\" ><label class=\"sk-toggleable__label\" for=\"93788dd5-970e-4b60-b4b5-019f258bd8d5\">categorical_encoder</label><div class=\"sk-toggleable__content\"><pre>['original_language', 'status', 'all_genres', 'top_countries', 'available_in_english']</pre></div></div></div><div class=\"sk-serial\"><div class=\"sk-item\"><div class=\"sk-serial\"><div class=\"sk-item\"><div class=\"sk-estimator sk-toggleable\"><input class=\"sk-toggleable__control sk-hidden--visually\" id=\"c40561b4-b769-469b-b159-729e875a4a8c\" type=\"checkbox\" ><label class=\"sk-toggleable__label\" for=\"c40561b4-b769-469b-b159-729e875a4a8c\">OneHotEncoder</label><div class=\"sk-toggleable__content\"><pre>OneHotEncoder(handle_unknown='ignore', sparse=False)</pre></div></div></div></div></div></div></div></div><div class=\"sk-parallel-item\"><div class=\"sk-item\"><div class=\"sk-label-container\"><div class=\"sk-label sk-toggleable\"><input class=\"sk-toggleable__control sk-hidden--visually\" id=\"64641ca0-9e77-42b4-9141-b4262466432e\" type=\"checkbox\" ><label class=\"sk-toggleable__label\" for=\"64641ca0-9e77-42b4-9141-b4262466432e\">numerical_encoder</label><div class=\"sk-toggleable__content\"><pre>['duration_min', 'budget', 'number_of_awards_won', 'number_of_nominations', 'has_collection', 'number_of_top_productions']</pre></div></div></div><div class=\"sk-serial\"><div class=\"sk-item\"><div class=\"sk-serial\"><div class=\"sk-item\"><div class=\"sk-estimator sk-toggleable\"><input class=\"sk-toggleable__control sk-hidden--visually\" id=\"fbe52b41-fc97-400c-9865-9a6c5a7521ce\" type=\"checkbox\" ><label class=\"sk-toggleable__label\" for=\"fbe52b41-fc97-400c-9865-9a6c5a7521ce\">StandardScaler</label><div class=\"sk-toggleable__content\"><pre>StandardScaler()</pre></div></div></div></div></div></div></div></div></div></div></div></div>"
      ],
      "text/plain": [
       "ColumnTransformer(transformers=[('time_encoder', TimeFeaturesExtractor(),\n",
       "                                 ['release_date']),\n",
       "                                ('categorical_encoder',\n",
       "                                 Pipeline(steps=[('one_hot_encode',\n",
       "                                                  OneHotEncoder(handle_unknown='ignore',\n",
       "                                                                sparse=False))]),\n",
       "                                 ['original_language', 'status', 'all_genres',\n",
       "                                  'top_countries', 'available_in_english']),\n",
       "                                ('numerical_encoder',\n",
       "                                 Pipeline(steps=[('scaling',\n",
       "                                                  StandardScaler())]),\n",
       "                                 ['duration_min', 'budget',\n",
       "                                  'number_of_awards_won',\n",
       "                                  'number_of_nominations', 'has_collection',\n",
       "                                  'number_of_top_productions'])])"
      ]
     },
     "execution_count": 41,
     "metadata": {},
     "output_type": "execute_result"
    }
   ],
   "source": [
    "updated_preprocessing = ColumnTransformer([\n",
    "    ('time_encoder',TimeFeaturesExtractor(),['release_date']),\n",
    "    ('categorical_encoder', categorical_encoder,categorical),\n",
    "    ('numerical_encoder', numerical_encoder,numerical)],remainder='drop')\n",
    "updated_preprocessing"
   ]
  },
  {
   "cell_type": "code",
   "execution_count": 42,
   "metadata": {},
   "outputs": [
    {
     "data": {
      "text/html": [
       "<style>#sk-ecb7bd92-1f61-4e2d-9039-5fba21311676 {color: black;background-color: white;}#sk-ecb7bd92-1f61-4e2d-9039-5fba21311676 pre{padding: 0;}#sk-ecb7bd92-1f61-4e2d-9039-5fba21311676 div.sk-toggleable {background-color: white;}#sk-ecb7bd92-1f61-4e2d-9039-5fba21311676 label.sk-toggleable__label {cursor: pointer;display: block;width: 100%;margin-bottom: 0;padding: 0.2em 0.3em;box-sizing: border-box;text-align: center;}#sk-ecb7bd92-1f61-4e2d-9039-5fba21311676 div.sk-toggleable__content {max-height: 0;max-width: 0;overflow: hidden;text-align: left;background-color: #f0f8ff;}#sk-ecb7bd92-1f61-4e2d-9039-5fba21311676 div.sk-toggleable__content pre {margin: 0.2em;color: black;border-radius: 0.25em;background-color: #f0f8ff;}#sk-ecb7bd92-1f61-4e2d-9039-5fba21311676 input.sk-toggleable__control:checked~div.sk-toggleable__content {max-height: 200px;max-width: 100%;overflow: auto;}#sk-ecb7bd92-1f61-4e2d-9039-5fba21311676 div.sk-estimator input.sk-toggleable__control:checked~label.sk-toggleable__label {background-color: #d4ebff;}#sk-ecb7bd92-1f61-4e2d-9039-5fba21311676 div.sk-label input.sk-toggleable__control:checked~label.sk-toggleable__label {background-color: #d4ebff;}#sk-ecb7bd92-1f61-4e2d-9039-5fba21311676 input.sk-hidden--visually {border: 0;clip: rect(1px 1px 1px 1px);clip: rect(1px, 1px, 1px, 1px);height: 1px;margin: -1px;overflow: hidden;padding: 0;position: absolute;width: 1px;}#sk-ecb7bd92-1f61-4e2d-9039-5fba21311676 div.sk-estimator {font-family: monospace;background-color: #f0f8ff;margin: 0.25em 0.25em;border: 1px dotted black;border-radius: 0.25em;box-sizing: border-box;}#sk-ecb7bd92-1f61-4e2d-9039-5fba21311676 div.sk-estimator:hover {background-color: #d4ebff;}#sk-ecb7bd92-1f61-4e2d-9039-5fba21311676 div.sk-parallel-item::after {content: \"\";width: 100%;border-bottom: 1px solid gray;flex-grow: 1;}#sk-ecb7bd92-1f61-4e2d-9039-5fba21311676 div.sk-label:hover label.sk-toggleable__label {background-color: #d4ebff;}#sk-ecb7bd92-1f61-4e2d-9039-5fba21311676 div.sk-serial::before {content: \"\";position: absolute;border-left: 1px solid gray;box-sizing: border-box;top: 2em;bottom: 0;left: 50%;}#sk-ecb7bd92-1f61-4e2d-9039-5fba21311676 div.sk-serial {display: flex;flex-direction: column;align-items: center;background-color: white;}#sk-ecb7bd92-1f61-4e2d-9039-5fba21311676 div.sk-item {z-index: 1;}#sk-ecb7bd92-1f61-4e2d-9039-5fba21311676 div.sk-parallel {display: flex;align-items: stretch;justify-content: center;background-color: white;}#sk-ecb7bd92-1f61-4e2d-9039-5fba21311676 div.sk-parallel-item {display: flex;flex-direction: column;position: relative;background-color: white;}#sk-ecb7bd92-1f61-4e2d-9039-5fba21311676 div.sk-parallel-item:first-child::after {align-self: flex-end;width: 50%;}#sk-ecb7bd92-1f61-4e2d-9039-5fba21311676 div.sk-parallel-item:last-child::after {align-self: flex-start;width: 50%;}#sk-ecb7bd92-1f61-4e2d-9039-5fba21311676 div.sk-parallel-item:only-child::after {width: 0;}#sk-ecb7bd92-1f61-4e2d-9039-5fba21311676 div.sk-dashed-wrapped {border: 1px dashed gray;margin: 0.2em;box-sizing: border-box;padding-bottom: 0.1em;background-color: white;position: relative;}#sk-ecb7bd92-1f61-4e2d-9039-5fba21311676 div.sk-label label {font-family: monospace;font-weight: bold;background-color: white;display: inline-block;line-height: 1.2em;}#sk-ecb7bd92-1f61-4e2d-9039-5fba21311676 div.sk-label-container {position: relative;z-index: 2;text-align: center;}#sk-ecb7bd92-1f61-4e2d-9039-5fba21311676 div.sk-container {display: inline-block;position: relative;}</style><div id=\"sk-ecb7bd92-1f61-4e2d-9039-5fba21311676\" class\"sk-top-container\"><div class=\"sk-container\"><div class=\"sk-item sk-dashed-wrapped\"><div class=\"sk-label-container\"><div class=\"sk-label sk-toggleable\"><input class=\"sk-toggleable__control sk-hidden--visually\" id=\"5000b288-4a19-4d41-a4e7-ce37212c5bba\" type=\"checkbox\" ><label class=\"sk-toggleable__label\" for=\"5000b288-4a19-4d41-a4e7-ce37212c5bba\">Pipeline</label><div class=\"sk-toggleable__content\"><pre>Pipeline(steps=[('preprocessing',\n",
       "                 ColumnTransformer(transformers=[('time_encoder',\n",
       "                                                  TimeFeaturesExtractor(),\n",
       "                                                  ['release_date']),\n",
       "                                                 ('categorical_encoder',\n",
       "                                                  Pipeline(steps=[('one_hot_encode',\n",
       "                                                                   OneHotEncoder(handle_unknown='ignore',\n",
       "                                                                                 sparse=False))]),\n",
       "                                                  ['original_language',\n",
       "                                                   'status', 'all_genres',\n",
       "                                                   'top_countries',\n",
       "                                                   'available_in_english']),\n",
       "                                                 ('numerical_encoder',\n",
       "                                                  Pipeline(steps=[('scaling',\n",
       "                                                                   StandardScaler())]),\n",
       "                                                  ['duration_min', 'budget',\n",
       "                                                   'number_of_awards_won',\n",
       "                                                   'number_of_nominations',\n",
       "                                                   'has_collection',\n",
       "                                                   'number_of_top_productions'])])),\n",
       "                ('linear_regression', Lasso())])</pre></div></div></div><div class=\"sk-serial\"><div class=\"sk-item sk-dashed-wrapped\"><div class=\"sk-label-container\"><div class=\"sk-label sk-toggleable\"><input class=\"sk-toggleable__control sk-hidden--visually\" id=\"2d905d40-6c6b-452f-80f7-b2b46816ca9f\" type=\"checkbox\" ><label class=\"sk-toggleable__label\" for=\"2d905d40-6c6b-452f-80f7-b2b46816ca9f\">preprocessing: ColumnTransformer</label><div class=\"sk-toggleable__content\"><pre>ColumnTransformer(transformers=[('time_encoder', TimeFeaturesExtractor(),\n",
       "                                 ['release_date']),\n",
       "                                ('categorical_encoder',\n",
       "                                 Pipeline(steps=[('one_hot_encode',\n",
       "                                                  OneHotEncoder(handle_unknown='ignore',\n",
       "                                                                sparse=False))]),\n",
       "                                 ['original_language', 'status', 'all_genres',\n",
       "                                  'top_countries', 'available_in_english']),\n",
       "                                ('numerical_encoder',\n",
       "                                 Pipeline(steps=[('scaling',\n",
       "                                                  StandardScaler())]),\n",
       "                                 ['duration_min', 'budget',\n",
       "                                  'number_of_awards_won',\n",
       "                                  'number_of_nominations', 'has_collection',\n",
       "                                  'number_of_top_productions'])])</pre></div></div></div><div class=\"sk-parallel\"><div class=\"sk-parallel-item\"><div class=\"sk-item\"><div class=\"sk-label-container\"><div class=\"sk-label sk-toggleable\"><input class=\"sk-toggleable__control sk-hidden--visually\" id=\"a9a3160a-df39-4af5-a725-df4ebd069104\" type=\"checkbox\" ><label class=\"sk-toggleable__label\" for=\"a9a3160a-df39-4af5-a725-df4ebd069104\">time_encoder</label><div class=\"sk-toggleable__content\"><pre>['release_date']</pre></div></div></div><div class=\"sk-serial\"><div class=\"sk-item\"><div class=\"sk-estimator sk-toggleable\"><input class=\"sk-toggleable__control sk-hidden--visually\" id=\"a867ee13-d999-46b7-9a51-be2e2c7d02b7\" type=\"checkbox\" ><label class=\"sk-toggleable__label\" for=\"a867ee13-d999-46b7-9a51-be2e2c7d02b7\">TimeFeaturesExtractor</label><div class=\"sk-toggleable__content\"><pre>TimeFeaturesExtractor()</pre></div></div></div></div></div></div><div class=\"sk-parallel-item\"><div class=\"sk-item\"><div class=\"sk-label-container\"><div class=\"sk-label sk-toggleable\"><input class=\"sk-toggleable__control sk-hidden--visually\" id=\"e0a8a34e-9133-4f37-b2d2-420ad81da904\" type=\"checkbox\" ><label class=\"sk-toggleable__label\" for=\"e0a8a34e-9133-4f37-b2d2-420ad81da904\">categorical_encoder</label><div class=\"sk-toggleable__content\"><pre>['original_language', 'status', 'all_genres', 'top_countries', 'available_in_english']</pre></div></div></div><div class=\"sk-serial\"><div class=\"sk-item\"><div class=\"sk-serial\"><div class=\"sk-item\"><div class=\"sk-estimator sk-toggleable\"><input class=\"sk-toggleable__control sk-hidden--visually\" id=\"bbc344d9-1ba5-4835-aef4-6e427fd267ee\" type=\"checkbox\" ><label class=\"sk-toggleable__label\" for=\"bbc344d9-1ba5-4835-aef4-6e427fd267ee\">OneHotEncoder</label><div class=\"sk-toggleable__content\"><pre>OneHotEncoder(handle_unknown='ignore', sparse=False)</pre></div></div></div></div></div></div></div></div><div class=\"sk-parallel-item\"><div class=\"sk-item\"><div class=\"sk-label-container\"><div class=\"sk-label sk-toggleable\"><input class=\"sk-toggleable__control sk-hidden--visually\" id=\"d87f1d18-54bd-4125-9416-3a57841e21e1\" type=\"checkbox\" ><label class=\"sk-toggleable__label\" for=\"d87f1d18-54bd-4125-9416-3a57841e21e1\">numerical_encoder</label><div class=\"sk-toggleable__content\"><pre>['duration_min', 'budget', 'number_of_awards_won', 'number_of_nominations', 'has_collection', 'number_of_top_productions']</pre></div></div></div><div class=\"sk-serial\"><div class=\"sk-item\"><div class=\"sk-serial\"><div class=\"sk-item\"><div class=\"sk-estimator sk-toggleable\"><input class=\"sk-toggleable__control sk-hidden--visually\" id=\"057a81b3-d086-43f3-b0a0-0c7cd0a944da\" type=\"checkbox\" ><label class=\"sk-toggleable__label\" for=\"057a81b3-d086-43f3-b0a0-0c7cd0a944da\">StandardScaler</label><div class=\"sk-toggleable__content\"><pre>StandardScaler()</pre></div></div></div></div></div></div></div></div></div></div><div class=\"sk-item\"><div class=\"sk-estimator sk-toggleable\"><input class=\"sk-toggleable__control sk-hidden--visually\" id=\"4ea06920-cb15-4689-ac5a-c810b8fb8ba4\" type=\"checkbox\" ><label class=\"sk-toggleable__label\" for=\"4ea06920-cb15-4689-ac5a-c810b8fb8ba4\">Lasso</label><div class=\"sk-toggleable__content\"><pre>Lasso()</pre></div></div></div></div></div></div></div>"
      ],
      "text/plain": [
       "Pipeline(steps=[('preprocessing',\n",
       "                 ColumnTransformer(transformers=[('time_encoder',\n",
       "                                                  TimeFeaturesExtractor(),\n",
       "                                                  ['release_date']),\n",
       "                                                 ('categorical_encoder',\n",
       "                                                  Pipeline(steps=[('one_hot_encode',\n",
       "                                                                   OneHotEncoder(handle_unknown='ignore',\n",
       "                                                                                 sparse=False))]),\n",
       "                                                  ['original_language',\n",
       "                                                   'status', 'all_genres',\n",
       "                                                   'top_countries',\n",
       "                                                   'available_in_english']),\n",
       "                                                 ('numerical_encoder',\n",
       "                                                  Pipeline(steps=[('scaling',\n",
       "                                                                   StandardScaler())]),\n",
       "                                                  ['duration_min', 'budget',\n",
       "                                                   'number_of_awards_won',\n",
       "                                                   'number_of_nominations',\n",
       "                                                   'has_collection',\n",
       "                                                   'number_of_top_productions'])])),\n",
       "                ('linear_regression', Lasso())])"
      ]
     },
     "execution_count": 42,
     "metadata": {},
     "output_type": "execute_result"
    }
   ],
   "source": [
    "time_pipeline = Pipeline([\n",
    "    ('preprocessing', updated_preprocessing),\n",
    "    ('linear_regression', Lasso())])\n",
    "time_pipeline"
   ]
  },
  {
   "cell_type": "markdown",
   "metadata": {},
   "source": [
    "### Advanced categorical encoder to reduce the number of features\n",
    "\n",
    "ℹ️ Most of it has already been coded for you and it shouldn't take long. Still if you want to skip it and move to the next section: _Model Tuning_"
   ]
  },
  {
   "cell_type": "markdown",
   "metadata": {},
   "source": [
    "👉 We need to reduce the number of features to one-hot-encode, which arise from the high cardinality of `all_genres` and `top_countries`"
   ]
  },
  {
   "cell_type": "code",
   "execution_count": 43,
   "metadata": {
    "ExecuteTime": {
     "end_time": "2021-06-29T17:29:14.191964Z",
     "start_time": "2021-06-29T17:29:14.184044Z"
    }
   },
   "outputs": [
    {
     "data": {
      "text/plain": [
       "all_genres       745\n",
       "top_countries    320\n",
       "dtype: int64"
      ]
     },
     "execution_count": 43,
     "metadata": {},
     "output_type": "execute_result"
    }
   ],
   "source": [
    "X[['all_genres', 'top_countries']].nunique()"
   ]
  },
  {
   "cell_type": "markdown",
   "metadata": {},
   "source": [
    "👇 Both share a common pattern: there can be more than 1 country and more than 1 genre per movie."
   ]
  },
  {
   "cell_type": "code",
   "execution_count": 44,
   "metadata": {
    "ExecuteTime": {
     "end_time": "2021-06-29T17:29:14.201275Z",
     "start_time": "2021-06-29T17:29:14.193459Z"
    }
   },
   "outputs": [
    {
     "data": {
      "text/html": [
       "<div>\n",
       "<style scoped>\n",
       "    .dataframe tbody tr th:only-of-type {\n",
       "        vertical-align: middle;\n",
       "    }\n",
       "\n",
       "    .dataframe tbody tr th {\n",
       "        vertical-align: top;\n",
       "    }\n",
       "\n",
       "    .dataframe thead th {\n",
       "        text-align: right;\n",
       "    }\n",
       "</style>\n",
       "<table border=\"1\" class=\"dataframe\">\n",
       "  <thead>\n",
       "    <tr style=\"text-align: right;\">\n",
       "      <th></th>\n",
       "      <th>all_genres</th>\n",
       "      <th>top_countries</th>\n",
       "    </tr>\n",
       "  </thead>\n",
       "  <tbody>\n",
       "    <tr>\n",
       "      <th>6459</th>\n",
       "      <td>Thriller</td>\n",
       "      <td>France, United States of America</td>\n",
       "    </tr>\n",
       "    <tr>\n",
       "      <th>6460</th>\n",
       "      <td>Action, Adventure, Comedy, Thriller</td>\n",
       "      <td>United States of America</td>\n",
       "    </tr>\n",
       "    <tr>\n",
       "      <th>6461</th>\n",
       "      <td>Drama</td>\n",
       "      <td>United States of America</td>\n",
       "    </tr>\n",
       "    <tr>\n",
       "      <th>6462</th>\n",
       "      <td>Horror, Thriller</td>\n",
       "      <td>United States of America</td>\n",
       "    </tr>\n",
       "    <tr>\n",
       "      <th>6463</th>\n",
       "      <td>Drama</td>\n",
       "      <td>France</td>\n",
       "    </tr>\n",
       "  </tbody>\n",
       "</table>\n",
       "</div>"
      ],
      "text/plain": [
       "                               all_genres                     top_countries\n",
       "6459                             Thriller  France, United States of America\n",
       "6460  Action, Adventure, Comedy, Thriller          United States of America\n",
       "6461                                Drama          United States of America\n",
       "6462                     Horror, Thriller          United States of America\n",
       "6463                                Drama                            France"
      ]
     },
     "execution_count": 44,
     "metadata": {},
     "output_type": "execute_result"
    }
   ],
   "source": [
    "X[['all_genres', 'top_countries']].tail()"
   ]
  },
  {
   "cell_type": "markdown",
   "metadata": {},
   "source": [
    "👉 Run the cell below where we have coded for you a custom transformer `CustomGenreAndCountryEncoder` which: \n",
    "- Select the 10 most frequent genres and the 5 most frequent countries\n",
    "- Encode `all_genres` into 10 One Hot Encoded features\n",
    "- Encode `top_countries` into 5 One Hot Encoded features"
   ]
  },
  {
   "cell_type": "code",
   "execution_count": 45,
   "metadata": {
    "ExecuteTime": {
     "end_time": "2021-06-29T17:29:14.210953Z",
     "start_time": "2021-06-29T17:29:14.202791Z"
    }
   },
   "outputs": [],
   "source": [
    "from collections import Counter\n",
    "from sklearn.base import BaseEstimator, TransformerMixin\n",
    "\n",
    "class CustomGenreAndCountryEncoder(BaseEstimator, TransformerMixin):\n",
    "    \"\"\"\n",
    "    Encoding the all_genres and top_companies features which are multi-categorical :\n",
    "    a movie has several possible genres and countries of productions!\n",
    "    \"\"\"\n",
    "\n",
    "    def __init__(self):\n",
    "        pass\n",
    "\n",
    "    def fit(self, X, y=None):\n",
    "        \"\"\"\n",
    "        compute top genres and top countries of productions from all_genres and top_countries features\n",
    "        \"\"\"\n",
    "\n",
    "        # compute top 10 genres       \n",
    "        list_of_genres = list(X['all_genres'].apply(lambda x: [i.strip() for i in x.split(\",\")] if x != [''] else []).values)\n",
    "        top_genres = [m[0] for m in Counter([i for j in list_of_genres for i in j]).most_common(10)]\n",
    "\n",
    "        # save top_genres in dedicated instance variable\n",
    "        self.top_genres = top_genres\n",
    "        \n",
    "         # compute top 5 countries       \n",
    "        list_of_countries = list(X['top_countries'].apply(lambda x: [i.strip() for i in x.split(\",\")] if x != [''] else []).values)\n",
    "        top_countries = [m[0] for m in Counter([i for j in list_of_countries for i in j]).most_common(5)]\n",
    "\n",
    "        # save top_countries in dedicated instance variable\n",
    "        self.top_countries = top_countries\n",
    "\n",
    "        return self\n",
    "\n",
    "    def transform(self, X, y=None):\n",
    "        \"\"\"\n",
    "        encoding genre and country\n",
    "        \"\"\"\n",
    "        X_new = X.copy()\n",
    "        for genre in self.top_genres:\n",
    "            X_new['genre_' + genre] = X_new['all_genres'].apply(lambda x: 1 if genre in x else 0)\n",
    "        X_new = X_new.drop(columns=[\"all_genres\"])\n",
    "        for country in self.top_countries:\n",
    "            X_new['country_' + country] = X_new['top_countries'].apply(lambda x: 1 if country in x else 0)\n",
    "        X_new = X_new.drop(columns=[\"top_countries\"])\n",
    "        return X_new"
   ]
  },
  {
   "cell_type": "code",
   "execution_count": 46,
   "metadata": {
    "ExecuteTime": {
     "end_time": "2021-06-29T17:29:14.289418Z",
     "start_time": "2021-06-29T17:29:14.212506Z"
    }
   },
   "outputs": [
    {
     "name": "stdout",
     "output_type": "stream",
     "text": [
      "(6463, 15)\n"
     ]
    },
    {
     "data": {
      "text/html": [
       "<div>\n",
       "<style scoped>\n",
       "    .dataframe tbody tr th:only-of-type {\n",
       "        vertical-align: middle;\n",
       "    }\n",
       "\n",
       "    .dataframe tbody tr th {\n",
       "        vertical-align: top;\n",
       "    }\n",
       "\n",
       "    .dataframe thead th {\n",
       "        text-align: right;\n",
       "    }\n",
       "</style>\n",
       "<table border=\"1\" class=\"dataframe\">\n",
       "  <thead>\n",
       "    <tr style=\"text-align: right;\">\n",
       "      <th></th>\n",
       "      <th>genre_Drama</th>\n",
       "      <th>genre_Comedy</th>\n",
       "      <th>genre_Thriller</th>\n",
       "      <th>genre_Action</th>\n",
       "      <th>genre_Romance</th>\n",
       "      <th>genre_Adventure</th>\n",
       "      <th>genre_Crime</th>\n",
       "      <th>genre_Science Fiction</th>\n",
       "      <th>genre_Horror</th>\n",
       "      <th>genre_Family</th>\n",
       "      <th>country_United States of America</th>\n",
       "      <th>country_United Kingdom</th>\n",
       "      <th>country_France</th>\n",
       "      <th>country_Germany</th>\n",
       "      <th>country_Canada</th>\n",
       "    </tr>\n",
       "  </thead>\n",
       "  <tbody>\n",
       "    <tr>\n",
       "      <th>0</th>\n",
       "      <td>0</td>\n",
       "      <td>1</td>\n",
       "      <td>0</td>\n",
       "      <td>0</td>\n",
       "      <td>0</td>\n",
       "      <td>0</td>\n",
       "      <td>0</td>\n",
       "      <td>0</td>\n",
       "      <td>0</td>\n",
       "      <td>0</td>\n",
       "      <td>1</td>\n",
       "      <td>0</td>\n",
       "      <td>0</td>\n",
       "      <td>0</td>\n",
       "      <td>0</td>\n",
       "    </tr>\n",
       "    <tr>\n",
       "      <th>1</th>\n",
       "      <td>1</td>\n",
       "      <td>1</td>\n",
       "      <td>0</td>\n",
       "      <td>0</td>\n",
       "      <td>1</td>\n",
       "      <td>0</td>\n",
       "      <td>0</td>\n",
       "      <td>0</td>\n",
       "      <td>0</td>\n",
       "      <td>1</td>\n",
       "      <td>1</td>\n",
       "      <td>0</td>\n",
       "      <td>0</td>\n",
       "      <td>0</td>\n",
       "      <td>0</td>\n",
       "    </tr>\n",
       "    <tr>\n",
       "      <th>2</th>\n",
       "      <td>1</td>\n",
       "      <td>0</td>\n",
       "      <td>0</td>\n",
       "      <td>0</td>\n",
       "      <td>0</td>\n",
       "      <td>0</td>\n",
       "      <td>0</td>\n",
       "      <td>0</td>\n",
       "      <td>0</td>\n",
       "      <td>0</td>\n",
       "      <td>1</td>\n",
       "      <td>0</td>\n",
       "      <td>0</td>\n",
       "      <td>0</td>\n",
       "      <td>0</td>\n",
       "    </tr>\n",
       "    <tr>\n",
       "      <th>3</th>\n",
       "      <td>1</td>\n",
       "      <td>0</td>\n",
       "      <td>1</td>\n",
       "      <td>0</td>\n",
       "      <td>0</td>\n",
       "      <td>0</td>\n",
       "      <td>0</td>\n",
       "      <td>0</td>\n",
       "      <td>0</td>\n",
       "      <td>0</td>\n",
       "      <td>0</td>\n",
       "      <td>0</td>\n",
       "      <td>0</td>\n",
       "      <td>0</td>\n",
       "      <td>0</td>\n",
       "    </tr>\n",
       "    <tr>\n",
       "      <th>4</th>\n",
       "      <td>0</td>\n",
       "      <td>0</td>\n",
       "      <td>1</td>\n",
       "      <td>0</td>\n",
       "      <td>0</td>\n",
       "      <td>0</td>\n",
       "      <td>0</td>\n",
       "      <td>0</td>\n",
       "      <td>1</td>\n",
       "      <td>0</td>\n",
       "      <td>1</td>\n",
       "      <td>0</td>\n",
       "      <td>0</td>\n",
       "      <td>0</td>\n",
       "      <td>1</td>\n",
       "    </tr>\n",
       "  </tbody>\n",
       "</table>\n",
       "</div>"
      ],
      "text/plain": [
       "   genre_Drama  genre_Comedy  genre_Thriller  genre_Action  genre_Romance  \\\n",
       "0            0             1               0             0              0   \n",
       "1            1             1               0             0              1   \n",
       "2            1             0               0             0              0   \n",
       "3            1             0               1             0              0   \n",
       "4            0             0               1             0              0   \n",
       "\n",
       "   genre_Adventure  genre_Crime  genre_Science Fiction  genre_Horror  \\\n",
       "0                0            0                      0             0   \n",
       "1                0            0                      0             0   \n",
       "2                0            0                      0             0   \n",
       "3                0            0                      0             0   \n",
       "4                0            0                      0             1   \n",
       "\n",
       "   genre_Family  country_United States of America  country_United Kingdom  \\\n",
       "0             0                                 1                       0   \n",
       "1             1                                 1                       0   \n",
       "2             0                                 1                       0   \n",
       "3             0                                 0                       0   \n",
       "4             0                                 1                       0   \n",
       "\n",
       "   country_France  country_Germany  country_Canada  \n",
       "0               0                0               0  \n",
       "1               0                0               0  \n",
       "2               0                0               0  \n",
       "3               0                0               0  \n",
       "4               0                0               1  "
      ]
     },
     "execution_count": 46,
     "metadata": {},
     "output_type": "execute_result"
    }
   ],
   "source": [
    "# Check it out\n",
    "X_custom = CustomGenreAndCountryEncoder().fit_transform(X[['all_genres', 'top_countries']])\n",
    "print(X_custom.shape)\n",
    "X_custom.head()"
   ]
  },
  {
   "cell_type": "markdown",
   "metadata": {},
   "source": [
    "**📝 Compute your `final_pipeline` by integrating all these transformers** (or all those you have coded)\n",
    "\n",
    "- `CustomGenreAndCountryEncoder`\n",
    "- `TimeFeaturesExtractor`\n",
    "- `CyclicalFeatureExtractor`"
   ]
  },
  {
   "cell_type": "code",
   "execution_count": 47,
   "metadata": {
    "ExecuteTime": {
     "end_time": "2021-06-29T17:29:14.316693Z",
     "start_time": "2021-06-29T17:29:14.291225Z"
    },
    "tags": [
     "challengify"
    ]
   },
   "outputs": [
    {
     "data": {
      "text/html": [
       "<style>#sk-b906cb2c-79c0-460c-95e1-ea32be1fd432 {color: black;background-color: white;}#sk-b906cb2c-79c0-460c-95e1-ea32be1fd432 pre{padding: 0;}#sk-b906cb2c-79c0-460c-95e1-ea32be1fd432 div.sk-toggleable {background-color: white;}#sk-b906cb2c-79c0-460c-95e1-ea32be1fd432 label.sk-toggleable__label {cursor: pointer;display: block;width: 100%;margin-bottom: 0;padding: 0.2em 0.3em;box-sizing: border-box;text-align: center;}#sk-b906cb2c-79c0-460c-95e1-ea32be1fd432 div.sk-toggleable__content {max-height: 0;max-width: 0;overflow: hidden;text-align: left;background-color: #f0f8ff;}#sk-b906cb2c-79c0-460c-95e1-ea32be1fd432 div.sk-toggleable__content pre {margin: 0.2em;color: black;border-radius: 0.25em;background-color: #f0f8ff;}#sk-b906cb2c-79c0-460c-95e1-ea32be1fd432 input.sk-toggleable__control:checked~div.sk-toggleable__content {max-height: 200px;max-width: 100%;overflow: auto;}#sk-b906cb2c-79c0-460c-95e1-ea32be1fd432 div.sk-estimator input.sk-toggleable__control:checked~label.sk-toggleable__label {background-color: #d4ebff;}#sk-b906cb2c-79c0-460c-95e1-ea32be1fd432 div.sk-label input.sk-toggleable__control:checked~label.sk-toggleable__label {background-color: #d4ebff;}#sk-b906cb2c-79c0-460c-95e1-ea32be1fd432 input.sk-hidden--visually {border: 0;clip: rect(1px 1px 1px 1px);clip: rect(1px, 1px, 1px, 1px);height: 1px;margin: -1px;overflow: hidden;padding: 0;position: absolute;width: 1px;}#sk-b906cb2c-79c0-460c-95e1-ea32be1fd432 div.sk-estimator {font-family: monospace;background-color: #f0f8ff;margin: 0.25em 0.25em;border: 1px dotted black;border-radius: 0.25em;box-sizing: border-box;}#sk-b906cb2c-79c0-460c-95e1-ea32be1fd432 div.sk-estimator:hover {background-color: #d4ebff;}#sk-b906cb2c-79c0-460c-95e1-ea32be1fd432 div.sk-parallel-item::after {content: \"\";width: 100%;border-bottom: 1px solid gray;flex-grow: 1;}#sk-b906cb2c-79c0-460c-95e1-ea32be1fd432 div.sk-label:hover label.sk-toggleable__label {background-color: #d4ebff;}#sk-b906cb2c-79c0-460c-95e1-ea32be1fd432 div.sk-serial::before {content: \"\";position: absolute;border-left: 1px solid gray;box-sizing: border-box;top: 2em;bottom: 0;left: 50%;}#sk-b906cb2c-79c0-460c-95e1-ea32be1fd432 div.sk-serial {display: flex;flex-direction: column;align-items: center;background-color: white;}#sk-b906cb2c-79c0-460c-95e1-ea32be1fd432 div.sk-item {z-index: 1;}#sk-b906cb2c-79c0-460c-95e1-ea32be1fd432 div.sk-parallel {display: flex;align-items: stretch;justify-content: center;background-color: white;}#sk-b906cb2c-79c0-460c-95e1-ea32be1fd432 div.sk-parallel-item {display: flex;flex-direction: column;position: relative;background-color: white;}#sk-b906cb2c-79c0-460c-95e1-ea32be1fd432 div.sk-parallel-item:first-child::after {align-self: flex-end;width: 50%;}#sk-b906cb2c-79c0-460c-95e1-ea32be1fd432 div.sk-parallel-item:last-child::after {align-self: flex-start;width: 50%;}#sk-b906cb2c-79c0-460c-95e1-ea32be1fd432 div.sk-parallel-item:only-child::after {width: 0;}#sk-b906cb2c-79c0-460c-95e1-ea32be1fd432 div.sk-dashed-wrapped {border: 1px dashed gray;margin: 0.2em;box-sizing: border-box;padding-bottom: 0.1em;background-color: white;position: relative;}#sk-b906cb2c-79c0-460c-95e1-ea32be1fd432 div.sk-label label {font-family: monospace;font-weight: bold;background-color: white;display: inline-block;line-height: 1.2em;}#sk-b906cb2c-79c0-460c-95e1-ea32be1fd432 div.sk-label-container {position: relative;z-index: 2;text-align: center;}#sk-b906cb2c-79c0-460c-95e1-ea32be1fd432 div.sk-container {display: inline-block;position: relative;}</style><div id=\"sk-b906cb2c-79c0-460c-95e1-ea32be1fd432\" class\"sk-top-container\"><div class=\"sk-container\"><div class=\"sk-item sk-dashed-wrapped\"><div class=\"sk-label-container\"><div class=\"sk-label sk-toggleable\"><input class=\"sk-toggleable__control sk-hidden--visually\" id=\"b5614ba3-8ab6-4307-9e9e-42194c3869e2\" type=\"checkbox\" ><label class=\"sk-toggleable__label\" for=\"b5614ba3-8ab6-4307-9e9e-42194c3869e2\">ColumnTransformer</label><div class=\"sk-toggleable__content\"><pre>ColumnTransformer(transformers=[('most_frequent_encoder',\n",
       "                                 CustomGenreAndCountryEncoder(),\n",
       "                                 ['all_genres', 'top_countries']),\n",
       "                                ('time_encoder', TimeFeaturesExtractor(),\n",
       "                                 ['release_date']),\n",
       "                                ('categorical_encoder',\n",
       "                                 Pipeline(steps=[('one_hot_encode',\n",
       "                                                  OneHotEncoder(handle_unknown='ignore',\n",
       "                                                                sparse=False))]),\n",
       "                                 ['original_language', 'status',\n",
       "                                  'top_countries', 'available_in_english']),\n",
       "                                ('numerical_encoder',\n",
       "                                 Pipeline(steps=[('scaling',\n",
       "                                                  StandardScaler())]),\n",
       "                                 ['duration_min', 'budget',\n",
       "                                  'number_of_awards_won',\n",
       "                                  'number_of_nominations', 'has_collection',\n",
       "                                  'number_of_top_productions'])])</pre></div></div></div><div class=\"sk-parallel\"><div class=\"sk-parallel-item\"><div class=\"sk-item\"><div class=\"sk-label-container\"><div class=\"sk-label sk-toggleable\"><input class=\"sk-toggleable__control sk-hidden--visually\" id=\"c437b332-a687-423a-aca2-bec09084041a\" type=\"checkbox\" ><label class=\"sk-toggleable__label\" for=\"c437b332-a687-423a-aca2-bec09084041a\">most_frequent_encoder</label><div class=\"sk-toggleable__content\"><pre>['all_genres', 'top_countries']</pre></div></div></div><div class=\"sk-serial\"><div class=\"sk-item\"><div class=\"sk-estimator sk-toggleable\"><input class=\"sk-toggleable__control sk-hidden--visually\" id=\"775e341a-1b8e-4c16-9d54-939c2e923d3b\" type=\"checkbox\" ><label class=\"sk-toggleable__label\" for=\"775e341a-1b8e-4c16-9d54-939c2e923d3b\">CustomGenreAndCountryEncoder</label><div class=\"sk-toggleable__content\"><pre>CustomGenreAndCountryEncoder()</pre></div></div></div></div></div></div><div class=\"sk-parallel-item\"><div class=\"sk-item\"><div class=\"sk-label-container\"><div class=\"sk-label sk-toggleable\"><input class=\"sk-toggleable__control sk-hidden--visually\" id=\"3d501f89-c94e-4c4e-8482-77175a82fcff\" type=\"checkbox\" ><label class=\"sk-toggleable__label\" for=\"3d501f89-c94e-4c4e-8482-77175a82fcff\">time_encoder</label><div class=\"sk-toggleable__content\"><pre>['release_date']</pre></div></div></div><div class=\"sk-serial\"><div class=\"sk-item\"><div class=\"sk-estimator sk-toggleable\"><input class=\"sk-toggleable__control sk-hidden--visually\" id=\"46057a00-1176-4130-83f7-61df79b15ce2\" type=\"checkbox\" ><label class=\"sk-toggleable__label\" for=\"46057a00-1176-4130-83f7-61df79b15ce2\">TimeFeaturesExtractor</label><div class=\"sk-toggleable__content\"><pre>TimeFeaturesExtractor()</pre></div></div></div></div></div></div><div class=\"sk-parallel-item\"><div class=\"sk-item\"><div class=\"sk-label-container\"><div class=\"sk-label sk-toggleable\"><input class=\"sk-toggleable__control sk-hidden--visually\" id=\"2992c4bc-972e-43d5-8688-a006f805e073\" type=\"checkbox\" ><label class=\"sk-toggleable__label\" for=\"2992c4bc-972e-43d5-8688-a006f805e073\">categorical_encoder</label><div class=\"sk-toggleable__content\"><pre>['original_language', 'status', 'top_countries', 'available_in_english']</pre></div></div></div><div class=\"sk-serial\"><div class=\"sk-item\"><div class=\"sk-serial\"><div class=\"sk-item\"><div class=\"sk-estimator sk-toggleable\"><input class=\"sk-toggleable__control sk-hidden--visually\" id=\"da51fe91-265a-4713-92c8-e47793b5135d\" type=\"checkbox\" ><label class=\"sk-toggleable__label\" for=\"da51fe91-265a-4713-92c8-e47793b5135d\">OneHotEncoder</label><div class=\"sk-toggleable__content\"><pre>OneHotEncoder(handle_unknown='ignore', sparse=False)</pre></div></div></div></div></div></div></div></div><div class=\"sk-parallel-item\"><div class=\"sk-item\"><div class=\"sk-label-container\"><div class=\"sk-label sk-toggleable\"><input class=\"sk-toggleable__control sk-hidden--visually\" id=\"9245ba65-035f-4616-8822-967c6365a056\" type=\"checkbox\" ><label class=\"sk-toggleable__label\" for=\"9245ba65-035f-4616-8822-967c6365a056\">numerical_encoder</label><div class=\"sk-toggleable__content\"><pre>['duration_min', 'budget', 'number_of_awards_won', 'number_of_nominations', 'has_collection', 'number_of_top_productions']</pre></div></div></div><div class=\"sk-serial\"><div class=\"sk-item\"><div class=\"sk-serial\"><div class=\"sk-item\"><div class=\"sk-estimator sk-toggleable\"><input class=\"sk-toggleable__control sk-hidden--visually\" id=\"583e0c6c-e440-4342-95a2-34b0354ea70f\" type=\"checkbox\" ><label class=\"sk-toggleable__label\" for=\"583e0c6c-e440-4342-95a2-34b0354ea70f\">StandardScaler</label><div class=\"sk-toggleable__content\"><pre>StandardScaler()</pre></div></div></div></div></div></div></div></div></div></div></div></div>"
      ],
      "text/plain": [
       "ColumnTransformer(transformers=[('most_frequent_encoder',\n",
       "                                 CustomGenreAndCountryEncoder(),\n",
       "                                 ['all_genres', 'top_countries']),\n",
       "                                ('time_encoder', TimeFeaturesExtractor(),\n",
       "                                 ['release_date']),\n",
       "                                ('categorical_encoder',\n",
       "                                 Pipeline(steps=[('one_hot_encode',\n",
       "                                                  OneHotEncoder(handle_unknown='ignore',\n",
       "                                                                sparse=False))]),\n",
       "                                 ['original_language', 'status',\n",
       "                                  'top_countries', 'available_in_english']),\n",
       "                                ('numerical_encoder',\n",
       "                                 Pipeline(steps=[('scaling',\n",
       "                                                  StandardScaler())]),\n",
       "                                 ['duration_min', 'budget',\n",
       "                                  'number_of_awards_won',\n",
       "                                  'number_of_nominations', 'has_collection',\n",
       "                                  'number_of_top_productions'])])"
      ]
     },
     "execution_count": 47,
     "metadata": {},
     "output_type": "execute_result"
    }
   ],
   "source": [
    "final_preprocessing = ColumnTransformer([\n",
    "    ('most_frequent_encoder',CustomGenreAndCountryEncoder(),['all_genres', 'top_countries']),\n",
    "    ('time_encoder',TimeFeaturesExtractor(),['release_date']),\n",
    "    ('categorical_encoder', categorical_encoder,['original_language','status','top_countries','available_in_english']),\n",
    "    ('numerical_encoder', numerical_encoder,numerical)],remainder='drop')\n",
    "final_preprocessing"
   ]
  },
  {
   "cell_type": "code",
   "execution_count": 48,
   "metadata": {},
   "outputs": [
    {
     "data": {
      "text/html": [
       "<style>#sk-30bf987d-dd6e-45c4-9228-8fd62be011a7 {color: black;background-color: white;}#sk-30bf987d-dd6e-45c4-9228-8fd62be011a7 pre{padding: 0;}#sk-30bf987d-dd6e-45c4-9228-8fd62be011a7 div.sk-toggleable {background-color: white;}#sk-30bf987d-dd6e-45c4-9228-8fd62be011a7 label.sk-toggleable__label {cursor: pointer;display: block;width: 100%;margin-bottom: 0;padding: 0.2em 0.3em;box-sizing: border-box;text-align: center;}#sk-30bf987d-dd6e-45c4-9228-8fd62be011a7 div.sk-toggleable__content {max-height: 0;max-width: 0;overflow: hidden;text-align: left;background-color: #f0f8ff;}#sk-30bf987d-dd6e-45c4-9228-8fd62be011a7 div.sk-toggleable__content pre {margin: 0.2em;color: black;border-radius: 0.25em;background-color: #f0f8ff;}#sk-30bf987d-dd6e-45c4-9228-8fd62be011a7 input.sk-toggleable__control:checked~div.sk-toggleable__content {max-height: 200px;max-width: 100%;overflow: auto;}#sk-30bf987d-dd6e-45c4-9228-8fd62be011a7 div.sk-estimator input.sk-toggleable__control:checked~label.sk-toggleable__label {background-color: #d4ebff;}#sk-30bf987d-dd6e-45c4-9228-8fd62be011a7 div.sk-label input.sk-toggleable__control:checked~label.sk-toggleable__label {background-color: #d4ebff;}#sk-30bf987d-dd6e-45c4-9228-8fd62be011a7 input.sk-hidden--visually {border: 0;clip: rect(1px 1px 1px 1px);clip: rect(1px, 1px, 1px, 1px);height: 1px;margin: -1px;overflow: hidden;padding: 0;position: absolute;width: 1px;}#sk-30bf987d-dd6e-45c4-9228-8fd62be011a7 div.sk-estimator {font-family: monospace;background-color: #f0f8ff;margin: 0.25em 0.25em;border: 1px dotted black;border-radius: 0.25em;box-sizing: border-box;}#sk-30bf987d-dd6e-45c4-9228-8fd62be011a7 div.sk-estimator:hover {background-color: #d4ebff;}#sk-30bf987d-dd6e-45c4-9228-8fd62be011a7 div.sk-parallel-item::after {content: \"\";width: 100%;border-bottom: 1px solid gray;flex-grow: 1;}#sk-30bf987d-dd6e-45c4-9228-8fd62be011a7 div.sk-label:hover label.sk-toggleable__label {background-color: #d4ebff;}#sk-30bf987d-dd6e-45c4-9228-8fd62be011a7 div.sk-serial::before {content: \"\";position: absolute;border-left: 1px solid gray;box-sizing: border-box;top: 2em;bottom: 0;left: 50%;}#sk-30bf987d-dd6e-45c4-9228-8fd62be011a7 div.sk-serial {display: flex;flex-direction: column;align-items: center;background-color: white;}#sk-30bf987d-dd6e-45c4-9228-8fd62be011a7 div.sk-item {z-index: 1;}#sk-30bf987d-dd6e-45c4-9228-8fd62be011a7 div.sk-parallel {display: flex;align-items: stretch;justify-content: center;background-color: white;}#sk-30bf987d-dd6e-45c4-9228-8fd62be011a7 div.sk-parallel-item {display: flex;flex-direction: column;position: relative;background-color: white;}#sk-30bf987d-dd6e-45c4-9228-8fd62be011a7 div.sk-parallel-item:first-child::after {align-self: flex-end;width: 50%;}#sk-30bf987d-dd6e-45c4-9228-8fd62be011a7 div.sk-parallel-item:last-child::after {align-self: flex-start;width: 50%;}#sk-30bf987d-dd6e-45c4-9228-8fd62be011a7 div.sk-parallel-item:only-child::after {width: 0;}#sk-30bf987d-dd6e-45c4-9228-8fd62be011a7 div.sk-dashed-wrapped {border: 1px dashed gray;margin: 0.2em;box-sizing: border-box;padding-bottom: 0.1em;background-color: white;position: relative;}#sk-30bf987d-dd6e-45c4-9228-8fd62be011a7 div.sk-label label {font-family: monospace;font-weight: bold;background-color: white;display: inline-block;line-height: 1.2em;}#sk-30bf987d-dd6e-45c4-9228-8fd62be011a7 div.sk-label-container {position: relative;z-index: 2;text-align: center;}#sk-30bf987d-dd6e-45c4-9228-8fd62be011a7 div.sk-container {display: inline-block;position: relative;}</style><div id=\"sk-30bf987d-dd6e-45c4-9228-8fd62be011a7\" class\"sk-top-container\"><div class=\"sk-container\"><div class=\"sk-item sk-dashed-wrapped\"><div class=\"sk-label-container\"><div class=\"sk-label sk-toggleable\"><input class=\"sk-toggleable__control sk-hidden--visually\" id=\"ac31ec12-f251-474f-a71f-6504ed972494\" type=\"checkbox\" ><label class=\"sk-toggleable__label\" for=\"ac31ec12-f251-474f-a71f-6504ed972494\">Pipeline</label><div class=\"sk-toggleable__content\"><pre>Pipeline(steps=[('preprocessing',\n",
       "                 ColumnTransformer(transformers=[('most_frequent_encoder',\n",
       "                                                  CustomGenreAndCountryEncoder(),\n",
       "                                                  ['all_genres',\n",
       "                                                   'top_countries']),\n",
       "                                                 ('time_encoder',\n",
       "                                                  TimeFeaturesExtractor(),\n",
       "                                                  ['release_date']),\n",
       "                                                 ('categorical_encoder',\n",
       "                                                  Pipeline(steps=[('one_hot_encode',\n",
       "                                                                   OneHotEncoder(handle_unknown='ignore',\n",
       "                                                                                 sparse=False))]),\n",
       "                                                  ['original_language',\n",
       "                                                   'status', 'top_countries',\n",
       "                                                   'available_in_english']),\n",
       "                                                 ('numerical_encoder',\n",
       "                                                  Pipeline(steps=[('scaling',\n",
       "                                                                   StandardScaler())]),\n",
       "                                                  ['duration_min', 'budget',\n",
       "                                                   'number_of_awards_won',\n",
       "                                                   'number_of_nominations',\n",
       "                                                   'has_collection',\n",
       "                                                   'number_of_top_productions'])])),\n",
       "                ('linear_regression', Lasso())])</pre></div></div></div><div class=\"sk-serial\"><div class=\"sk-item sk-dashed-wrapped\"><div class=\"sk-label-container\"><div class=\"sk-label sk-toggleable\"><input class=\"sk-toggleable__control sk-hidden--visually\" id=\"a86e8d61-ace1-4658-abde-78e1ea013dca\" type=\"checkbox\" ><label class=\"sk-toggleable__label\" for=\"a86e8d61-ace1-4658-abde-78e1ea013dca\">preprocessing: ColumnTransformer</label><div class=\"sk-toggleable__content\"><pre>ColumnTransformer(transformers=[('most_frequent_encoder',\n",
       "                                 CustomGenreAndCountryEncoder(),\n",
       "                                 ['all_genres', 'top_countries']),\n",
       "                                ('time_encoder', TimeFeaturesExtractor(),\n",
       "                                 ['release_date']),\n",
       "                                ('categorical_encoder',\n",
       "                                 Pipeline(steps=[('one_hot_encode',\n",
       "                                                  OneHotEncoder(handle_unknown='ignore',\n",
       "                                                                sparse=False))]),\n",
       "                                 ['original_language', 'status',\n",
       "                                  'top_countries', 'available_in_english']),\n",
       "                                ('numerical_encoder',\n",
       "                                 Pipeline(steps=[('scaling',\n",
       "                                                  StandardScaler())]),\n",
       "                                 ['duration_min', 'budget',\n",
       "                                  'number_of_awards_won',\n",
       "                                  'number_of_nominations', 'has_collection',\n",
       "                                  'number_of_top_productions'])])</pre></div></div></div><div class=\"sk-parallel\"><div class=\"sk-parallel-item\"><div class=\"sk-item\"><div class=\"sk-label-container\"><div class=\"sk-label sk-toggleable\"><input class=\"sk-toggleable__control sk-hidden--visually\" id=\"766191a9-40a5-483a-98ec-d93f894dac40\" type=\"checkbox\" ><label class=\"sk-toggleable__label\" for=\"766191a9-40a5-483a-98ec-d93f894dac40\">most_frequent_encoder</label><div class=\"sk-toggleable__content\"><pre>['all_genres', 'top_countries']</pre></div></div></div><div class=\"sk-serial\"><div class=\"sk-item\"><div class=\"sk-estimator sk-toggleable\"><input class=\"sk-toggleable__control sk-hidden--visually\" id=\"4d70da3b-f0b9-45b4-b85b-49013f6f4ff2\" type=\"checkbox\" ><label class=\"sk-toggleable__label\" for=\"4d70da3b-f0b9-45b4-b85b-49013f6f4ff2\">CustomGenreAndCountryEncoder</label><div class=\"sk-toggleable__content\"><pre>CustomGenreAndCountryEncoder()</pre></div></div></div></div></div></div><div class=\"sk-parallel-item\"><div class=\"sk-item\"><div class=\"sk-label-container\"><div class=\"sk-label sk-toggleable\"><input class=\"sk-toggleable__control sk-hidden--visually\" id=\"7cc031b1-ac36-494a-8b48-aba0dd7b4c5d\" type=\"checkbox\" ><label class=\"sk-toggleable__label\" for=\"7cc031b1-ac36-494a-8b48-aba0dd7b4c5d\">time_encoder</label><div class=\"sk-toggleable__content\"><pre>['release_date']</pre></div></div></div><div class=\"sk-serial\"><div class=\"sk-item\"><div class=\"sk-estimator sk-toggleable\"><input class=\"sk-toggleable__control sk-hidden--visually\" id=\"45306543-c10f-4151-90cf-eb7c8084954a\" type=\"checkbox\" ><label class=\"sk-toggleable__label\" for=\"45306543-c10f-4151-90cf-eb7c8084954a\">TimeFeaturesExtractor</label><div class=\"sk-toggleable__content\"><pre>TimeFeaturesExtractor()</pre></div></div></div></div></div></div><div class=\"sk-parallel-item\"><div class=\"sk-item\"><div class=\"sk-label-container\"><div class=\"sk-label sk-toggleable\"><input class=\"sk-toggleable__control sk-hidden--visually\" id=\"4e86dd8b-65c2-426d-81ef-ea543a59273e\" type=\"checkbox\" ><label class=\"sk-toggleable__label\" for=\"4e86dd8b-65c2-426d-81ef-ea543a59273e\">categorical_encoder</label><div class=\"sk-toggleable__content\"><pre>['original_language', 'status', 'top_countries', 'available_in_english']</pre></div></div></div><div class=\"sk-serial\"><div class=\"sk-item\"><div class=\"sk-serial\"><div class=\"sk-item\"><div class=\"sk-estimator sk-toggleable\"><input class=\"sk-toggleable__control sk-hidden--visually\" id=\"a06a26f1-9cd9-4749-ac9d-2d55da142d9b\" type=\"checkbox\" ><label class=\"sk-toggleable__label\" for=\"a06a26f1-9cd9-4749-ac9d-2d55da142d9b\">OneHotEncoder</label><div class=\"sk-toggleable__content\"><pre>OneHotEncoder(handle_unknown='ignore', sparse=False)</pre></div></div></div></div></div></div></div></div><div class=\"sk-parallel-item\"><div class=\"sk-item\"><div class=\"sk-label-container\"><div class=\"sk-label sk-toggleable\"><input class=\"sk-toggleable__control sk-hidden--visually\" id=\"369ef07c-3fd1-421e-baa5-976ee25e4190\" type=\"checkbox\" ><label class=\"sk-toggleable__label\" for=\"369ef07c-3fd1-421e-baa5-976ee25e4190\">numerical_encoder</label><div class=\"sk-toggleable__content\"><pre>['duration_min', 'budget', 'number_of_awards_won', 'number_of_nominations', 'has_collection', 'number_of_top_productions']</pre></div></div></div><div class=\"sk-serial\"><div class=\"sk-item\"><div class=\"sk-serial\"><div class=\"sk-item\"><div class=\"sk-estimator sk-toggleable\"><input class=\"sk-toggleable__control sk-hidden--visually\" id=\"6a7652a8-4b38-4905-9826-49ace9468adb\" type=\"checkbox\" ><label class=\"sk-toggleable__label\" for=\"6a7652a8-4b38-4905-9826-49ace9468adb\">StandardScaler</label><div class=\"sk-toggleable__content\"><pre>StandardScaler()</pre></div></div></div></div></div></div></div></div></div></div><div class=\"sk-item\"><div class=\"sk-estimator sk-toggleable\"><input class=\"sk-toggleable__control sk-hidden--visually\" id=\"b2a1269e-e43f-42dd-8756-e06b5e1e1224\" type=\"checkbox\" ><label class=\"sk-toggleable__label\" for=\"b2a1269e-e43f-42dd-8756-e06b5e1e1224\">Lasso</label><div class=\"sk-toggleable__content\"><pre>Lasso()</pre></div></div></div></div></div></div></div>"
      ],
      "text/plain": [
       "Pipeline(steps=[('preprocessing',\n",
       "                 ColumnTransformer(transformers=[('most_frequent_encoder',\n",
       "                                                  CustomGenreAndCountryEncoder(),\n",
       "                                                  ['all_genres',\n",
       "                                                   'top_countries']),\n",
       "                                                 ('time_encoder',\n",
       "                                                  TimeFeaturesExtractor(),\n",
       "                                                  ['release_date']),\n",
       "                                                 ('categorical_encoder',\n",
       "                                                  Pipeline(steps=[('one_hot_encode',\n",
       "                                                                   OneHotEncoder(handle_unknown='ignore',\n",
       "                                                                                 sparse=False))]),\n",
       "                                                  ['original_language',\n",
       "                                                   'status', 'top_countries',\n",
       "                                                   'available_in_english']),\n",
       "                                                 ('numerical_encoder',\n",
       "                                                  Pipeline(steps=[('scaling',\n",
       "                                                                   StandardScaler())]),\n",
       "                                                  ['duration_min', 'budget',\n",
       "                                                   'number_of_awards_won',\n",
       "                                                   'number_of_nominations',\n",
       "                                                   'has_collection',\n",
       "                                                   'number_of_top_productions'])])),\n",
       "                ('linear_regression', Lasso())])"
      ]
     },
     "execution_count": 48,
     "metadata": {},
     "output_type": "execute_result"
    }
   ],
   "source": [
    "final_pipeline = Pipeline([\n",
    "    ('preprocessing', final_preprocessing),\n",
    "    ('linear_regression', Lasso())])\n",
    "final_pipeline"
   ]
  },
  {
   "cell_type": "markdown",
   "metadata": {},
   "source": [
    "📝 **Compute and store its cross validated scores as `final_scores` array of floats**\n",
    "\n",
    "- It does not necessarily improve the performance before we can try-out doing model tuning\n",
    "- However, with a now limited number of features, we will be able to train more complex models in next section (ensemble...)"
   ]
  },
  {
   "cell_type": "code",
   "execution_count": 49,
   "metadata": {},
   "outputs": [
    {
     "data": {
      "text/plain": [
       "array([-0.84185184, -0.96902012, -0.93003316, -0.90283143, -0.9121821 ])"
      ]
     },
     "execution_count": 49,
     "metadata": {},
     "output_type": "execute_result"
    }
   ],
   "source": [
    "final_scores = cross_val_score(final_pipeline, X, y, cv=5, scoring='neg_mean_absolute_percentage_error')\n",
    "final_scores"
   ]
  },
  {
   "cell_type": "markdown",
   "metadata": {},
   "source": [
    "### 🧪 Save your result\n",
    "\n",
    "Run the following cell to save your results."
   ]
  },
  {
   "cell_type": "code",
   "execution_count": 50,
   "metadata": {
    "ExecuteTime": {
     "end_time": "2021-06-29T17:29:15.204479Z",
     "start_time": "2021-06-29T17:29:15.198198Z"
    }
   },
   "outputs": [],
   "source": [
    "ChallengeResult(\n",
    "    'feature_engineering',\n",
    "    X_time_features=X_time_features,\n",
    "    X_time_cyclical= X_time_cyclical,\n",
    "    time_pipeline=time_pipeline,\n",
    "    final_pipeline=final_pipeline,\n",
    "    final_scores=final_scores\n",
    ").write()\n",
    "\n",
    "# Hint: Try restarting your notebook if you obtain an error about saving a custom encoder"
   ]
  },
  {
   "cell_type": "markdown",
   "metadata": {},
   "source": [
    "## Model tuning"
   ]
  },
  {
   "cell_type": "markdown",
   "metadata": {},
   "source": [
    "### Random Forest"
   ]
  },
  {
   "cell_type": "markdown",
   "metadata": {},
   "source": [
    "📝 **Change the estimator of your `final_pipeline` by a Random Forest and checkout your new cross-validated score**"
   ]
  },
  {
   "cell_type": "code",
   "execution_count": 51,
   "metadata": {},
   "outputs": [],
   "source": [
    "from sklearn.ensemble import RandomForestRegressor"
   ]
  },
  {
   "cell_type": "code",
   "execution_count": 52,
   "metadata": {
    "ExecuteTime": {
     "end_time": "2021-06-29T17:29:19.391364Z",
     "start_time": "2021-06-29T17:29:15.206532Z"
    },
    "tags": [
     "challengify"
    ]
   },
   "outputs": [
    {
     "data": {
      "text/html": [
       "<style>#sk-4138e2f8-0aec-4add-8460-69102724e806 {color: black;background-color: white;}#sk-4138e2f8-0aec-4add-8460-69102724e806 pre{padding: 0;}#sk-4138e2f8-0aec-4add-8460-69102724e806 div.sk-toggleable {background-color: white;}#sk-4138e2f8-0aec-4add-8460-69102724e806 label.sk-toggleable__label {cursor: pointer;display: block;width: 100%;margin-bottom: 0;padding: 0.2em 0.3em;box-sizing: border-box;text-align: center;}#sk-4138e2f8-0aec-4add-8460-69102724e806 div.sk-toggleable__content {max-height: 0;max-width: 0;overflow: hidden;text-align: left;background-color: #f0f8ff;}#sk-4138e2f8-0aec-4add-8460-69102724e806 div.sk-toggleable__content pre {margin: 0.2em;color: black;border-radius: 0.25em;background-color: #f0f8ff;}#sk-4138e2f8-0aec-4add-8460-69102724e806 input.sk-toggleable__control:checked~div.sk-toggleable__content {max-height: 200px;max-width: 100%;overflow: auto;}#sk-4138e2f8-0aec-4add-8460-69102724e806 div.sk-estimator input.sk-toggleable__control:checked~label.sk-toggleable__label {background-color: #d4ebff;}#sk-4138e2f8-0aec-4add-8460-69102724e806 div.sk-label input.sk-toggleable__control:checked~label.sk-toggleable__label {background-color: #d4ebff;}#sk-4138e2f8-0aec-4add-8460-69102724e806 input.sk-hidden--visually {border: 0;clip: rect(1px 1px 1px 1px);clip: rect(1px, 1px, 1px, 1px);height: 1px;margin: -1px;overflow: hidden;padding: 0;position: absolute;width: 1px;}#sk-4138e2f8-0aec-4add-8460-69102724e806 div.sk-estimator {font-family: monospace;background-color: #f0f8ff;margin: 0.25em 0.25em;border: 1px dotted black;border-radius: 0.25em;box-sizing: border-box;}#sk-4138e2f8-0aec-4add-8460-69102724e806 div.sk-estimator:hover {background-color: #d4ebff;}#sk-4138e2f8-0aec-4add-8460-69102724e806 div.sk-parallel-item::after {content: \"\";width: 100%;border-bottom: 1px solid gray;flex-grow: 1;}#sk-4138e2f8-0aec-4add-8460-69102724e806 div.sk-label:hover label.sk-toggleable__label {background-color: #d4ebff;}#sk-4138e2f8-0aec-4add-8460-69102724e806 div.sk-serial::before {content: \"\";position: absolute;border-left: 1px solid gray;box-sizing: border-box;top: 2em;bottom: 0;left: 50%;}#sk-4138e2f8-0aec-4add-8460-69102724e806 div.sk-serial {display: flex;flex-direction: column;align-items: center;background-color: white;}#sk-4138e2f8-0aec-4add-8460-69102724e806 div.sk-item {z-index: 1;}#sk-4138e2f8-0aec-4add-8460-69102724e806 div.sk-parallel {display: flex;align-items: stretch;justify-content: center;background-color: white;}#sk-4138e2f8-0aec-4add-8460-69102724e806 div.sk-parallel-item {display: flex;flex-direction: column;position: relative;background-color: white;}#sk-4138e2f8-0aec-4add-8460-69102724e806 div.sk-parallel-item:first-child::after {align-self: flex-end;width: 50%;}#sk-4138e2f8-0aec-4add-8460-69102724e806 div.sk-parallel-item:last-child::after {align-self: flex-start;width: 50%;}#sk-4138e2f8-0aec-4add-8460-69102724e806 div.sk-parallel-item:only-child::after {width: 0;}#sk-4138e2f8-0aec-4add-8460-69102724e806 div.sk-dashed-wrapped {border: 1px dashed gray;margin: 0.2em;box-sizing: border-box;padding-bottom: 0.1em;background-color: white;position: relative;}#sk-4138e2f8-0aec-4add-8460-69102724e806 div.sk-label label {font-family: monospace;font-weight: bold;background-color: white;display: inline-block;line-height: 1.2em;}#sk-4138e2f8-0aec-4add-8460-69102724e806 div.sk-label-container {position: relative;z-index: 2;text-align: center;}#sk-4138e2f8-0aec-4add-8460-69102724e806 div.sk-container {display: inline-block;position: relative;}</style><div id=\"sk-4138e2f8-0aec-4add-8460-69102724e806\" class\"sk-top-container\"><div class=\"sk-container\"><div class=\"sk-item sk-dashed-wrapped\"><div class=\"sk-label-container\"><div class=\"sk-label sk-toggleable\"><input class=\"sk-toggleable__control sk-hidden--visually\" id=\"7f177c13-ca0e-465f-8bb8-a5a790b414ce\" type=\"checkbox\" ><label class=\"sk-toggleable__label\" for=\"7f177c13-ca0e-465f-8bb8-a5a790b414ce\">Pipeline</label><div class=\"sk-toggleable__content\"><pre>Pipeline(steps=[('preprocessing',\n",
       "                 ColumnTransformer(transformers=[('most_frequent_encoder',\n",
       "                                                  CustomGenreAndCountryEncoder(),\n",
       "                                                  ['all_genres',\n",
       "                                                   'top_countries']),\n",
       "                                                 ('time_encoder',\n",
       "                                                  TimeFeaturesExtractor(),\n",
       "                                                  ['release_date']),\n",
       "                                                 ('categorical_encoder',\n",
       "                                                  Pipeline(steps=[('one_hot_encode',\n",
       "                                                                   OneHotEncoder(handle_unknown='ignore',\n",
       "                                                                                 sparse=False))]),\n",
       "                                                  ['original_language',\n",
       "                                                   'status', 'top_countries',\n",
       "                                                   'available_in_english']),\n",
       "                                                 ('numerical_encoder',\n",
       "                                                  Pipeline(steps=[('scaling',\n",
       "                                                                   StandardScaler())]),\n",
       "                                                  ['duration_min', 'budget',\n",
       "                                                   'number_of_awards_won',\n",
       "                                                   'number_of_nominations',\n",
       "                                                   'has_collection',\n",
       "                                                   'number_of_top_productions'])])),\n",
       "                ('regression_model', RandomForestRegressor())])</pre></div></div></div><div class=\"sk-serial\"><div class=\"sk-item sk-dashed-wrapped\"><div class=\"sk-label-container\"><div class=\"sk-label sk-toggleable\"><input class=\"sk-toggleable__control sk-hidden--visually\" id=\"5a566428-b589-4653-a682-bfa495c0dee4\" type=\"checkbox\" ><label class=\"sk-toggleable__label\" for=\"5a566428-b589-4653-a682-bfa495c0dee4\">preprocessing: ColumnTransformer</label><div class=\"sk-toggleable__content\"><pre>ColumnTransformer(transformers=[('most_frequent_encoder',\n",
       "                                 CustomGenreAndCountryEncoder(),\n",
       "                                 ['all_genres', 'top_countries']),\n",
       "                                ('time_encoder', TimeFeaturesExtractor(),\n",
       "                                 ['release_date']),\n",
       "                                ('categorical_encoder',\n",
       "                                 Pipeline(steps=[('one_hot_encode',\n",
       "                                                  OneHotEncoder(handle_unknown='ignore',\n",
       "                                                                sparse=False))]),\n",
       "                                 ['original_language', 'status',\n",
       "                                  'top_countries', 'available_in_english']),\n",
       "                                ('numerical_encoder',\n",
       "                                 Pipeline(steps=[('scaling',\n",
       "                                                  StandardScaler())]),\n",
       "                                 ['duration_min', 'budget',\n",
       "                                  'number_of_awards_won',\n",
       "                                  'number_of_nominations', 'has_collection',\n",
       "                                  'number_of_top_productions'])])</pre></div></div></div><div class=\"sk-parallel\"><div class=\"sk-parallel-item\"><div class=\"sk-item\"><div class=\"sk-label-container\"><div class=\"sk-label sk-toggleable\"><input class=\"sk-toggleable__control sk-hidden--visually\" id=\"b67bfb6b-e65f-4a32-8544-17ad7f0b58cc\" type=\"checkbox\" ><label class=\"sk-toggleable__label\" for=\"b67bfb6b-e65f-4a32-8544-17ad7f0b58cc\">most_frequent_encoder</label><div class=\"sk-toggleable__content\"><pre>['all_genres', 'top_countries']</pre></div></div></div><div class=\"sk-serial\"><div class=\"sk-item\"><div class=\"sk-estimator sk-toggleable\"><input class=\"sk-toggleable__control sk-hidden--visually\" id=\"62ab18bd-c247-4bd8-ab5e-f1bd8ef8680d\" type=\"checkbox\" ><label class=\"sk-toggleable__label\" for=\"62ab18bd-c247-4bd8-ab5e-f1bd8ef8680d\">CustomGenreAndCountryEncoder</label><div class=\"sk-toggleable__content\"><pre>CustomGenreAndCountryEncoder()</pre></div></div></div></div></div></div><div class=\"sk-parallel-item\"><div class=\"sk-item\"><div class=\"sk-label-container\"><div class=\"sk-label sk-toggleable\"><input class=\"sk-toggleable__control sk-hidden--visually\" id=\"ec96c1cb-68e4-435b-b6ec-16e3ace79ab8\" type=\"checkbox\" ><label class=\"sk-toggleable__label\" for=\"ec96c1cb-68e4-435b-b6ec-16e3ace79ab8\">time_encoder</label><div class=\"sk-toggleable__content\"><pre>['release_date']</pre></div></div></div><div class=\"sk-serial\"><div class=\"sk-item\"><div class=\"sk-estimator sk-toggleable\"><input class=\"sk-toggleable__control sk-hidden--visually\" id=\"ec100145-9af7-4d1f-bf21-a023ba9af86b\" type=\"checkbox\" ><label class=\"sk-toggleable__label\" for=\"ec100145-9af7-4d1f-bf21-a023ba9af86b\">TimeFeaturesExtractor</label><div class=\"sk-toggleable__content\"><pre>TimeFeaturesExtractor()</pre></div></div></div></div></div></div><div class=\"sk-parallel-item\"><div class=\"sk-item\"><div class=\"sk-label-container\"><div class=\"sk-label sk-toggleable\"><input class=\"sk-toggleable__control sk-hidden--visually\" id=\"c6e2bf1f-52fc-4f8e-bd66-7433794324fa\" type=\"checkbox\" ><label class=\"sk-toggleable__label\" for=\"c6e2bf1f-52fc-4f8e-bd66-7433794324fa\">categorical_encoder</label><div class=\"sk-toggleable__content\"><pre>['original_language', 'status', 'top_countries', 'available_in_english']</pre></div></div></div><div class=\"sk-serial\"><div class=\"sk-item\"><div class=\"sk-serial\"><div class=\"sk-item\"><div class=\"sk-estimator sk-toggleable\"><input class=\"sk-toggleable__control sk-hidden--visually\" id=\"d0666ffc-c0ce-421e-94f5-32c7a54d4e69\" type=\"checkbox\" ><label class=\"sk-toggleable__label\" for=\"d0666ffc-c0ce-421e-94f5-32c7a54d4e69\">OneHotEncoder</label><div class=\"sk-toggleable__content\"><pre>OneHotEncoder(handle_unknown='ignore', sparse=False)</pre></div></div></div></div></div></div></div></div><div class=\"sk-parallel-item\"><div class=\"sk-item\"><div class=\"sk-label-container\"><div class=\"sk-label sk-toggleable\"><input class=\"sk-toggleable__control sk-hidden--visually\" id=\"11c355f8-5849-4951-a352-c397a5ac8827\" type=\"checkbox\" ><label class=\"sk-toggleable__label\" for=\"11c355f8-5849-4951-a352-c397a5ac8827\">numerical_encoder</label><div class=\"sk-toggleable__content\"><pre>['duration_min', 'budget', 'number_of_awards_won', 'number_of_nominations', 'has_collection', 'number_of_top_productions']</pre></div></div></div><div class=\"sk-serial\"><div class=\"sk-item\"><div class=\"sk-serial\"><div class=\"sk-item\"><div class=\"sk-estimator sk-toggleable\"><input class=\"sk-toggleable__control sk-hidden--visually\" id=\"1d40d13a-0196-4259-aa50-60d53497b8f2\" type=\"checkbox\" ><label class=\"sk-toggleable__label\" for=\"1d40d13a-0196-4259-aa50-60d53497b8f2\">StandardScaler</label><div class=\"sk-toggleable__content\"><pre>StandardScaler()</pre></div></div></div></div></div></div></div></div></div></div><div class=\"sk-item\"><div class=\"sk-estimator sk-toggleable\"><input class=\"sk-toggleable__control sk-hidden--visually\" id=\"27fcb21d-aca1-4550-8424-9b0f4dc8ee08\" type=\"checkbox\" ><label class=\"sk-toggleable__label\" for=\"27fcb21d-aca1-4550-8424-9b0f4dc8ee08\">RandomForestRegressor</label><div class=\"sk-toggleable__content\"><pre>RandomForestRegressor()</pre></div></div></div></div></div></div></div>"
      ],
      "text/plain": [
       "Pipeline(steps=[('preprocessing',\n",
       "                 ColumnTransformer(transformers=[('most_frequent_encoder',\n",
       "                                                  CustomGenreAndCountryEncoder(),\n",
       "                                                  ['all_genres',\n",
       "                                                   'top_countries']),\n",
       "                                                 ('time_encoder',\n",
       "                                                  TimeFeaturesExtractor(),\n",
       "                                                  ['release_date']),\n",
       "                                                 ('categorical_encoder',\n",
       "                                                  Pipeline(steps=[('one_hot_encode',\n",
       "                                                                   OneHotEncoder(handle_unknown='ignore',\n",
       "                                                                                 sparse=False))]),\n",
       "                                                  ['original_language',\n",
       "                                                   'status', 'top_countries',\n",
       "                                                   'available_in_english']),\n",
       "                                                 ('numerical_encoder',\n",
       "                                                  Pipeline(steps=[('scaling',\n",
       "                                                                   StandardScaler())]),\n",
       "                                                  ['duration_min', 'budget',\n",
       "                                                   'number_of_awards_won',\n",
       "                                                   'number_of_nominations',\n",
       "                                                   'has_collection',\n",
       "                                                   'number_of_top_productions'])])),\n",
       "                ('regression_model', RandomForestRegressor())])"
      ]
     },
     "execution_count": 52,
     "metadata": {},
     "output_type": "execute_result"
    }
   ],
   "source": [
    "final_pipeline = Pipeline([\n",
    "    ('preprocessing', final_preprocessing),\n",
    "    ('regression_model', RandomForestRegressor())])\n",
    "final_pipeline"
   ]
  },
  {
   "cell_type": "code",
   "execution_count": 53,
   "metadata": {},
   "outputs": [
    {
     "data": {
      "text/plain": [
       "array([-0.66164725, -0.72053509, -0.66774852, -0.66497271, -0.65355747])"
      ]
     },
     "execution_count": 53,
     "metadata": {},
     "output_type": "execute_result"
    }
   ],
   "source": [
    "random_forest_scores = cross_val_score(final_pipeline, X, y, cv=5, scoring='neg_mean_absolute_percentage_error')\n",
    "random_forest_scores"
   ]
  },
  {
   "cell_type": "markdown",
   "metadata": {},
   "source": [
    "### Best hyperparameters quest\n",
    "\n",
    "\n",
    "\n",
    "**📝 Fine tune your model to try to get the best performance in the minimum amount of time!**\n",
    "\n",
    "- Store the result of your search inside the `search` variable.\n",
    "- Store your 5 cross-validated scores inside `best_scores` array of floats"
   ]
  },
  {
   "cell_type": "code",
   "execution_count": 54,
   "metadata": {},
   "outputs": [
    {
     "data": {
      "text/plain": [
       "{'memory': None,\n",
       " 'steps': [('preprocessing',\n",
       "   ColumnTransformer(transformers=[('most_frequent_encoder',\n",
       "                                    CustomGenreAndCountryEncoder(),\n",
       "                                    ['all_genres', 'top_countries']),\n",
       "                                   ('time_encoder', TimeFeaturesExtractor(),\n",
       "                                    ['release_date']),\n",
       "                                   ('categorical_encoder',\n",
       "                                    Pipeline(steps=[('one_hot_encode',\n",
       "                                                     OneHotEncoder(handle_unknown='ignore',\n",
       "                                                                   sparse=False))]),\n",
       "                                    ['original_language', 'status',\n",
       "                                     'top_countries', 'available_in_english']),\n",
       "                                   ('numerical_encoder',\n",
       "                                    Pipeline(steps=[('scaling',\n",
       "                                                     StandardScaler())]),\n",
       "                                    ['duration_min', 'budget',\n",
       "                                     'number_of_awards_won',\n",
       "                                     'number_of_nominations', 'has_collection',\n",
       "                                     'number_of_top_productions'])])),\n",
       "  ('regression_model', RandomForestRegressor())],\n",
       " 'verbose': False,\n",
       " 'preprocessing': ColumnTransformer(transformers=[('most_frequent_encoder',\n",
       "                                  CustomGenreAndCountryEncoder(),\n",
       "                                  ['all_genres', 'top_countries']),\n",
       "                                 ('time_encoder', TimeFeaturesExtractor(),\n",
       "                                  ['release_date']),\n",
       "                                 ('categorical_encoder',\n",
       "                                  Pipeline(steps=[('one_hot_encode',\n",
       "                                                   OneHotEncoder(handle_unknown='ignore',\n",
       "                                                                 sparse=False))]),\n",
       "                                  ['original_language', 'status',\n",
       "                                   'top_countries', 'available_in_english']),\n",
       "                                 ('numerical_encoder',\n",
       "                                  Pipeline(steps=[('scaling',\n",
       "                                                   StandardScaler())]),\n",
       "                                  ['duration_min', 'budget',\n",
       "                                   'number_of_awards_won',\n",
       "                                   'number_of_nominations', 'has_collection',\n",
       "                                   'number_of_top_productions'])]),\n",
       " 'regression_model': RandomForestRegressor(),\n",
       " 'preprocessing__n_jobs': None,\n",
       " 'preprocessing__remainder': 'drop',\n",
       " 'preprocessing__sparse_threshold': 0.3,\n",
       " 'preprocessing__transformer_weights': None,\n",
       " 'preprocessing__transformers': [('most_frequent_encoder',\n",
       "   CustomGenreAndCountryEncoder(),\n",
       "   ['all_genres', 'top_countries']),\n",
       "  ('time_encoder', TimeFeaturesExtractor(), ['release_date']),\n",
       "  ('categorical_encoder',\n",
       "   Pipeline(steps=[('one_hot_encode',\n",
       "                    OneHotEncoder(handle_unknown='ignore', sparse=False))]),\n",
       "   ['original_language', 'status', 'top_countries', 'available_in_english']),\n",
       "  ('numerical_encoder',\n",
       "   Pipeline(steps=[('scaling', StandardScaler())]),\n",
       "   ['duration_min',\n",
       "    'budget',\n",
       "    'number_of_awards_won',\n",
       "    'number_of_nominations',\n",
       "    'has_collection',\n",
       "    'number_of_top_productions'])],\n",
       " 'preprocessing__verbose': False,\n",
       " 'preprocessing__most_frequent_encoder': CustomGenreAndCountryEncoder(),\n",
       " 'preprocessing__time_encoder': TimeFeaturesExtractor(),\n",
       " 'preprocessing__categorical_encoder': Pipeline(steps=[('one_hot_encode',\n",
       "                  OneHotEncoder(handle_unknown='ignore', sparse=False))]),\n",
       " 'preprocessing__numerical_encoder': Pipeline(steps=[('scaling', StandardScaler())]),\n",
       " 'preprocessing__categorical_encoder__memory': None,\n",
       " 'preprocessing__categorical_encoder__steps': [('one_hot_encode',\n",
       "   OneHotEncoder(handle_unknown='ignore', sparse=False))],\n",
       " 'preprocessing__categorical_encoder__verbose': False,\n",
       " 'preprocessing__categorical_encoder__one_hot_encode': OneHotEncoder(handle_unknown='ignore', sparse=False),\n",
       " 'preprocessing__categorical_encoder__one_hot_encode__categories': 'auto',\n",
       " 'preprocessing__categorical_encoder__one_hot_encode__drop': None,\n",
       " 'preprocessing__categorical_encoder__one_hot_encode__dtype': numpy.float64,\n",
       " 'preprocessing__categorical_encoder__one_hot_encode__handle_unknown': 'ignore',\n",
       " 'preprocessing__categorical_encoder__one_hot_encode__sparse': False,\n",
       " 'preprocessing__numerical_encoder__memory': None,\n",
       " 'preprocessing__numerical_encoder__steps': [('scaling', StandardScaler())],\n",
       " 'preprocessing__numerical_encoder__verbose': False,\n",
       " 'preprocessing__numerical_encoder__scaling': StandardScaler(),\n",
       " 'preprocessing__numerical_encoder__scaling__copy': True,\n",
       " 'preprocessing__numerical_encoder__scaling__with_mean': True,\n",
       " 'preprocessing__numerical_encoder__scaling__with_std': True,\n",
       " 'regression_model__bootstrap': True,\n",
       " 'regression_model__ccp_alpha': 0.0,\n",
       " 'regression_model__criterion': 'mse',\n",
       " 'regression_model__max_depth': None,\n",
       " 'regression_model__max_features': 'auto',\n",
       " 'regression_model__max_leaf_nodes': None,\n",
       " 'regression_model__max_samples': None,\n",
       " 'regression_model__min_impurity_decrease': 0.0,\n",
       " 'regression_model__min_impurity_split': None,\n",
       " 'regression_model__min_samples_leaf': 1,\n",
       " 'regression_model__min_samples_split': 2,\n",
       " 'regression_model__min_weight_fraction_leaf': 0.0,\n",
       " 'regression_model__n_estimators': 100,\n",
       " 'regression_model__n_jobs': None,\n",
       " 'regression_model__oob_score': False,\n",
       " 'regression_model__random_state': None,\n",
       " 'regression_model__verbose': 0,\n",
       " 'regression_model__warm_start': False}"
      ]
     },
     "execution_count": 54,
     "metadata": {},
     "output_type": "execute_result"
    }
   ],
   "source": [
    "final_pipeline.get_params()"
   ]
  },
  {
   "cell_type": "code",
   "execution_count": 55,
   "metadata": {},
   "outputs": [],
   "source": [
    "from sklearn.model_selection import GridSearchCV"
   ]
  },
  {
   "cell_type": "code",
   "execution_count": 56,
   "metadata": {
    "ExecuteTime": {
     "end_time": "2021-06-29T17:29:19.431573Z",
     "start_time": "2021-06-29T17:29:19.394891Z"
    },
    "tags": [
     "challengify"
    ]
   },
   "outputs": [
    {
     "data": {
      "text/plain": [
       "{'regression_model__max_depth': 200,\n",
       " 'regression_model__min_samples_leaf': 5,\n",
       " 'regression_model__n_estimators': 100}"
      ]
     },
     "execution_count": 56,
     "metadata": {},
     "output_type": "execute_result"
    }
   ],
   "source": [
    "search = GridSearchCV(\n",
    "    final_pipeline, \n",
    "    param_grid={\n",
    "        'regression_model__min_samples_leaf':[1,2,5,10],\n",
    "        'regression_model__max_depth':[50,100,200],\n",
    "        'regression_model__n_estimators':[50,100,150,200]},\n",
    "    cv=5,\n",
    "    scoring=\"neg_mean_absolute_percentage_error\",\n",
    "    n_jobs = -1)\n",
    "\n",
    "search.fit(X, y)\n",
    "search.best_params_"
   ]
  },
  {
   "cell_type": "markdown",
   "metadata": {},
   "source": [
    "**📝 Re-train your best pipeline on the whole (X,y) dataset**\n",
    "- Store the trained pipeline inside the `best_pipeline` variable"
   ]
  },
  {
   "cell_type": "code",
   "execution_count": 57,
   "metadata": {
    "ExecuteTime": {
     "end_time": "2021-06-29T17:30:18.200730Z",
     "start_time": "2021-06-29T17:30:14.992877Z"
    },
    "tags": [
     "challengify"
    ]
   },
   "outputs": [],
   "source": [
    "best_pipeline = search.best_estimator_"
   ]
  },
  {
   "cell_type": "code",
   "execution_count": 58,
   "metadata": {},
   "outputs": [
    {
     "data": {
      "text/plain": [
       "array([-0.64271519, -0.71225622, -0.67233236, -0.67582249, -0.65717262])"
      ]
     },
     "execution_count": 58,
     "metadata": {},
     "output_type": "execute_result"
    }
   ],
   "source": [
    "best_scores = cross_val_score(best_pipeline, X, y, cv=5, scoring='neg_mean_absolute_percentage_error')\n",
    "best_scores"
   ]
  },
  {
   "cell_type": "code",
   "execution_count": 59,
   "metadata": {},
   "outputs": [
    {
     "data": {
      "text/plain": [
       "-0.6720597769772692"
      ]
     },
     "execution_count": 59,
     "metadata": {},
     "output_type": "execute_result"
    }
   ],
   "source": [
    "best_scores.mean()"
   ]
  },
  {
   "cell_type": "markdown",
   "metadata": {},
   "source": [
    "### Prediction\n",
    "\n",
    "Now you have your model tuned with the best hyperparameters, you are ready for a prediction.\n",
    "\n",
    "Here is a famous TV show released in 2017:\n",
    "\n",
    "```python\n",
    "dict(\n",
    "        original_title=str(\"La Casa de Papel\"),\n",
    "        title=str(\"Money Heist\"), \n",
    "        release_date= pd.to_datetime([\"2017-05-02\"]), \n",
    "        duration_min=float(50),\n",
    "        description=str(\"An unusual group of robbers attempt to carry out the most perfect robbery\"), \n",
    "        budget=float(3_000_000), \n",
    "        original_language =str(\"es\"), \n",
    "        status=str(\"Released\"),\n",
    "        number_of_awards_won =int(2), \n",
    "        number_of_nominations=int(5), \n",
    "        has_collection=int(1),\n",
    "        all_genres=str(\"Action, Crime, Mystery\"), \n",
    "        top_countries=str(\"Spain, France, United States of America\"), \n",
    "        number_of_top_productions=int('1'),\n",
    "        available_in_english=bool('True') \n",
    ")\n",
    "```\n",
    "\n",
    "**📝 Compute the predicted popularity of this TV show and store it into the `popularity` variable as a floating number.**"
   ]
  },
  {
   "cell_type": "code",
   "execution_count": 60,
   "metadata": {
    "ExecuteTime": {
     "end_time": "2021-06-29T17:30:18.209145Z",
     "start_time": "2021-06-29T17:30:18.202809Z"
    },
    "tags": [
     "challengify"
    ]
   },
   "outputs": [
    {
     "data": {
      "text/html": [
       "<div>\n",
       "<style scoped>\n",
       "    .dataframe tbody tr th:only-of-type {\n",
       "        vertical-align: middle;\n",
       "    }\n",
       "\n",
       "    .dataframe tbody tr th {\n",
       "        vertical-align: top;\n",
       "    }\n",
       "\n",
       "    .dataframe thead th {\n",
       "        text-align: right;\n",
       "    }\n",
       "</style>\n",
       "<table border=\"1\" class=\"dataframe\">\n",
       "  <thead>\n",
       "    <tr style=\"text-align: right;\">\n",
       "      <th></th>\n",
       "      <th>original_title</th>\n",
       "      <th>title</th>\n",
       "      <th>release_date</th>\n",
       "      <th>duration_min</th>\n",
       "      <th>description</th>\n",
       "      <th>budget</th>\n",
       "      <th>original_language</th>\n",
       "      <th>status</th>\n",
       "      <th>number_of_awards_won</th>\n",
       "      <th>number_of_nominations</th>\n",
       "      <th>has_collection</th>\n",
       "      <th>all_genres</th>\n",
       "      <th>top_countries</th>\n",
       "      <th>number_of_top_productions</th>\n",
       "      <th>available_in_english</th>\n",
       "    </tr>\n",
       "  </thead>\n",
       "  <tbody>\n",
       "    <tr>\n",
       "      <th>0</th>\n",
       "      <td>La Casa de Papel</td>\n",
       "      <td>Money Heist</td>\n",
       "      <td>2017-05-02</td>\n",
       "      <td>50.0</td>\n",
       "      <td>An unusual group of robbers attempt to carry o...</td>\n",
       "      <td>3000000.0</td>\n",
       "      <td>es</td>\n",
       "      <td>Released</td>\n",
       "      <td>2</td>\n",
       "      <td>5</td>\n",
       "      <td>1</td>\n",
       "      <td>Action, Crime, Mystery</td>\n",
       "      <td>Spain, France, United States of America</td>\n",
       "      <td>1</td>\n",
       "      <td>True</td>\n",
       "    </tr>\n",
       "  </tbody>\n",
       "</table>\n",
       "</div>"
      ],
      "text/plain": [
       "     original_title        title release_date  duration_min  \\\n",
       "0  La Casa de Papel  Money Heist   2017-05-02          50.0   \n",
       "\n",
       "                                         description     budget  \\\n",
       "0  An unusual group of robbers attempt to carry o...  3000000.0   \n",
       "\n",
       "  original_language    status  number_of_awards_won  number_of_nominations  \\\n",
       "0                es  Released                     2                      5   \n",
       "\n",
       "   has_collection              all_genres  \\\n",
       "0               1  Action, Crime, Mystery   \n",
       "\n",
       "                             top_countries  number_of_top_productions  \\\n",
       "0  Spain, France, United States of America                          1   \n",
       "\n",
       "   available_in_english  \n",
       "0                  True  "
      ]
     },
     "execution_count": 60,
     "metadata": {},
     "output_type": "execute_result"
    }
   ],
   "source": [
    "# Xtest\n",
    "Xtest = pd.DataFrame(dict(\n",
    "        original_title=str(\"La Casa de Papel\"),\n",
    "        title=str(\"Money Heist\"), \n",
    "        release_date= pd.to_datetime([\"2017-05-02\"]), \n",
    "        duration_min=float(50),\n",
    "        description=str(\"An unusual group of robbers attempt to carry out the most perfect robbery\"), \n",
    "        budget=float(3_000_000), \n",
    "        original_language =str(\"es\"), \n",
    "        status=str(\"Released\"),\n",
    "        number_of_awards_won =int(2), \n",
    "        number_of_nominations=int(5), \n",
    "        has_collection=int(1),\n",
    "        all_genres=str(\"Action, Crime, Mystery\"), \n",
    "        top_countries=str(\"Spain, France, United States of America\"), \n",
    "        number_of_top_productions=int('1'),\n",
    "        available_in_english=bool('True') \n",
    "))\n",
    "Xtest"
   ]
  },
  {
   "cell_type": "code",
   "execution_count": 61,
   "metadata": {
    "ExecuteTime": {
     "end_time": "2021-06-29T17:30:18.293267Z",
     "start_time": "2021-06-29T17:30:18.211979Z"
    },
    "tags": [
     "challengify"
    ]
   },
   "outputs": [
    {
     "data": {
      "text/plain": [
       "12.043755743978195"
      ]
     },
     "execution_count": 61,
     "metadata": {},
     "output_type": "execute_result"
    }
   ],
   "source": [
    "popularity = best_pipeline.predict(Xtest)[0]\n",
    "popularity"
   ]
  },
  {
   "cell_type": "markdown",
   "metadata": {},
   "source": [
    "### 🧪 Save your results\n",
    "\n",
    "Run the following cell to save your results."
   ]
  },
  {
   "cell_type": "code",
   "execution_count": 62,
   "metadata": {
    "ExecuteTime": {
     "end_time": "2021-06-29T17:30:18.492068Z",
     "start_time": "2021-06-29T17:30:18.294946Z"
    }
   },
   "outputs": [],
   "source": [
    "ChallengeResult(\n",
    "    \"model_tuning\",\n",
    "    search=search,\n",
    "    best_pipeline=best_pipeline,\n",
    "    best_scores = best_scores,\n",
    "    popularity=popularity\n",
    ").write()"
   ]
  },
  {
   "cell_type": "markdown",
   "metadata": {},
   "source": [
    "## API \n",
    "\n",
    "Time to put a pipeline in production!\n",
    "\n",
    "👉 Go to https://github.com/lewagon/data-certification-api and follow instructions\n",
    "\n",
    "**This final part is independent from the above notebook**"
   ]
  }
 ],
 "metadata": {
  "interpreter": {
   "hash": "572b4e543617d03e90ecaf525e08695da1ff29b13594f787e33b342cf572f792"
  },
  "kernelspec": {
   "display_name": "Python 3",
   "language": "python",
   "name": "python3"
  },
  "language_info": {
   "codemirror_mode": {
    "name": "ipython",
    "version": 3
   },
   "file_extension": ".py",
   "mimetype": "text/x-python",
   "name": "python",
   "nbconvert_exporter": "python",
   "pygments_lexer": "ipython3",
   "version": "3.9.2"
  },
  "toc": {
   "base_numbering": 1,
   "nav_menu": {},
   "number_sections": true,
   "sideBar": true,
   "skip_h1_title": true,
   "title_cell": "Table of Contents",
   "title_sidebar": "Contents",
   "toc_cell": false,
   "toc_position": {
    "height": "calc(100% - 180px)",
    "left": "10px",
    "top": "150px",
    "width": "242px"
   },
   "toc_section_display": true,
   "toc_window_display": true
  },
  "varInspector": {
   "cols": {
    "lenName": 16,
    "lenType": 16,
    "lenVar": 40
   },
   "kernels_config": {
    "python": {
     "delete_cmd_postfix": "",
     "delete_cmd_prefix": "del ",
     "library": "var_list.py",
     "varRefreshCmd": "print(var_dic_list())"
    },
    "r": {
     "delete_cmd_postfix": ") ",
     "delete_cmd_prefix": "rm(",
     "library": "var_list.r",
     "varRefreshCmd": "cat(var_dic_list()) "
    }
   },
   "types_to_exclude": [
    "module",
    "function",
    "builtin_function_or_method",
    "instance",
    "_Feature"
   ],
   "window_display": false
  }
 },
 "nbformat": 4,
 "nbformat_minor": 4
}
