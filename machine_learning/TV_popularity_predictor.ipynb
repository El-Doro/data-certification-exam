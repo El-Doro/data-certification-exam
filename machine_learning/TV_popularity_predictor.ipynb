{
 "cells": [
  {
   "cell_type": "markdown",
   "metadata": {},
   "source": [
    "# TV shows Popularity Predictor (39%)\n",
    "\n",
    "The goal of this challenge is to create a model that predicts the `popularity` of a movie or TV show\n",
    "\n",
    "<img src=\"image.jpg\" width=300 />\n",
    "\n",
    "\n",
    "\n",
    "\n",
    "The dataset contains a list of movies and TV shows with the following characteristics:\n",
    "- `title`: title of the movie in english\n",
    "- `original_title`: original title of the movie \n",
    "- `duration_min`: duration of the movie in minutes\n",
    "- `popularity`: popularity of the movie in terms of review scores\n",
    "- `release_date`: release date\n",
    "- `description`: short summary of the movie\n",
    "- `budget`: budget spent to produce the movie in USD\n",
    "- `revenue`: movie revenue in USD \n",
    "- `original_language`: original language \n",
    "- `status`: is the movie already released or not\n",
    "- `number_of_awards_won`: number of awards won for the movie\n",
    "- `number_of_nominations`: number of nominations\n",
    "- `has_collection`: if the movie is part of a sequel or not\n",
    "- `all_genres`: genres that described the movie (can be zero, one or many!) \n",
    "- `top_countries`: countries where the movie was produced (can be zero, one or many!) \n",
    "- `number_of_top_productions`: number of top production companies that produced the film if any. \n",
    "Top production companies includes: Warner Bros, Universal Pictures, Paramount Pictures, Canal+, etc...\n",
    "- `available_in_english`: whether the movie is available in english or not"
   ]
  },
  {
   "cell_type": "markdown",
   "metadata": {},
   "source": [
    "## Imports\n",
    "\n",
    "Run the following cell to load the basic packages:"
   ]
  },
  {
   "cell_type": "code",
   "execution_count": 1,
   "metadata": {
    "ExecuteTime": {
     "end_time": "2021-06-29T17:29:05.325249Z",
     "start_time": "2021-06-29T17:29:04.415422Z"
    }
   },
   "outputs": [],
   "source": [
    "import numpy as np\n",
    "import pandas as pd\n",
    "import matplotlib.pyplot as plt\n",
    "import seaborn as sns\n",
    "from nbresult import ChallengeResult"
   ]
  },
  {
   "cell_type": "markdown",
   "metadata": {},
   "source": [
    "## Data collection\n",
    "\n",
    "📝 **Load the `movie_popularity.csv` dataset from the provided this [URL](https://wagon-public-datasets.s3.amazonaws.com/certification_france_2021_q2/tv_movies_popularity.csv)**\n",
    "- First, check and remove the rows that may be complete duplicate from one another (we never know!)\n",
    "- Then, drop the columns that have too much missing values\n",
    "- Finally, drop the few remaining rows that have missing values\n",
    "- Store the result in a `DataFrame` named `data`"
   ]
  },
  {
   "cell_type": "code",
   "execution_count": 2,
   "metadata": {
    "ExecuteTime": {
     "end_time": "2021-06-29T17:29:09.664618Z",
     "start_time": "2021-06-29T17:29:05.328223Z"
    },
    "slideshow": {
     "slide_type": "notes"
    },
    "tags": [
     "challengify"
    ]
   },
   "outputs": [],
   "source": [
    "data = pd.read_csv('https://wagon-public-datasets.s3.amazonaws.com/certification_france_2021_q2/tv_movies_popularity.csv')"
   ]
  },
  {
   "cell_type": "code",
   "execution_count": 3,
   "metadata": {},
   "outputs": [],
   "source": [
    "pd.set_option('display.max_rows', 500)"
   ]
  },
  {
   "cell_type": "code",
   "execution_count": 4,
   "metadata": {},
   "outputs": [
    {
     "name": "stdout",
     "output_type": "stream",
     "text": [
      "(6864, 17)\n",
      "(6464, 17)\n"
     ]
    }
   ],
   "source": [
    "# Remove potential duplicates\n",
    "print(data.shape)\n",
    "data = data.drop_duplicates()\n",
    "print(data.shape)"
   ]
  },
  {
   "cell_type": "code",
   "execution_count": 5,
   "metadata": {},
   "outputs": [
    {
     "data": {
      "text/plain": [
       "Hercules                            3\n",
       "King Kong                           3\n",
       "Anna Karenina                       3\n",
       "Carrie                              2\n",
       "Mutiny on the Bounty                2\n",
       "                                   ..\n",
       "刺客聶隱娘                               1\n",
       "Jimmy Neutron: Boy Genius           1\n",
       "A Girl Walks Home Alone at Night    1\n",
       "Assassins                           1\n",
       "Children of Men                     1\n",
       "Name: original_title, Length: 6351, dtype: int64"
      ]
     },
     "execution_count": 5,
     "metadata": {},
     "output_type": "execute_result"
    }
   ],
   "source": [
    "data['original_title'].value_counts()"
   ]
  },
  {
   "cell_type": "code",
   "execution_count": 6,
   "metadata": {},
   "outputs": [
    {
     "data": {
      "text/html": [
       "<div>\n",
       "<style scoped>\n",
       "    .dataframe tbody tr th:only-of-type {\n",
       "        vertical-align: middle;\n",
       "    }\n",
       "\n",
       "    .dataframe tbody tr th {\n",
       "        vertical-align: top;\n",
       "    }\n",
       "\n",
       "    .dataframe thead th {\n",
       "        text-align: right;\n",
       "    }\n",
       "</style>\n",
       "<table border=\"1\" class=\"dataframe\">\n",
       "  <thead>\n",
       "    <tr style=\"text-align: right;\">\n",
       "      <th></th>\n",
       "      <th>original_title</th>\n",
       "      <th>title</th>\n",
       "      <th>popularity</th>\n",
       "      <th>release_date</th>\n",
       "      <th>duration_min</th>\n",
       "      <th>description</th>\n",
       "      <th>budget</th>\n",
       "      <th>revenue</th>\n",
       "      <th>original_language</th>\n",
       "      <th>status</th>\n",
       "      <th>number_of_awards_won</th>\n",
       "      <th>number_of_nominations</th>\n",
       "      <th>has_collection</th>\n",
       "      <th>all_genres</th>\n",
       "      <th>top_countries</th>\n",
       "      <th>number_of_top_productions</th>\n",
       "      <th>available_in_english</th>\n",
       "    </tr>\n",
       "  </thead>\n",
       "  <tbody>\n",
       "    <tr>\n",
       "      <th>336</th>\n",
       "      <td>Anna Karenina</td>\n",
       "      <td>Anna Karenina</td>\n",
       "      <td>8.543311</td>\n",
       "      <td>2012-09-06</td>\n",
       "      <td>130.0</td>\n",
       "      <td>In late-19th-century Russian high society, St....</td>\n",
       "      <td>0</td>\n",
       "      <td>68929150.0</td>\n",
       "      <td>en</td>\n",
       "      <td>Released</td>\n",
       "      <td>33</td>\n",
       "      <td>53</td>\n",
       "      <td>0</td>\n",
       "      <td>Drama, Romance</td>\n",
       "      <td>France, United Kingdom</td>\n",
       "      <td>2</td>\n",
       "      <td>True</td>\n",
       "    </tr>\n",
       "    <tr>\n",
       "      <th>2602</th>\n",
       "      <td>Anna Karenina</td>\n",
       "      <td>Anna Karenina</td>\n",
       "      <td>5.660835</td>\n",
       "      <td>1997-04-04</td>\n",
       "      <td>108.0</td>\n",
       "      <td>Anna (Marceau) is a wife and mother who has an...</td>\n",
       "      <td>35000000</td>\n",
       "      <td>791830.0</td>\n",
       "      <td>en</td>\n",
       "      <td>Released</td>\n",
       "      <td>0</td>\n",
       "      <td>0</td>\n",
       "      <td>0</td>\n",
       "      <td>Drama, Romance</td>\n",
       "      <td>United States of America</td>\n",
       "      <td>1</td>\n",
       "      <td>True</td>\n",
       "    </tr>\n",
       "    <tr>\n",
       "      <th>5915</th>\n",
       "      <td>Anna Karenina</td>\n",
       "      <td>Anna Karenina</td>\n",
       "      <td>1.810574</td>\n",
       "      <td>1935-08-30</td>\n",
       "      <td>95.0</td>\n",
       "      <td>The married Anna Karenina falls in love with C...</td>\n",
       "      <td>1152000</td>\n",
       "      <td>NaN</td>\n",
       "      <td>en</td>\n",
       "      <td>Released</td>\n",
       "      <td>3</td>\n",
       "      <td>0</td>\n",
       "      <td>0</td>\n",
       "      <td>Drama, Romance</td>\n",
       "      <td>United States of America</td>\n",
       "      <td>1</td>\n",
       "      <td>True</td>\n",
       "    </tr>\n",
       "  </tbody>\n",
       "</table>\n",
       "</div>"
      ],
      "text/plain": [
       "     original_title          title  popularity release_date  duration_min  \\\n",
       "336   Anna Karenina  Anna Karenina    8.543311   2012-09-06         130.0   \n",
       "2602  Anna Karenina  Anna Karenina    5.660835   1997-04-04         108.0   \n",
       "5915  Anna Karenina  Anna Karenina    1.810574   1935-08-30          95.0   \n",
       "\n",
       "                                            description    budget     revenue  \\\n",
       "336   In late-19th-century Russian high society, St....         0  68929150.0   \n",
       "2602  Anna (Marceau) is a wife and mother who has an...  35000000    791830.0   \n",
       "5915  The married Anna Karenina falls in love with C...   1152000         NaN   \n",
       "\n",
       "     original_language    status  number_of_awards_won  number_of_nominations  \\\n",
       "336                 en  Released                    33                     53   \n",
       "2602                en  Released                     0                      0   \n",
       "5915                en  Released                     3                      0   \n",
       "\n",
       "      has_collection      all_genres             top_countries  \\\n",
       "336                0  Drama, Romance    France, United Kingdom   \n",
       "2602               0  Drama, Romance  United States of America   \n",
       "5915               0  Drama, Romance  United States of America   \n",
       "\n",
       "      number_of_top_productions  available_in_english  \n",
       "336                           2                  True  \n",
       "2602                          1                  True  \n",
       "5915                          1                  True  "
      ]
     },
     "execution_count": 6,
     "metadata": {},
     "output_type": "execute_result"
    }
   ],
   "source": [
    "data[data[\"original_title\"].str.contains(\"Anna Karenina\")]"
   ]
  },
  {
   "cell_type": "code",
   "execution_count": 7,
   "metadata": {},
   "outputs": [
    {
     "data": {
      "text/plain": [
       "Released           6459\n",
       "Post Production       4\n",
       "Rumored               1\n",
       "Name: status, dtype: int64"
      ]
     },
     "execution_count": 7,
     "metadata": {},
     "output_type": "execute_result"
    }
   ],
   "source": [
    "data['status'].value_counts()"
   ]
  },
  {
   "cell_type": "code",
   "execution_count": 8,
   "metadata": {},
   "outputs": [
    {
     "data": {
      "text/plain": [
       "True     5807\n",
       "False     657\n",
       "Name: available_in_english, dtype: int64"
      ]
     },
     "execution_count": 8,
     "metadata": {},
     "output_type": "execute_result"
    }
   ],
   "source": [
    "data['available_in_english'].value_counts()"
   ]
  },
  {
   "cell_type": "code",
   "execution_count": 9,
   "metadata": {},
   "outputs": [
    {
     "data": {
      "text/plain": [
       "revenue                      3847\n",
       "title                           1\n",
       "original_title                  0\n",
       "number_of_awards_won            0\n",
       "number_of_top_productions       0\n",
       "top_countries                   0\n",
       "all_genres                      0\n",
       "has_collection                  0\n",
       "number_of_nominations           0\n",
       "original_language               0\n",
       "status                          0\n",
       "budget                          0\n",
       "description                     0\n",
       "duration_min                    0\n",
       "release_date                    0\n",
       "popularity                      0\n",
       "available_in_english            0\n",
       "dtype: int64"
      ]
     },
     "execution_count": 9,
     "metadata": {},
     "output_type": "execute_result"
    }
   ],
   "source": [
    "# Investigate missing values\n",
    "data.isnull().sum().sort_values(ascending=False)"
   ]
  },
  {
   "cell_type": "code",
   "execution_count": 10,
   "metadata": {},
   "outputs": [
    {
     "data": {
      "text/html": [
       "<div>\n",
       "<style scoped>\n",
       "    .dataframe tbody tr th:only-of-type {\n",
       "        vertical-align: middle;\n",
       "    }\n",
       "\n",
       "    .dataframe tbody tr th {\n",
       "        vertical-align: top;\n",
       "    }\n",
       "\n",
       "    .dataframe thead th {\n",
       "        text-align: right;\n",
       "    }\n",
       "</style>\n",
       "<table border=\"1\" class=\"dataframe\">\n",
       "  <thead>\n",
       "    <tr style=\"text-align: right;\">\n",
       "      <th></th>\n",
       "      <th>original_title</th>\n",
       "      <th>title</th>\n",
       "      <th>popularity</th>\n",
       "      <th>release_date</th>\n",
       "      <th>duration_min</th>\n",
       "      <th>description</th>\n",
       "      <th>budget</th>\n",
       "      <th>original_language</th>\n",
       "      <th>status</th>\n",
       "      <th>number_of_awards_won</th>\n",
       "      <th>number_of_nominations</th>\n",
       "      <th>has_collection</th>\n",
       "      <th>all_genres</th>\n",
       "      <th>top_countries</th>\n",
       "      <th>number_of_top_productions</th>\n",
       "      <th>available_in_english</th>\n",
       "    </tr>\n",
       "  </thead>\n",
       "  <tbody>\n",
       "    <tr>\n",
       "      <th>4908</th>\n",
       "      <td>Los ojos de Julia</td>\n",
       "      <td>Julia's Eyes</td>\n",
       "      <td>5.020398</td>\n",
       "      <td>2010-10-29</td>\n",
       "      <td>118.0</td>\n",
       "      <td>The story of a woman who is slowly losing her ...</td>\n",
       "      <td>0</td>\n",
       "      <td>es</td>\n",
       "      <td>Released</td>\n",
       "      <td>0</td>\n",
       "      <td>11</td>\n",
       "      <td>0</td>\n",
       "      <td>Horror, Thriller</td>\n",
       "      <td>Spain</td>\n",
       "      <td>0</td>\n",
       "      <td>False</td>\n",
       "    </tr>\n",
       "    <tr>\n",
       "      <th>3127</th>\n",
       "      <td>White Noise</td>\n",
       "      <td>White Noise</td>\n",
       "      <td>6.143324</td>\n",
       "      <td>2005-01-07</td>\n",
       "      <td>101.0</td>\n",
       "      <td>An architect's desire to speak with his wife f...</td>\n",
       "      <td>10000000</td>\n",
       "      <td>en</td>\n",
       "      <td>Released</td>\n",
       "      <td>1</td>\n",
       "      <td>2</td>\n",
       "      <td>1</td>\n",
       "      <td>Drama, Horror, Thriller</td>\n",
       "      <td>Canada, United Kingdom, United States of America</td>\n",
       "      <td>1</td>\n",
       "      <td>True</td>\n",
       "    </tr>\n",
       "    <tr>\n",
       "      <th>5130</th>\n",
       "      <td>Bad Santa</td>\n",
       "      <td>Bad Santa</td>\n",
       "      <td>10.930143</td>\n",
       "      <td>2003-11-26</td>\n",
       "      <td>91.0</td>\n",
       "      <td>A miserable conman and his partner pose as San...</td>\n",
       "      <td>23000000</td>\n",
       "      <td>en</td>\n",
       "      <td>Released</td>\n",
       "      <td>1</td>\n",
       "      <td>12</td>\n",
       "      <td>1</td>\n",
       "      <td>Comedy, Crime, Drama</td>\n",
       "      <td>Germany, United States of America</td>\n",
       "      <td>1</td>\n",
       "      <td>True</td>\n",
       "    </tr>\n",
       "  </tbody>\n",
       "</table>\n",
       "</div>"
      ],
      "text/plain": [
       "         original_title         title  popularity release_date  duration_min  \\\n",
       "4908  Los ojos de Julia  Julia's Eyes    5.020398   2010-10-29         118.0   \n",
       "3127        White Noise   White Noise    6.143324   2005-01-07         101.0   \n",
       "5130          Bad Santa     Bad Santa   10.930143   2003-11-26          91.0   \n",
       "\n",
       "                                            description    budget  \\\n",
       "4908  The story of a woman who is slowly losing her ...         0   \n",
       "3127  An architect's desire to speak with his wife f...  10000000   \n",
       "5130  A miserable conman and his partner pose as San...  23000000   \n",
       "\n",
       "     original_language    status  number_of_awards_won  number_of_nominations  \\\n",
       "4908                es  Released                     0                     11   \n",
       "3127                en  Released                     1                      2   \n",
       "5130                en  Released                     1                     12   \n",
       "\n",
       "      has_collection               all_genres  \\\n",
       "4908               0         Horror, Thriller   \n",
       "3127               1  Drama, Horror, Thriller   \n",
       "5130               1     Comedy, Crime, Drama   \n",
       "\n",
       "                                         top_countries  \\\n",
       "4908                                             Spain   \n",
       "3127  Canada, United Kingdom, United States of America   \n",
       "5130                 Germany, United States of America   \n",
       "\n",
       "      number_of_top_productions  available_in_english  \n",
       "4908                          0                 False  \n",
       "3127                          1                  True  \n",
       "5130                          1                  True  "
      ]
     },
     "execution_count": 10,
     "metadata": {},
     "output_type": "execute_result"
    }
   ],
   "source": [
    "# Drop colunmn revenue with too much missing values\n",
    "data.drop(columns='revenue', inplace=True)\n",
    "data.sample(3)"
   ]
  },
  {
   "cell_type": "code",
   "execution_count": 11,
   "metadata": {},
   "outputs": [
    {
     "data": {
      "text/plain": [
       "0           1424\n",
       "20000000     184\n",
       "25000000     171\n",
       "15000000     169\n",
       "30000000     154\n",
       "            ... \n",
       "4180000        1\n",
       "2380000        1\n",
       "8376800        1\n",
       "99000000       1\n",
       "22700000       1\n",
       "Name: budget, Length: 636, dtype: int64"
      ]
     },
     "execution_count": 11,
     "metadata": {},
     "output_type": "execute_result"
    }
   ],
   "source": [
    "data['budget'].value_counts()"
   ]
  },
  {
   "cell_type": "code",
   "execution_count": 12,
   "metadata": {},
   "outputs": [
    {
     "data": {
      "text/html": [
       "<div>\n",
       "<style scoped>\n",
       "    .dataframe tbody tr th:only-of-type {\n",
       "        vertical-align: middle;\n",
       "    }\n",
       "\n",
       "    .dataframe tbody tr th {\n",
       "        vertical-align: top;\n",
       "    }\n",
       "\n",
       "    .dataframe thead th {\n",
       "        text-align: right;\n",
       "    }\n",
       "</style>\n",
       "<table border=\"1\" class=\"dataframe\">\n",
       "  <thead>\n",
       "    <tr style=\"text-align: right;\">\n",
       "      <th></th>\n",
       "      <th>original_title</th>\n",
       "      <th>title</th>\n",
       "      <th>popularity</th>\n",
       "      <th>release_date</th>\n",
       "      <th>duration_min</th>\n",
       "      <th>description</th>\n",
       "      <th>budget</th>\n",
       "      <th>original_language</th>\n",
       "      <th>status</th>\n",
       "      <th>number_of_awards_won</th>\n",
       "      <th>number_of_nominations</th>\n",
       "      <th>has_collection</th>\n",
       "      <th>all_genres</th>\n",
       "      <th>top_countries</th>\n",
       "      <th>number_of_top_productions</th>\n",
       "      <th>available_in_english</th>\n",
       "    </tr>\n",
       "  </thead>\n",
       "  <tbody>\n",
       "    <tr>\n",
       "      <th>0</th>\n",
       "      <td>Hot Tub Time Machine 2</td>\n",
       "      <td>Hot Tub Time Machine 2</td>\n",
       "      <td>6.575393</td>\n",
       "      <td>2015-02-20</td>\n",
       "      <td>93.0</td>\n",
       "      <td>When Lou's shot in the groin, Nick and Jacob d...</td>\n",
       "      <td>14000000</td>\n",
       "      <td>en</td>\n",
       "      <td>Released</td>\n",
       "      <td>0</td>\n",
       "      <td>2</td>\n",
       "      <td>1</td>\n",
       "      <td>Comedy</td>\n",
       "      <td>United States of America</td>\n",
       "      <td>3</td>\n",
       "      <td>True</td>\n",
       "    </tr>\n",
       "    <tr>\n",
       "      <th>1</th>\n",
       "      <td>The Princess Diaries 2: Royal Engagement</td>\n",
       "      <td>The Princess Diaries 2: Royal Engagement</td>\n",
       "      <td>8.248895</td>\n",
       "      <td>2004-08-06</td>\n",
       "      <td>113.0</td>\n",
       "      <td>Now settled in Genovia, Princess Mia faces a n...</td>\n",
       "      <td>40000000</td>\n",
       "      <td>en</td>\n",
       "      <td>Released</td>\n",
       "      <td>1</td>\n",
       "      <td>2</td>\n",
       "      <td>1</td>\n",
       "      <td>Comedy, Drama, Family, Romance</td>\n",
       "      <td>United States of America</td>\n",
       "      <td>1</td>\n",
       "      <td>True</td>\n",
       "    </tr>\n",
       "    <tr>\n",
       "      <th>2</th>\n",
       "      <td>Whiplash</td>\n",
       "      <td>Whiplash</td>\n",
       "      <td>64.299990</td>\n",
       "      <td>2014-10-10</td>\n",
       "      <td>105.0</td>\n",
       "      <td>A promising young drummer enrolls at a cut-thr...</td>\n",
       "      <td>3300000</td>\n",
       "      <td>en</td>\n",
       "      <td>Released</td>\n",
       "      <td>97</td>\n",
       "      <td>145</td>\n",
       "      <td>0</td>\n",
       "      <td>Drama</td>\n",
       "      <td>United States of America</td>\n",
       "      <td>0</td>\n",
       "      <td>True</td>\n",
       "    </tr>\n",
       "    <tr>\n",
       "      <th>3</th>\n",
       "      <td>Kahaani</td>\n",
       "      <td>Kahaani</td>\n",
       "      <td>3.174936</td>\n",
       "      <td>2012-03-09</td>\n",
       "      <td>122.0</td>\n",
       "      <td>A pregnant woman's search for her missing husb...</td>\n",
       "      <td>1200000</td>\n",
       "      <td>hi</td>\n",
       "      <td>Released</td>\n",
       "      <td>23</td>\n",
       "      <td>18</td>\n",
       "      <td>0</td>\n",
       "      <td>Drama, Thriller</td>\n",
       "      <td>India</td>\n",
       "      <td>0</td>\n",
       "      <td>True</td>\n",
       "    </tr>\n",
       "    <tr>\n",
       "      <th>4</th>\n",
       "      <td>The Possession</td>\n",
       "      <td>The Possession</td>\n",
       "      <td>7.286477</td>\n",
       "      <td>2012-08-30</td>\n",
       "      <td>92.0</td>\n",
       "      <td>A young girl buys an antique box at a yard sal...</td>\n",
       "      <td>14000000</td>\n",
       "      <td>en</td>\n",
       "      <td>Released</td>\n",
       "      <td>0</td>\n",
       "      <td>6</td>\n",
       "      <td>0</td>\n",
       "      <td>Horror, Thriller</td>\n",
       "      <td>Canada, United States of America</td>\n",
       "      <td>0</td>\n",
       "      <td>True</td>\n",
       "    </tr>\n",
       "    <tr>\n",
       "      <th>...</th>\n",
       "      <td>...</td>\n",
       "      <td>...</td>\n",
       "      <td>...</td>\n",
       "      <td>...</td>\n",
       "      <td>...</td>\n",
       "      <td>...</td>\n",
       "      <td>...</td>\n",
       "      <td>...</td>\n",
       "      <td>...</td>\n",
       "      <td>...</td>\n",
       "      <td>...</td>\n",
       "      <td>...</td>\n",
       "      <td>...</td>\n",
       "      <td>...</td>\n",
       "      <td>...</td>\n",
       "      <td>...</td>\n",
       "    </tr>\n",
       "    <tr>\n",
       "      <th>6459</th>\n",
       "      <td>Original Sin</td>\n",
       "      <td>Original Sin</td>\n",
       "      <td>9.970359</td>\n",
       "      <td>2001-08-03</td>\n",
       "      <td>118.0</td>\n",
       "      <td>A woman, along with her lover, plans to con a ...</td>\n",
       "      <td>42000000</td>\n",
       "      <td>en</td>\n",
       "      <td>Released</td>\n",
       "      <td>0</td>\n",
       "      <td>2</td>\n",
       "      <td>0</td>\n",
       "      <td>Thriller</td>\n",
       "      <td>France, United States of America</td>\n",
       "      <td>1</td>\n",
       "      <td>True</td>\n",
       "    </tr>\n",
       "    <tr>\n",
       "      <th>6460</th>\n",
       "      <td>Without a Paddle</td>\n",
       "      <td>Without a Paddle</td>\n",
       "      <td>6.046516</td>\n",
       "      <td>2004-08-20</td>\n",
       "      <td>95.0</td>\n",
       "      <td>After their friend dies, three men decide to f...</td>\n",
       "      <td>19000000</td>\n",
       "      <td>en</td>\n",
       "      <td>Released</td>\n",
       "      <td>0</td>\n",
       "      <td>0</td>\n",
       "      <td>1</td>\n",
       "      <td>Action, Adventure, Comedy, Thriller</td>\n",
       "      <td>United States of America</td>\n",
       "      <td>1</td>\n",
       "      <td>True</td>\n",
       "    </tr>\n",
       "    <tr>\n",
       "      <th>6461</th>\n",
       "      <td>The Verdict</td>\n",
       "      <td>The Verdict</td>\n",
       "      <td>9.596883</td>\n",
       "      <td>1982-12-08</td>\n",
       "      <td>129.0</td>\n",
       "      <td>A lawyer sees the chance to salvage his career...</td>\n",
       "      <td>16000000</td>\n",
       "      <td>en</td>\n",
       "      <td>Released</td>\n",
       "      <td>3</td>\n",
       "      <td>14</td>\n",
       "      <td>0</td>\n",
       "      <td>Drama</td>\n",
       "      <td>United States of America</td>\n",
       "      <td>1</td>\n",
       "      <td>True</td>\n",
       "    </tr>\n",
       "    <tr>\n",
       "      <th>6462</th>\n",
       "      <td>It Follows</td>\n",
       "      <td>It Follows</td>\n",
       "      <td>20.359336</td>\n",
       "      <td>2015-02-04</td>\n",
       "      <td>100.0</td>\n",
       "      <td>A young woman is followed by an unknown supern...</td>\n",
       "      <td>2000000</td>\n",
       "      <td>en</td>\n",
       "      <td>Released</td>\n",
       "      <td>25</td>\n",
       "      <td>43</td>\n",
       "      <td>0</td>\n",
       "      <td>Horror, Thriller</td>\n",
       "      <td>United States of America</td>\n",
       "      <td>0</td>\n",
       "      <td>True</td>\n",
       "    </tr>\n",
       "    <tr>\n",
       "      <th>6463</th>\n",
       "      <td>Vivre sa vie: film en douze tableaux</td>\n",
       "      <td>Vivre Sa Vie</td>\n",
       "      <td>11.305910</td>\n",
       "      <td>1962-09-20</td>\n",
       "      <td>85.0</td>\n",
       "      <td>Twelve episodic tales in the life of a Parisia...</td>\n",
       "      <td>64000</td>\n",
       "      <td>fr</td>\n",
       "      <td>Released</td>\n",
       "      <td>3</td>\n",
       "      <td>1</td>\n",
       "      <td>0</td>\n",
       "      <td>Drama</td>\n",
       "      <td>France</td>\n",
       "      <td>0</td>\n",
       "      <td>False</td>\n",
       "    </tr>\n",
       "  </tbody>\n",
       "</table>\n",
       "<p>5040 rows × 16 columns</p>\n",
       "</div>"
      ],
      "text/plain": [
       "                                original_title  \\\n",
       "0                       Hot Tub Time Machine 2   \n",
       "1     The Princess Diaries 2: Royal Engagement   \n",
       "2                                     Whiplash   \n",
       "3                                      Kahaani   \n",
       "4                               The Possession   \n",
       "...                                        ...   \n",
       "6459                              Original Sin   \n",
       "6460                          Without a Paddle   \n",
       "6461                               The Verdict   \n",
       "6462                                It Follows   \n",
       "6463      Vivre sa vie: film en douze tableaux   \n",
       "\n",
       "                                         title  popularity release_date  \\\n",
       "0                       Hot Tub Time Machine 2    6.575393   2015-02-20   \n",
       "1     The Princess Diaries 2: Royal Engagement    8.248895   2004-08-06   \n",
       "2                                     Whiplash   64.299990   2014-10-10   \n",
       "3                                      Kahaani    3.174936   2012-03-09   \n",
       "4                               The Possession    7.286477   2012-08-30   \n",
       "...                                        ...         ...          ...   \n",
       "6459                              Original Sin    9.970359   2001-08-03   \n",
       "6460                          Without a Paddle    6.046516   2004-08-20   \n",
       "6461                               The Verdict    9.596883   1982-12-08   \n",
       "6462                                It Follows   20.359336   2015-02-04   \n",
       "6463                              Vivre Sa Vie   11.305910   1962-09-20   \n",
       "\n",
       "      duration_min                                        description  \\\n",
       "0             93.0  When Lou's shot in the groin, Nick and Jacob d...   \n",
       "1            113.0  Now settled in Genovia, Princess Mia faces a n...   \n",
       "2            105.0  A promising young drummer enrolls at a cut-thr...   \n",
       "3            122.0  A pregnant woman's search for her missing husb...   \n",
       "4             92.0  A young girl buys an antique box at a yard sal...   \n",
       "...            ...                                                ...   \n",
       "6459         118.0  A woman, along with her lover, plans to con a ...   \n",
       "6460          95.0  After their friend dies, three men decide to f...   \n",
       "6461         129.0  A lawyer sees the chance to salvage his career...   \n",
       "6462         100.0  A young woman is followed by an unknown supern...   \n",
       "6463          85.0  Twelve episodic tales in the life of a Parisia...   \n",
       "\n",
       "        budget original_language    status  number_of_awards_won  \\\n",
       "0     14000000                en  Released                     0   \n",
       "1     40000000                en  Released                     1   \n",
       "2      3300000                en  Released                    97   \n",
       "3      1200000                hi  Released                    23   \n",
       "4     14000000                en  Released                     0   \n",
       "...        ...               ...       ...                   ...   \n",
       "6459  42000000                en  Released                     0   \n",
       "6460  19000000                en  Released                     0   \n",
       "6461  16000000                en  Released                     3   \n",
       "6462   2000000                en  Released                    25   \n",
       "6463     64000                fr  Released                     3   \n",
       "\n",
       "      number_of_nominations  has_collection  \\\n",
       "0                         2               1   \n",
       "1                         2               1   \n",
       "2                       145               0   \n",
       "3                        18               0   \n",
       "4                         6               0   \n",
       "...                     ...             ...   \n",
       "6459                      2               0   \n",
       "6460                      0               1   \n",
       "6461                     14               0   \n",
       "6462                     43               0   \n",
       "6463                      1               0   \n",
       "\n",
       "                               all_genres                     top_countries  \\\n",
       "0                                  Comedy          United States of America   \n",
       "1          Comedy, Drama, Family, Romance          United States of America   \n",
       "2                                   Drama          United States of America   \n",
       "3                         Drama, Thriller                             India   \n",
       "4                        Horror, Thriller  Canada, United States of America   \n",
       "...                                   ...                               ...   \n",
       "6459                             Thriller  France, United States of America   \n",
       "6460  Action, Adventure, Comedy, Thriller          United States of America   \n",
       "6461                                Drama          United States of America   \n",
       "6462                     Horror, Thriller          United States of America   \n",
       "6463                                Drama                            France   \n",
       "\n",
       "      number_of_top_productions  available_in_english  \n",
       "0                             3                  True  \n",
       "1                             1                  True  \n",
       "2                             0                  True  \n",
       "3                             0                  True  \n",
       "4                             0                  True  \n",
       "...                         ...                   ...  \n",
       "6459                          1                  True  \n",
       "6460                          1                  True  \n",
       "6461                          1                  True  \n",
       "6462                          0                  True  \n",
       "6463                          0                 False  \n",
       "\n",
       "[5040 rows x 16 columns]"
      ]
     },
     "execution_count": 12,
     "metadata": {},
     "output_type": "execute_result"
    }
   ],
   "source": [
    "data[data['budget']>0]"
   ]
  },
  {
   "cell_type": "code",
   "execution_count": 13,
   "metadata": {},
   "outputs": [
    {
     "name": "stdout",
     "output_type": "stream",
     "text": [
      "(6464, 16)\n",
      "(6463, 16)\n"
     ]
    }
   ],
   "source": [
    "#  Drop the few remaining rows that have missing values -> remove row with missing title\n",
    "print(data.shape)\n",
    "data = data.dropna()\n",
    "print(data.shape)"
   ]
  },
  {
   "cell_type": "markdown",
   "metadata": {},
   "source": [
    "### 🧪 Run the following cell to save your results"
   ]
  },
  {
   "cell_type": "code",
   "execution_count": 14,
   "metadata": {
    "ExecuteTime": {
     "end_time": "2021-06-29T17:29:09.754301Z",
     "start_time": "2021-06-29T17:29:09.746171Z"
    }
   },
   "outputs": [],
   "source": [
    "from nbresult import ChallengeResult\n",
    "\n",
    "result = ChallengeResult(\n",
    "    \"data_cleaning\",\n",
    "    columns=data.columns,\n",
    "    cleaning=sum(data.isnull().sum()),\n",
    "    shape=data.shape)\n",
    "result.write()"
   ]
  },
  {
   "cell_type": "markdown",
   "metadata": {},
   "source": [
    "## Baseline model"
   ]
  },
  {
   "cell_type": "markdown",
   "metadata": {},
   "source": [
    "### The metric"
   ]
  },
  {
   "cell_type": "markdown",
   "metadata": {},
   "source": [
    "📝 **We want to predict `popularity`: Start by plotting a histogram of the target to visualize it**"
   ]
  },
  {
   "cell_type": "markdown",
   "metadata": {},
   "source": [
    "📝 **Which sklearn's scoring [metric](https://scikit-learn.org/stable/modules/model_evaluation.html) should we use if we want it to:**\n",
    "\n",
    "- Be better when greater (i.e. metric_good_model > metric_bad_model)\n",
    "- Penalize **more** an error between 10 and 20 compared with an error between 110 and 120\n",
    "- Said otherwise, what matter should be the **relative error ratio**, more than the absolute error difference\n",
    "\n",
    "Hint: the histogram plotted above should give you some intuition about it\n",
    "\n",
    "👉 Store its exact [sklearn scoring name](https://scikit-learn.org/stable/modules/model_evaluation.html) as `string` in the variable `scoring` below.\n",
    "\n",
    "🚨 You must use this metric for the rest of the challenge"
   ]
  },
  {
   "cell_type": "code",
   "execution_count": 15,
   "metadata": {},
   "outputs": [
    {
     "data": {
      "image/png": "[encoded data removed]",
      "text/plain": [
       "<Figure size 432x288 with 1 Axes>"
      ]
     },
     "metadata": {
      "needs_background": "light"
     },
     "output_type": "display_data"
    }
   ],
   "source": [
    "# Plot districution target\n",
    "sns.histplot(data=data,x=data['popularity']);"
   ]
  },
  {
   "cell_type": "code",
   "execution_count": 16,
   "metadata": {
    "ExecuteTime": {
     "end_time": "2021-06-29T17:29:13.047468Z",
     "start_time": "2021-06-29T17:29:13.045265Z"
    },
    "slideshow": {
     "slide_type": "notes"
    },
    "tags": [
     "challengify"
    ]
   },
   "outputs": [],
   "source": [
    "# Choose metric -> regression model\n",
    "scoring = 'neg_mean_absolute_percentage_error'"
   ]
  },
  {
   "cell_type": "markdown",
   "metadata": {},
   "source": [
    "<details>\n",
    "    <summary>💡 Hint</summary>\n",
    "It is around here!\n",
    "<img src=\"scores.jpg\" width=200 height=400 />\n",
    "</details>"
   ]
  },
  {
   "cell_type": "markdown",
   "metadata": {},
   "source": [
    "### X,y"
   ]
  },
  {
   "cell_type": "markdown",
   "metadata": {},
   "source": [
    "**📝 Define `X` as the features Dataframe (keep all features) and `y` as the target Series.**"
   ]
  },
  {
   "cell_type": "code",
   "execution_count": 17,
   "metadata": {
    "ExecuteTime": {
     "end_time": "2021-06-29T17:29:13.054580Z",
     "start_time": "2021-06-29T17:29:13.049865Z"
    },
    "tags": [
     "challengify"
    ]
   },
   "outputs": [
    {
     "name": "stdout",
     "output_type": "stream",
     "text": [
      "(6463, 15)\n",
      "(6463, 1)\n"
     ]
    }
   ],
   "source": [
    "X = data.drop(columns='popularity')\n",
    "y = data[['popularity']]\n",
    "print(X.shape)\n",
    "print(y.shape)"
   ]
  },
  {
   "cell_type": "markdown",
   "metadata": {},
   "source": [
    "### Basic pipeline"
   ]
  },
  {
   "cell_type": "markdown",
   "metadata": {},
   "source": [
    "📝 **Check unique values per features**"
   ]
  },
  {
   "cell_type": "code",
   "execution_count": 18,
   "metadata": {
    "ExecuteTime": {
     "end_time": "2021-06-29T17:29:13.074836Z",
     "start_time": "2021-06-29T17:29:13.062527Z"
    },
    "tags": [
     "challengify"
    ]
   },
   "outputs": [
    {
     "data": {
      "text/html": [
       "<div>\n",
       "<style scoped>\n",
       "    .dataframe tbody tr th:only-of-type {\n",
       "        vertical-align: middle;\n",
       "    }\n",
       "\n",
       "    .dataframe tbody tr th {\n",
       "        vertical-align: top;\n",
       "    }\n",
       "\n",
       "    .dataframe thead th {\n",
       "        text-align: right;\n",
       "    }\n",
       "</style>\n",
       "<table border=\"1\" class=\"dataframe\">\n",
       "  <thead>\n",
       "    <tr style=\"text-align: right;\">\n",
       "      <th></th>\n",
       "      <th>original_title</th>\n",
       "      <th>title</th>\n",
       "      <th>release_date</th>\n",
       "      <th>duration_min</th>\n",
       "      <th>description</th>\n",
       "      <th>budget</th>\n",
       "      <th>original_language</th>\n",
       "      <th>status</th>\n",
       "      <th>number_of_awards_won</th>\n",
       "      <th>number_of_nominations</th>\n",
       "      <th>has_collection</th>\n",
       "      <th>all_genres</th>\n",
       "      <th>top_countries</th>\n",
       "      <th>number_of_top_productions</th>\n",
       "      <th>available_in_english</th>\n",
       "    </tr>\n",
       "  </thead>\n",
       "  <tbody>\n",
       "    <tr>\n",
       "      <th>5851</th>\n",
       "      <td>Jude</td>\n",
       "      <td>Jude</td>\n",
       "      <td>1996-02-06</td>\n",
       "      <td>123.0</td>\n",
       "      <td>Late 19th century England; Jude, an intelligen...</td>\n",
       "      <td>7000000</td>\n",
       "      <td>en</td>\n",
       "      <td>Released</td>\n",
       "      <td>5</td>\n",
       "      <td>6</td>\n",
       "      <td>0</td>\n",
       "      <td>Drama, Romance</td>\n",
       "      <td>United Kingdom</td>\n",
       "      <td>0</td>\n",
       "      <td>True</td>\n",
       "    </tr>\n",
       "    <tr>\n",
       "      <th>112</th>\n",
       "      <td>黃石的孩子</td>\n",
       "      <td>The Children of Huang Shi</td>\n",
       "      <td>2008-07-03</td>\n",
       "      <td>125.0</td>\n",
       "      <td>About young British journalist, George Hogg, w...</td>\n",
       "      <td>40000000</td>\n",
       "      <td>zh</td>\n",
       "      <td>Released</td>\n",
       "      <td>1</td>\n",
       "      <td>3</td>\n",
       "      <td>0</td>\n",
       "      <td>Drama, War</td>\n",
       "      <td>Australia, China, Germany</td>\n",
       "      <td>0</td>\n",
       "      <td>True</td>\n",
       "    </tr>\n",
       "    <tr>\n",
       "      <th>4026</th>\n",
       "      <td>The Purple Rose of Cairo</td>\n",
       "      <td>The Purple Rose of Cairo</td>\n",
       "      <td>1985-03-01</td>\n",
       "      <td>82.0</td>\n",
       "      <td>In New Jersey in 1935, a movie character walks...</td>\n",
       "      <td>15000000</td>\n",
       "      <td>en</td>\n",
       "      <td>Released</td>\n",
       "      <td>15</td>\n",
       "      <td>15</td>\n",
       "      <td>0</td>\n",
       "      <td>Comedy, Fantasy, Romance</td>\n",
       "      <td>United States of America</td>\n",
       "      <td>1</td>\n",
       "      <td>True</td>\n",
       "    </tr>\n",
       "  </tbody>\n",
       "</table>\n",
       "</div>"
      ],
      "text/plain": [
       "                original_title                      title release_date  \\\n",
       "5851                      Jude                       Jude   1996-02-06   \n",
       "112                      黃石的孩子  The Children of Huang Shi   2008-07-03   \n",
       "4026  The Purple Rose of Cairo   The Purple Rose of Cairo   1985-03-01   \n",
       "\n",
       "      duration_min                                        description  \\\n",
       "5851         123.0  Late 19th century England; Jude, an intelligen...   \n",
       "112          125.0  About young British journalist, George Hogg, w...   \n",
       "4026          82.0  In New Jersey in 1935, a movie character walks...   \n",
       "\n",
       "        budget original_language    status  number_of_awards_won  \\\n",
       "5851   7000000                en  Released                     5   \n",
       "112   40000000                zh  Released                     1   \n",
       "4026  15000000                en  Released                    15   \n",
       "\n",
       "      number_of_nominations  has_collection                all_genres  \\\n",
       "5851                      6               0            Drama, Romance   \n",
       "112                       3               0                Drama, War   \n",
       "4026                     15               0  Comedy, Fantasy, Romance   \n",
       "\n",
       "                  top_countries  number_of_top_productions  \\\n",
       "5851             United Kingdom                          0   \n",
       "112   Australia, China, Germany                          0   \n",
       "4026   United States of America                          1   \n",
       "\n",
       "      available_in_english  \n",
       "5851                  True  \n",
       "112                   True  \n",
       "4026                  True  "
      ]
     },
     "execution_count": 18,
     "metadata": {},
     "output_type": "execute_result"
    }
   ],
   "source": [
    "X.sample(3)"
   ]
  },
  {
   "cell_type": "code",
   "execution_count": 19,
   "metadata": {
    "scrolled": true
   },
   "outputs": [
    {
     "data": {
      "text/plain": [
       "original_title                object\n",
       "title                         object\n",
       "release_date                  object\n",
       "duration_min                 float64\n",
       "description                   object\n",
       "budget                         int64\n",
       "original_language             object\n",
       "status                        object\n",
       "number_of_awards_won           int64\n",
       "number_of_nominations          int64\n",
       "has_collection                 int64\n",
       "all_genres                    object\n",
       "top_countries                 object\n",
       "number_of_top_productions      int64\n",
       "available_in_english            bool\n",
       "dtype: object"
      ]
     },
     "execution_count": 19,
     "metadata": {},
     "output_type": "execute_result"
    }
   ],
   "source": [
    "X.dtypes"
   ]
  },
  {
   "cell_type": "code",
   "execution_count": 20,
   "metadata": {},
   "outputs": [
    {
     "data": {
      "text/plain": [
       "en    5657\n",
       "fr     165\n",
       "hi     114\n",
       "ja      81\n",
       "es      63\n",
       "it      45\n",
       "ru      39\n",
       "zh      38\n",
       "de      37\n",
       "ko      36\n",
       "cn      33\n",
       "ta      26\n",
       "da      17\n",
       "sv      14\n",
       "te       9\n",
       "pt       9\n",
       "ml       8\n",
       "tr       8\n",
       "ro       7\n",
       "nl       7\n",
       "th       5\n",
       "pl       5\n",
       "fa       5\n",
       "hu       4\n",
       "no       4\n",
       "he       3\n",
       "el       3\n",
       "bn       3\n",
       "fi       2\n",
       "id       2\n",
       "sr       2\n",
       "cs       2\n",
       "bm       1\n",
       "ur       1\n",
       "ka       1\n",
       "ca       1\n",
       "nb       1\n",
       "ar       1\n",
       "is       1\n",
       "xx       1\n",
       "kn       1\n",
       "af       1\n",
       "Name: original_language, dtype: int64"
      ]
     },
     "execution_count": 20,
     "metadata": {},
     "output_type": "execute_result"
    }
   ],
   "source": [
    "data['original_language'].value_counts()"
   ]
  },
  {
   "cell_type": "code",
   "execution_count": 21,
   "metadata": {},
   "outputs": [
    {
     "data": {
      "text/plain": [
       "0           1424\n",
       "20000000     184\n",
       "25000000     171\n",
       "15000000     169\n",
       "30000000     154\n",
       "            ... \n",
       "4180000        1\n",
       "2380000        1\n",
       "8376800        1\n",
       "99000000       1\n",
       "22700000       1\n",
       "Name: budget, Length: 636, dtype: int64"
      ]
     },
     "execution_count": 21,
     "metadata": {},
     "output_type": "execute_result"
    }
   ],
   "source": [
    "data['budget'].value_counts()"
   ]
  },
  {
   "cell_type": "code",
   "execution_count": 22,
   "metadata": {},
   "outputs": [
    {
     "data": {
      "text/plain": [
       "(1424, 16)"
      ]
     },
     "execution_count": 22,
     "metadata": {},
     "output_type": "execute_result"
    }
   ],
   "source": [
    "data[data['budget']==0].shape"
   ]
  },
  {
   "cell_type": "code",
   "execution_count": 23,
   "metadata": {},
   "outputs": [
    {
     "data": {
      "image/png": "[encoded data removed]",
      "text/plain": [
       "<Figure size 432x288 with 1 Axes>"
      ]
     },
     "metadata": {
      "needs_background": "light"
     },
     "output_type": "display_data"
    }
   ],
   "source": [
    "sns.histplot(data=data,x=data['duration_min']);"
   ]
  },
  {
   "cell_type": "markdown",
   "metadata": {},
   "source": [
    "In this baseline, let's forget about the columns below that are difficult to process"
   ]
  },
  {
   "cell_type": "code",
   "execution_count": 24,
   "metadata": {
    "ExecuteTime": {
     "end_time": "2021-06-29T17:29:13.102327Z",
     "start_time": "2021-06-29T17:29:13.099066Z"
    }
   },
   "outputs": [],
   "source": [
    "text = ['description', 'original_title', 'title']\n",
    "dates = ['release_date'] "
   ]
  },
  {
   "cell_type": "markdown",
   "metadata": {},
   "source": [
    "We will simply scale the numerical features and one-hot-encode the categorical ones remaining\n",
    "\n",
    "📝 **Prepare 2 `list`s of features names as `str`**:\n",
    "- `numerical` which contains **only** numerical features\n",
    "- `categorical` which contains **only** categorical features (exept text and dates above)"
   ]
  },
  {
   "cell_type": "code",
   "execution_count": 25,
   "metadata": {},
   "outputs": [
    {
     "data": {
      "text/plain": [
       "original_title                object\n",
       "title                         object\n",
       "release_date                  object\n",
       "duration_min                 float64\n",
       "description                   object\n",
       "budget                         int64\n",
       "original_language             object\n",
       "status                        object\n",
       "number_of_awards_won           int64\n",
       "number_of_nominations          int64\n",
       "has_collection                 int64\n",
       "all_genres                    object\n",
       "top_countries                 object\n",
       "number_of_top_productions      int64\n",
       "available_in_english            bool\n",
       "dtype: object"
      ]
     },
     "execution_count": 25,
     "metadata": {},
     "output_type": "execute_result"
    }
   ],
   "source": [
    "X.dtypes"
   ]
  },
  {
   "cell_type": "code",
   "execution_count": 26,
   "metadata": {
    "ExecuteTime": {
     "end_time": "2021-06-29T17:29:13.107916Z",
     "start_time": "2021-06-29T17:29:13.104876Z"
    },
    "tags": [
     "challengify"
    ]
   },
   "outputs": [],
   "source": [
    "numerical = list(X.select_dtypes(include=['float64','int64']).columns)\n",
    "categorical = ['original_language','status','all_genres','top_countries','available_in_english']"
   ]
  },
  {
   "cell_type": "markdown",
   "metadata": {},
   "source": [
    "### Pipelining\n",
    "\n",
    "You are going to build a basic pipeline made of a basic preprocessing and a trees-based model of your choice."
   ]
  },
  {
   "cell_type": "markdown",
   "metadata": {},
   "source": [
    "#### Preprocessing pipeline\n",
    "\n",
    "**📝 Create a basic preprocessing pipeline for the 2 types of features above:**\n",
    "- It should scale the `numerical` features\n",
    "- one-hot-encode the `categorical` and `boolean` features\n",
    "- drop the others\n",
    "- Store your pipeline in a `basic_preprocessing` variable"
   ]
  },
  {
   "cell_type": "code",
   "execution_count": 27,
   "metadata": {
    "ExecuteTime": {
     "end_time": "2021-06-29T17:29:13.475427Z",
     "start_time": "2021-06-29T17:29:13.109926Z"
    }
   },
   "outputs": [],
   "source": [
    "# Execute this cell to enable a nice display for your pipelines\n",
    "from sklearn import set_config; set_config(display='diagram')"
   ]
  },
  {
   "cell_type": "code",
   "execution_count": 28,
   "metadata": {
    "ExecuteTime": {
     "end_time": "2021-06-29T17:29:13.497003Z",
     "start_time": "2021-06-29T17:29:13.477748Z"
    },
    "tags": [
     "challengify"
    ]
   },
   "outputs": [],
   "source": [
    "from sklearn.pipeline import Pipeline\n",
    "from sklearn.preprocessing import OneHotEncoder\n",
    "from sklearn.preprocessing import StandardScaler\n",
    "from sklearn.compose import ColumnTransformer"
   ]
  },
  {
   "cell_type": "code",
   "execution_count": 29,
   "metadata": {},
   "outputs": [
    {
     "data": {
      "text/html": [
       "<style>#sk-1b5df5c2-1071-409c-b36c-945a973a76e8 {color: black;background-color: white;}#sk-1b5df5c2-1071-409c-b36c-945a973a76e8 pre{padding: 0;}#sk-1b5df5c2-1071-409c-b36c-945a973a76e8 div.sk-toggleable {background-color: white;}#sk-1b5df5c2-1071-409c-b36c-945a973a76e8 label.sk-toggleable__label {cursor: pointer;display: block;width: 100%;margin-bottom: 0;padding: 0.2em 0.3em;box-sizing: border-box;text-align: center;}#sk-1b5df5c2-1071-409c-b36c-945a973a76e8 div.sk-toggleable__content {max-height: 0;max-width: 0;overflow: hidden;text-align: left;background-color: #f0f8ff;}#sk-1b5df5c2-1071-409c-b36c-945a973a76e8 div.sk-toggleable__content pre {margin: 0.2em;color: black;border-radius: 0.25em;background-color: #f0f8ff;}#sk-1b5df5c2-1071-409c-b36c-945a973a76e8 input.sk-toggleable__control:checked~div.sk-toggleable__content {max-height: 200px;max-width: 100%;overflow: auto;}#sk-1b5df5c2-1071-409c-b36c-945a973a76e8 div.sk-estimator input.sk-toggleable__control:checked~label.sk-toggleable__label {background-color: #d4ebff;}#sk-1b5df5c2-1071-409c-b36c-945a973a76e8 div.sk-label input.sk-toggleable__control:checked~label.sk-toggleable__label {background-color: #d4ebff;}#sk-1b5df5c2-1071-409c-b36c-945a973a76e8 input.sk-hidden--visually {border: 0;clip: rect(1px 1px 1px 1px);clip: rect(1px, 1px, 1px, 1px);height: 1px;margin: -1px;overflow: hidden;padding: 0;position: absolute;width: 1px;}#sk-1b5df5c2-1071-409c-b36c-945a973a76e8 div.sk-estimator {font-family: monospace;background-color: #f0f8ff;margin: 0.25em 0.25em;border: 1px dotted black;border-radius: 0.25em;box-sizing: border-box;}#sk-1b5df5c2-1071-409c-b36c-945a973a76e8 div.sk-estimator:hover {background-color: #d4ebff;}#sk-1b5df5c2-1071-409c-b36c-945a973a76e8 div.sk-parallel-item::after {content: \"\";width: 100%;border-bottom: 1px solid gray;flex-grow: 1;}#sk-1b5df5c2-1071-409c-b36c-945a973a76e8 div.sk-label:hover label.sk-toggleable__label {background-color: #d4ebff;}#sk-1b5df5c2-1071-409c-b36c-945a973a76e8 div.sk-serial::before {content: \"\";position: absolute;border-left: 1px solid gray;box-sizing: border-box;top: 2em;bottom: 0;left: 50%;}#sk-1b5df5c2-1071-409c-b36c-945a973a76e8 div.sk-serial {display: flex;flex-direction: column;align-items: center;background-color: white;}#sk-1b5df5c2-1071-409c-b36c-945a973a76e8 div.sk-item {z-index: 1;}#sk-1b5df5c2-1071-409c-b36c-945a973a76e8 div.sk-parallel {display: flex;align-items: stretch;justify-content: center;background-color: white;}#sk-1b5df5c2-1071-409c-b36c-945a973a76e8 div.sk-parallel-item {display: flex;flex-direction: column;position: relative;background-color: white;}#sk-1b5df5c2-1071-409c-b36c-945a973a76e8 div.sk-parallel-item:first-child::after {align-self: flex-end;width: 50%;}#sk-1b5df5c2-1071-409c-b36c-945a973a76e8 div.sk-parallel-item:last-child::after {align-self: flex-start;width: 50%;}#sk-1b5df5c2-1071-409c-b36c-945a973a76e8 div.sk-parallel-item:only-child::after {width: 0;}#sk-1b5df5c2-1071-409c-b36c-945a973a76e8 div.sk-dashed-wrapped {border: 1px dashed gray;margin: 0.2em;box-sizing: border-box;padding-bottom: 0.1em;background-color: white;position: relative;}#sk-1b5df5c2-1071-409c-b36c-945a973a76e8 div.sk-label label {font-family: monospace;font-weight: bold;background-color: white;display: inline-block;line-height: 1.2em;}#sk-1b5df5c2-1071-409c-b36c-945a973a76e8 div.sk-label-container {position: relative;z-index: 2;text-align: center;}#sk-1b5df5c2-1071-409c-b36c-945a973a76e8 div.sk-container {display: inline-block;position: relative;}</style><div id=\"sk-1b5df5c2-1071-409c-b36c-945a973a76e8\" class\"sk-top-container\"><div class=\"sk-container\"><div class=\"sk-item sk-dashed-wrapped\"><div class=\"sk-label-container\"><div class=\"sk-label sk-toggleable\"><input class=\"sk-toggleable__control sk-hidden--visually\" id=\"f2ff244c-03fc-482f-995b-3daba2a45444\" type=\"checkbox\" ><label class=\"sk-toggleable__label\" for=\"f2ff244c-03fc-482f-995b-3daba2a45444\">ColumnTransformer</label><div class=\"sk-toggleable__content\"><pre>ColumnTransformer(transformers=[('categorical_encoder',\n",
       "                                 Pipeline(steps=[('one_hot_encode',\n",
       "                                                  OneHotEncoder(handle_unknown='ignore',\n",
       "                                                                sparse=False))]),\n",
       "                                 ['original_language', 'status', 'all_genres',\n",
       "                                  'top_countries', 'available_in_english']),\n",
       "                                ('numerical_encoder',\n",
       "                                 Pipeline(steps=[('scaling',\n",
       "                                                  StandardScaler())]),\n",
       "                                 ['duration_min', 'budget',\n",
       "                                  'number_of_awards_won',\n",
       "                                  'number_of_nominations', 'has_collection',\n",
       "                                  'number_of_top_productions'])])</pre></div></div></div><div class=\"sk-parallel\"><div class=\"sk-parallel-item\"><div class=\"sk-item\"><div class=\"sk-label-container\"><div class=\"sk-label sk-toggleable\"><input class=\"sk-toggleable__control sk-hidden--visually\" id=\"77a8b0cc-22e0-4b17-a761-5bbfdf0fd6b0\" type=\"checkbox\" ><label class=\"sk-toggleable__label\" for=\"77a8b0cc-22e0-4b17-a761-5bbfdf0fd6b0\">categorical_encoder</label><div class=\"sk-toggleable__content\"><pre>['original_language', 'status', 'all_genres', 'top_countries', 'available_in_english']</pre></div></div></div><div class=\"sk-serial\"><div class=\"sk-item\"><div class=\"sk-serial\"><div class=\"sk-item\"><div class=\"sk-estimator sk-toggleable\"><input class=\"sk-toggleable__control sk-hidden--visually\" id=\"8f9d1539-af6c-489b-a98d-10cacf2cc375\" type=\"checkbox\" ><label class=\"sk-toggleable__label\" for=\"8f9d1539-af6c-489b-a98d-10cacf2cc375\">OneHotEncoder</label><div class=\"sk-toggleable__content\"><pre>OneHotEncoder(handle_unknown='ignore', sparse=False)</pre></div></div></div></div></div></div></div></div><div class=\"sk-parallel-item\"><div class=\"sk-item\"><div class=\"sk-label-container\"><div class=\"sk-label sk-toggleable\"><input class=\"sk-toggleable__control sk-hidden--visually\" id=\"01f8c5ed-db64-41bd-8020-f2a82739e285\" type=\"checkbox\" ><label class=\"sk-toggleable__label\" for=\"01f8c5ed-db64-41bd-8020-f2a82739e285\">numerical_encoder</label><div class=\"sk-toggleable__content\"><pre>['duration_min', 'budget', 'number_of_awards_won', 'number_of_nominations', 'has_collection', 'number_of_top_productions']</pre></div></div></div><div class=\"sk-serial\"><div class=\"sk-item\"><div class=\"sk-serial\"><div class=\"sk-item\"><div class=\"sk-estimator sk-toggleable\"><input class=\"sk-toggleable__control sk-hidden--visually\" id=\"20ce0947-94c5-4de1-a9bd-45dd7e0db49c\" type=\"checkbox\" ><label class=\"sk-toggleable__label\" for=\"20ce0947-94c5-4de1-a9bd-45dd7e0db49c\">StandardScaler</label><div class=\"sk-toggleable__content\"><pre>StandardScaler()</pre></div></div></div></div></div></div></div></div></div></div></div></div>"
      ],
      "text/plain": [
       "ColumnTransformer(transformers=[('categorical_encoder',\n",
       "                                 Pipeline(steps=[('one_hot_encode',\n",
       "                                                  OneHotEncoder(handle_unknown='ignore',\n",
       "                                                                sparse=False))]),\n",
       "                                 ['original_language', 'status', 'all_genres',\n",
       "                                  'top_countries', 'available_in_english']),\n",
       "                                ('numerical_encoder',\n",
       "                                 Pipeline(steps=[('scaling',\n",
       "                                                  StandardScaler())]),\n",
       "                                 ['duration_min', 'budget',\n",
       "                                  'number_of_awards_won',\n",
       "                                  'number_of_nominations', 'has_collection',\n",
       "                                  'number_of_top_productions'])])"
      ]
     },
     "execution_count": 29,
     "metadata": {},
     "output_type": "execute_result"
    }
   ],
   "source": [
    "categorical_encoder = Pipeline([('one_hot_encode', OneHotEncoder(handle_unknown='ignore',sparse=False))])\n",
    "\n",
    "numerical_encoder = Pipeline([('scaling', StandardScaler())])\n",
    "\n",
    "basic_preprocessing = ColumnTransformer([\n",
    "    ('categorical_encoder', categorical_encoder,categorical),\n",
    "    ('numerical_encoder', numerical_encoder,numerical)],remainder='drop')\n",
    "basic_preprocessing"
   ]
  },
  {
   "cell_type": "markdown",
   "metadata": {},
   "source": [
    "**📝 Encode the features and store the result in the variable `X_basic_preprocessing`.**"
   ]
  },
  {
   "cell_type": "code",
   "execution_count": 30,
   "metadata": {
    "ExecuteTime": {
     "end_time": "2021-06-29T17:29:13.523938Z",
     "start_time": "2021-06-29T17:29:13.499042Z"
    },
    "tags": [
     "challengify"
    ]
   },
   "outputs": [],
   "source": [
    "X_basic_preprocessing = basic_preprocessing.fit_transform(X)"
   ]
  },
  {
   "cell_type": "code",
   "execution_count": 31,
   "metadata": {},
   "outputs": [
    {
     "data": {
      "text/plain": [
       "(6463, 1118)"
      ]
     },
     "execution_count": 31,
     "metadata": {},
     "output_type": "execute_result"
    }
   ],
   "source": [
    "X_basic_preprocessing.shape"
   ]
  },
  {
   "cell_type": "markdown",
   "metadata": {},
   "source": [
    "**❓ How many features has been generated by the preprocessing? What do you think about this number?**"
   ]
  },
  {
   "cell_type": "markdown",
   "metadata": {
    "tags": [
     "challengify"
    ]
   },
   "source": [
    "> 1118 : Way too many features due to one hot encoding columns with too many possible values"
   ]
  },
  {
   "cell_type": "markdown",
   "metadata": {},
   "source": [
    "#### Modeling pipeline\n",
    "\n",
    "Let's add a model to our pipe. With so many features one-hot-encoded, we **need a model which can act as a feature selector**\n",
    "\n",
    "👉 A linear model regularized with L1 penalty is a good starting point.\n",
    "\n",
    "\n",
    "**📝 Create a `basic_pipeline` which encapsulate the `basic_preprocessing` pipeline + a linear model with a L1 penalty**\n",
    "\n",
    "- store the resulting pipeline as `basic_pipeline`\n",
    "- don't fine-tune it\n",
    "\n",
    "\n",
    "<details>\n",
    "    <summary>Hints</summary>\n",
    "\n",
    "Choose your model from the list [here](https://scikit-learn.org/stable/modules/classes.html#module-sklearn.linear_model)\n",
    "\n",
    "</details>"
   ]
  },
  {
   "cell_type": "code",
   "execution_count": 32,
   "metadata": {
    "ExecuteTime": {
     "end_time": "2021-06-29T17:29:13.614429Z",
     "start_time": "2021-06-29T17:29:13.609607Z"
    },
    "tags": [
     "challengify"
    ]
   },
   "outputs": [],
   "source": [
    "# Choose linear model with simple feature selection and L1 regularization\n",
    "from sklearn.linear_model import Lasso"
   ]
  },
  {
   "cell_type": "code",
   "execution_count": 33,
   "metadata": {},
   "outputs": [
    {
     "data": {
      "text/html": [
       "<style>#sk-04340f9b-6b5b-4aec-ab4e-eba6b764c1db {color: black;background-color: white;}#sk-04340f9b-6b5b-4aec-ab4e-eba6b764c1db pre{padding: 0;}#sk-04340f9b-6b5b-4aec-ab4e-eba6b764c1db div.sk-toggleable {background-color: white;}#sk-04340f9b-6b5b-4aec-ab4e-eba6b764c1db label.sk-toggleable__label {cursor: pointer;display: block;width: 100%;margin-bottom: 0;padding: 0.2em 0.3em;box-sizing: border-box;text-align: center;}#sk-04340f9b-6b5b-4aec-ab4e-eba6b764c1db div.sk-toggleable__content {max-height: 0;max-width: 0;overflow: hidden;text-align: left;background-color: #f0f8ff;}#sk-04340f9b-6b5b-4aec-ab4e-eba6b764c1db div.sk-toggleable__content pre {margin: 0.2em;color: black;border-radius: 0.25em;background-color: #f0f8ff;}#sk-04340f9b-6b5b-4aec-ab4e-eba6b764c1db input.sk-toggleable__control:checked~div.sk-toggleable__content {max-height: 200px;max-width: 100%;overflow: auto;}#sk-04340f9b-6b5b-4aec-ab4e-eba6b764c1db div.sk-estimator input.sk-toggleable__control:checked~label.sk-toggleable__label {background-color: #d4ebff;}#sk-04340f9b-6b5b-4aec-ab4e-eba6b764c1db div.sk-label input.sk-toggleable__control:checked~label.sk-toggleable__label {background-color: #d4ebff;}#sk-04340f9b-6b5b-4aec-ab4e-eba6b764c1db input.sk-hidden--visually {border: 0;clip: rect(1px 1px 1px 1px);clip: rect(1px, 1px, 1px, 1px);height: 1px;margin: -1px;overflow: hidden;padding: 0;position: absolute;width: 1px;}#sk-04340f9b-6b5b-4aec-ab4e-eba6b764c1db div.sk-estimator {font-family: monospace;background-color: #f0f8ff;margin: 0.25em 0.25em;border: 1px dotted black;border-radius: 0.25em;box-sizing: border-box;}#sk-04340f9b-6b5b-4aec-ab4e-eba6b764c1db div.sk-estimator:hover {background-color: #d4ebff;}#sk-04340f9b-6b5b-4aec-ab4e-eba6b764c1db div.sk-parallel-item::after {content: \"\";width: 100%;border-bottom: 1px solid gray;flex-grow: 1;}#sk-04340f9b-6b5b-4aec-ab4e-eba6b764c1db div.sk-label:hover label.sk-toggleable__label {background-color: #d4ebff;}#sk-04340f9b-6b5b-4aec-ab4e-eba6b764c1db div.sk-serial::before {content: \"\";position: absolute;border-left: 1px solid gray;box-sizing: border-box;top: 2em;bottom: 0;left: 50%;}#sk-04340f9b-6b5b-4aec-ab4e-eba6b764c1db div.sk-serial {display: flex;flex-direction: column;align-items: center;background-color: white;}#sk-04340f9b-6b5b-4aec-ab4e-eba6b764c1db div.sk-item {z-index: 1;}#sk-04340f9b-6b5b-4aec-ab4e-eba6b764c1db div.sk-parallel {display: flex;align-items: stretch;justify-content: center;background-color: white;}#sk-04340f9b-6b5b-4aec-ab4e-eba6b764c1db div.sk-parallel-item {display: flex;flex-direction: column;position: relative;background-color: white;}#sk-04340f9b-6b5b-4aec-ab4e-eba6b764c1db div.sk-parallel-item:first-child::after {align-self: flex-end;width: 50%;}#sk-04340f9b-6b5b-4aec-ab4e-eba6b764c1db div.sk-parallel-item:last-child::after {align-self: flex-start;width: 50%;}#sk-04340f9b-6b5b-4aec-ab4e-eba6b764c1db div.sk-parallel-item:only-child::after {width: 0;}#sk-04340f9b-6b5b-4aec-ab4e-eba6b764c1db div.sk-dashed-wrapped {border: 1px dashed gray;margin: 0.2em;box-sizing: border-box;padding-bottom: 0.1em;background-color: white;position: relative;}#sk-04340f9b-6b5b-4aec-ab4e-eba6b764c1db div.sk-label label {font-family: monospace;font-weight: bold;background-color: white;display: inline-block;line-height: 1.2em;}#sk-04340f9b-6b5b-4aec-ab4e-eba6b764c1db div.sk-label-container {position: relative;z-index: 2;text-align: center;}#sk-04340f9b-6b5b-4aec-ab4e-eba6b764c1db div.sk-container {display: inline-block;position: relative;}</style><div id=\"sk-04340f9b-6b5b-4aec-ab4e-eba6b764c1db\" class\"sk-top-container\"><div class=\"sk-container\"><div class=\"sk-item sk-dashed-wrapped\"><div class=\"sk-label-container\"><div class=\"sk-label sk-toggleable\"><input class=\"sk-toggleable__control sk-hidden--visually\" id=\"91d0ae2d-c3d3-4198-8613-78245ec09b5a\" type=\"checkbox\" ><label class=\"sk-toggleable__label\" for=\"91d0ae2d-c3d3-4198-8613-78245ec09b5a\">Pipeline</label><div class=\"sk-toggleable__content\"><pre>Pipeline(steps=[('preprocessing',\n",
       "                 ColumnTransformer(transformers=[('categorical_encoder',\n",
       "                                                  Pipeline(steps=[('one_hot_encode',\n",
       "                                                                   OneHotEncoder(handle_unknown='ignore',\n",
       "                                                                                 sparse=False))]),\n",
       "                                                  ['original_language',\n",
       "                                                   'status', 'all_genres',\n",
       "                                                   'top_countries',\n",
       "                                                   'available_in_english']),\n",
       "                                                 ('numerical_encoder',\n",
       "                                                  Pipeline(steps=[('scaling',\n",
       "                                                                   StandardScaler())]),\n",
       "                                                  ['duration_min', 'budget',\n",
       "                                                   'number_of_awards_won',\n",
       "                                                   'number_of_nominations',\n",
       "                                                   'has_collection',\n",
       "                                                   'number_of_top_productions'])])),\n",
       "                ('linear_regression', Lasso())])</pre></div></div></div><div class=\"sk-serial\"><div class=\"sk-item sk-dashed-wrapped\"><div class=\"sk-label-container\"><div class=\"sk-label sk-toggleable\"><input class=\"sk-toggleable__control sk-hidden--visually\" id=\"e2df3b71-cb93-4184-917a-bda962f06e07\" type=\"checkbox\" ><label class=\"sk-toggleable__label\" for=\"e2df3b71-cb93-4184-917a-bda962f06e07\">preprocessing: ColumnTransformer</label><div class=\"sk-toggleable__content\"><pre>ColumnTransformer(transformers=[('categorical_encoder',\n",
       "                                 Pipeline(steps=[('one_hot_encode',\n",
       "                                                  OneHotEncoder(handle_unknown='ignore',\n",
       "                                                                sparse=False))]),\n",
       "                                 ['original_language', 'status', 'all_genres',\n",
       "                                  'top_countries', 'available_in_english']),\n",
       "                                ('numerical_encoder',\n",
       "                                 Pipeline(steps=[('scaling',\n",
       "                                                  StandardScaler())]),\n",
       "                                 ['duration_min', 'budget',\n",
       "                                  'number_of_awards_won',\n",
       "                                  'number_of_nominations', 'has_collection',\n",
       "                                  'number_of_top_productions'])])</pre></div></div></div><div class=\"sk-parallel\"><div class=\"sk-parallel-item\"><div class=\"sk-item\"><div class=\"sk-label-container\"><div class=\"sk-label sk-toggleable\"><input class=\"sk-toggleable__control sk-hidden--visually\" id=\"4808decf-18a7-436e-b87b-8cc03bcd3236\" type=\"checkbox\" ><label class=\"sk-toggleable__label\" for=\"4808decf-18a7-436e-b87b-8cc03bcd3236\">categorical_encoder</label><div class=\"sk-toggleable__content\"><pre>['original_language', 'status', 'all_genres', 'top_countries', 'available_in_english']</pre></div></div></div><div class=\"sk-serial\"><div class=\"sk-item\"><div class=\"sk-serial\"><div class=\"sk-item\"><div class=\"sk-estimator sk-toggleable\"><input class=\"sk-toggleable__control sk-hidden--visually\" id=\"ea5ea7df-a89a-451a-87b5-4f1ec82ae66f\" type=\"checkbox\" ><label class=\"sk-toggleable__label\" for=\"ea5ea7df-a89a-451a-87b5-4f1ec82ae66f\">OneHotEncoder</label><div class=\"sk-toggleable__content\"><pre>OneHotEncoder(handle_unknown='ignore', sparse=False)</pre></div></div></div></div></div></div></div></div><div class=\"sk-parallel-item\"><div class=\"sk-item\"><div class=\"sk-label-container\"><div class=\"sk-label sk-toggleable\"><input class=\"sk-toggleable__control sk-hidden--visually\" id=\"722d3a4e-92ba-4cd3-9f08-bb8648090c87\" type=\"checkbox\" ><label class=\"sk-toggleable__label\" for=\"722d3a4e-92ba-4cd3-9f08-bb8648090c87\">numerical_encoder</label><div class=\"sk-toggleable__content\"><pre>['duration_min', 'budget', 'number_of_awards_won', 'number_of_nominations', 'has_collection', 'number_of_top_productions']</pre></div></div></div><div class=\"sk-serial\"><div class=\"sk-item\"><div class=\"sk-serial\"><div class=\"sk-item\"><div class=\"sk-estimator sk-toggleable\"><input class=\"sk-toggleable__control sk-hidden--visually\" id=\"eb645427-d99b-453e-ab79-0baed60f4487\" type=\"checkbox\" ><label class=\"sk-toggleable__label\" for=\"eb645427-d99b-453e-ab79-0baed60f4487\">StandardScaler</label><div class=\"sk-toggleable__content\"><pre>StandardScaler()</pre></div></div></div></div></div></div></div></div></div></div><div class=\"sk-item\"><div class=\"sk-estimator sk-toggleable\"><input class=\"sk-toggleable__control sk-hidden--visually\" id=\"2277689a-b62f-4475-9ec3-acbae395499a\" type=\"checkbox\" ><label class=\"sk-toggleable__label\" for=\"2277689a-b62f-4475-9ec3-acbae395499a\">Lasso</label><div class=\"sk-toggleable__content\"><pre>Lasso()</pre></div></div></div></div></div></div></div>"
      ],
      "text/plain": [
       "Pipeline(steps=[('preprocessing',\n",
       "                 ColumnTransformer(transformers=[('categorical_encoder',\n",
       "                                                  Pipeline(steps=[('one_hot_encode',\n",
       "                                                                   OneHotEncoder(handle_unknown='ignore',\n",
       "                                                                                 sparse=False))]),\n",
       "                                                  ['original_language',\n",
       "                                                   'status', 'all_genres',\n",
       "                                                   'top_countries',\n",
       "                                                   'available_in_english']),\n",
       "                                                 ('numerical_encoder',\n",
       "                                                  Pipeline(steps=[('scaling',\n",
       "                                                                   StandardScaler())]),\n",
       "                                                  ['duration_min', 'budget',\n",
       "                                                   'number_of_awards_won',\n",
       "                                                   'number_of_nominations',\n",
       "                                                   'has_collection',\n",
       "                                                   'number_of_top_productions'])])),\n",
       "                ('linear_regression', Lasso())])"
      ]
     },
     "execution_count": 33,
     "metadata": {},
     "output_type": "execute_result"
    }
   ],
   "source": [
    "basic_pipeline = Pipeline([\n",
    "    ('preprocessing', basic_preprocessing),\n",
    "    ('linear_regression', Lasso())])\n",
    "basic_pipeline"
   ]
  },
  {
   "cell_type": "markdown",
   "metadata": {},
   "source": [
    "### Cross-validated baseline\n",
    "\n",
    "**📝 Perform a cross-validated evaluation of your baseline model using the metric you defined above. Store the results of this evaluation as an `array` of floating scores in the `basic_scores` variable.**"
   ]
  },
  {
   "cell_type": "code",
   "execution_count": 34,
   "metadata": {
    "ExecuteTime": {
     "end_time": "2021-06-29T17:29:13.834847Z",
     "start_time": "2021-06-29T17:29:13.634994Z"
    },
    "scrolled": false,
    "tags": [
     "challengify"
    ]
   },
   "outputs": [],
   "source": [
    "from sklearn.model_selection import cross_val_score\n",
    "from sklearn.metrics import mean_absolute_percentage_error"
   ]
  },
  {
   "cell_type": "code",
   "execution_count": 35,
   "metadata": {},
   "outputs": [
    {
     "data": {
      "text/plain": [
       "array([-0.83776251, -0.97171224, -0.9191002 , -0.90719379, -0.91872668])"
      ]
     },
     "execution_count": 35,
     "metadata": {},
     "output_type": "execute_result"
    }
   ],
   "source": [
    "basic_scores = cross_val_score(basic_pipeline, X, y, cv=5, scoring='neg_mean_absolute_percentage_error')\n",
    "basic_scores"
   ]
  },
  {
   "cell_type": "markdown",
   "metadata": {},
   "source": [
    "### 🧪 Save your results\n",
    "\n",
    "Run the following cell to save your results"
   ]
  },
  {
   "cell_type": "code",
   "execution_count": 37,
   "metadata": {
    "ExecuteTime": {
     "end_time": "2021-06-29T17:29:13.848670Z",
     "start_time": "2021-06-29T17:29:13.844198Z"
    }
   },
   "outputs": [],
   "source": [
    "ChallengeResult(\n",
    "    'baseline',\n",
    "    metric=scoring,\n",
    "    features=[categorical,numerical],\n",
    "    preproc=basic_preprocessing,\n",
    "    preproc_shape=X_basic_preprocessing.shape,\n",
    "    pipe=basic_pipeline,\n",
    "    scores=basic_scores\n",
    ").write()"
   ]
  },
  {
   "cell_type": "markdown",
   "metadata": {},
   "source": [
    "## Feature engineering"
   ]
  },
  {
   "cell_type": "markdown",
   "metadata": {},
   "source": [
    "### Time Features\n",
    "\n",
    "\n",
    "👉 Let's try to improve performance using the feature `release_date`, and especially its `month` and `year`.\n",
    "\n",
    "ℹ️ If you want to skip this section, you can move directly to the next one: _Advanced categorical features_."
   ]
  },
  {
   "cell_type": "markdown",
   "metadata": {},
   "source": [
    "**📝 Complete the custom transformer `TimeFeaturesExtractor` below**\n",
    "\n",
    "Running\n",
    "```python\n",
    "TimeFeaturesExtractor().fit_transform(X[['release_date']])\n",
    "``` \n",
    "should return something like\n",
    "\n",
    "|    |   month |   year |\n",
    "|---:|--------:|-------:|\n",
    "|  0 |       2 |   2015 |\n",
    "|  1 |       8 |   2004 |\n",
    "|  2 |      10 |   2014 |\n",
    "|  3 |       3 |   2012 |\n",
    "|  4 |       8 |   2012 |\n"
   ]
  },
  {
   "cell_type": "code",
   "execution_count": 61,
   "metadata": {
    "ExecuteTime": {
     "end_time": "2021-06-29T17:29:13.859554Z",
     "start_time": "2021-06-29T17:29:13.855428Z"
    }
   },
   "outputs": [],
   "source": [
    "from sklearn.base import BaseEstimator, TransformerMixin\n",
    "\n",
    "class TimeFeaturesExtractor(BaseEstimator, TransformerMixin):\n",
    "    \"\"\"Extract the 2 time features from a date\"\"\"\n",
    "    \n",
    "    def fit(self, X, y=None):\n",
    "        return self\n",
    "    \n",
    "    def transform(self, X, y=None):\n",
    "        \"\"\"\n",
    "        Params:\n",
    "        X: DataFrame\n",
    "        y: Series\n",
    "        \n",
    "        Returns a DataFrame with 2 columns containing the time features as integers extracted from the release_date.\n",
    "        \"\"\"\n",
    "        df = pd.DataFrame()\n",
    "        df['month'] = pd.DatetimeIndex(X['release_date']).month\n",
    "        df['year'] = pd.DatetimeIndex(X['release_date']).year\n",
    "        return df"
   ]
  },
  {
   "cell_type": "code",
   "execution_count": 62,
   "metadata": {
    "ExecuteTime": {
     "end_time": "2021-06-29T17:29:13.877264Z",
     "start_time": "2021-06-29T17:29:13.862231Z"
    }
   },
   "outputs": [
    {
     "data": {
      "text/html": [
       "<div>\n",
       "<style scoped>\n",
       "    .dataframe tbody tr th:only-of-type {\n",
       "        vertical-align: middle;\n",
       "    }\n",
       "\n",
       "    .dataframe tbody tr th {\n",
       "        vertical-align: top;\n",
       "    }\n",
       "\n",
       "    .dataframe thead th {\n",
       "        text-align: right;\n",
       "    }\n",
       "</style>\n",
       "<table border=\"1\" class=\"dataframe\">\n",
       "  <thead>\n",
       "    <tr style=\"text-align: right;\">\n",
       "      <th></th>\n",
       "      <th>month</th>\n",
       "      <th>year</th>\n",
       "    </tr>\n",
       "  </thead>\n",
       "  <tbody>\n",
       "    <tr>\n",
       "      <th>0</th>\n",
       "      <td>2</td>\n",
       "      <td>2015</td>\n",
       "    </tr>\n",
       "    <tr>\n",
       "      <th>1</th>\n",
       "      <td>8</td>\n",
       "      <td>2004</td>\n",
       "    </tr>\n",
       "    <tr>\n",
       "      <th>2</th>\n",
       "      <td>10</td>\n",
       "      <td>2014</td>\n",
       "    </tr>\n",
       "    <tr>\n",
       "      <th>3</th>\n",
       "      <td>3</td>\n",
       "      <td>2012</td>\n",
       "    </tr>\n",
       "    <tr>\n",
       "      <th>4</th>\n",
       "      <td>8</td>\n",
       "      <td>2012</td>\n",
       "    </tr>\n",
       "  </tbody>\n",
       "</table>\n",
       "</div>"
      ],
      "text/plain": [
       "   month  year\n",
       "0      2  2015\n",
       "1      8  2004\n",
       "2     10  2014\n",
       "3      3  2012\n",
       "4      8  2012"
      ]
     },
     "execution_count": 62,
     "metadata": {},
     "output_type": "execute_result"
    }
   ],
   "source": [
    "# Try your transformer and save your new features here\n",
    "X_time_features = TimeFeaturesExtractor().fit_transform(X[['release_date']])\n",
    "X_time_features.head()"
   ]
  },
  {
   "cell_type": "markdown",
   "metadata": {},
   "source": [
    "We still have 2 problems to solve\n",
    "- `month` is cyclical: 12 should be a close to 1 as to 11, right? \n",
    "- `year` is not scaled\n",
    "\n",
    "**📝 Build a final custom transformer `CyclicalEncoder` so that**\n",
    "\n",
    "Running\n",
    "```python\n",
    "CyclicalEncoder().fit_transform(X_time_features)\n",
    "``` \n",
    "should return something like this\n",
    "\n",
    "|    |    month_cos |   month_sin |      year |\n",
    "|---:|-------------:|------------:|----------:|\n",
    "|  0 |  0.5         |    0.866025 | 0.0466039 |\n",
    "|  1 | -0.5         |   -0.866025 | 0.0411502 |\n",
    "|  2 |  0.5         |   -0.866025 | 0.0461081 |\n",
    "|  3 |  6.12323e-17 |    1        | 0.0451165 |\n",
    "|  4 | -0.5         |   -0.866025 | 0.0451165 |\n",
    "\n",
    "With the cyclical encoding is done as below\n",
    "- `month_cos = 2 * math.pi / 12 * X[['month']] `\n",
    "- `month_sin = 2 * math.pi / 12 * X[['month']] `\n",
    "\n",
    "And the `year` begin min-max scaled"
   ]
  },
  {
   "cell_type": "code",
   "execution_count": 63,
   "metadata": {
    "ExecuteTime": {
     "end_time": "2021-06-29T17:29:13.884690Z",
     "start_time": "2021-06-29T17:29:13.879274Z"
    }
   },
   "outputs": [],
   "source": [
    "from sklearn.base import BaseEstimator, TransformerMixin\n",
    "import math\n",
    "\n",
    "class CyclicalEncoder(BaseEstimator, TransformerMixin):\n",
    "    \"\"\"\n",
    "    Encode a cyclical feature\n",
    "    \"\"\"\n",
    "    \n",
    "    def __init__(self):\n",
    "        pass\n",
    "\n",
    "    def fit(self, X, y=None):\n",
    "        \"\"\"\n",
    "        Compute here what you need for the transform phase and store it as instance variable\n",
    "        \"\"\"\n",
    "        \n",
    "        return self\n",
    "\n",
    "    def transform(self, X, y=None):\n",
    "        \"\"\"\n",
    "        Compute and returns the final DataFrame\n",
    "        \"\"\"\n",
    "        pass  # YOUR CODE HERE"
   ]
  },
  {
   "cell_type": "code",
   "execution_count": 74,
   "metadata": {
    "ExecuteTime": {
     "end_time": "2021-06-29T17:29:13.899004Z",
     "start_time": "2021-06-29T17:29:13.886894Z"
    }
   },
   "outputs": [
    {
     "ename": "AttributeError",
     "evalue": "'NoneType' object has no attribute 'head'",
     "output_type": "error",
     "traceback": [
      "\u001b[0;31m---------------------------------------------------------------------------\u001b[0m",
      "\u001b[0;31mAttributeError\u001b[0m                            Traceback (most recent call last)",
      "\u001b[0;32m<ipython-input-74-6f591d85611a>\u001b[0m in \u001b[0;36m<module>\u001b[0;34m\u001b[0m\n\u001b[1;32m      1\u001b[0m \u001b[0;31m# Try your transformer and save your new features here\u001b[0m\u001b[0;34m\u001b[0m\u001b[0;34m\u001b[0m\u001b[0;34m\u001b[0m\u001b[0m\n\u001b[1;32m      2\u001b[0m \u001b[0mX_time_cyclical\u001b[0m \u001b[0;34m=\u001b[0m \u001b[0mCyclicalEncoder\u001b[0m\u001b[0;34m(\u001b[0m\u001b[0;34m)\u001b[0m\u001b[0;34m.\u001b[0m\u001b[0mfit_transform\u001b[0m\u001b[0;34m(\u001b[0m\u001b[0mX_time_features\u001b[0m\u001b[0;34m)\u001b[0m\u001b[0;34m\u001b[0m\u001b[0;34m\u001b[0m\u001b[0m\n\u001b[0;32m----> 3\u001b[0;31m \u001b[0mX_time_cyclical\u001b[0m\u001b[0;34m.\u001b[0m\u001b[0mhead\u001b[0m\u001b[0;34m(\u001b[0m\u001b[0;34m)\u001b[0m\u001b[0;34m\u001b[0m\u001b[0;34m\u001b[0m\u001b[0m\n\u001b[0m",
      "\u001b[0;31mAttributeError\u001b[0m: 'NoneType' object has no attribute 'head'"
     ]
    }
   ],
   "source": [
    "# Try your transformer and save your new features here\n",
    "# X_time_cyclical = CyclicalEncoder().fit_transform(X_time_features)\n",
    "# X_time_cyclical.head()"
   ]
  },
  {
   "cell_type": "code",
   "execution_count": 66,
   "metadata": {
    "ExecuteTime": {
     "end_time": "2021-06-29T17:29:14.052971Z",
     "start_time": "2021-06-29T17:29:13.900696Z"
    }
   },
   "outputs": [],
   "source": [
    "# Check that this form a circle with 12 points\n",
    "#plt.scatter(X_time_cyclical['month_cos'],\n",
    "#            X_time_cyclical['month_sin'])\n",
    "#plt.xlabel(\"month_cos\"); plt.ylabel(\"month_sin\");"
   ]
  },
  {
   "cell_type": "markdown",
   "metadata": {},
   "source": [
    "**📝 Enhance your `basic_pipeline` with a new preprocessing including both `TimeFeaturesExtractor` and `CyclicalFeatureExtractor`:**\n",
    "\n",
    "- Just use `TimeFeatureExtractor` if you haven't had time to do the `Cyclical` one\n",
    "- Store this new pipeline as `time_pipeline`\n",
    "- Keep same estimator for now"
   ]
  },
  {
   "cell_type": "code",
   "execution_count": 68,
   "metadata": {},
   "outputs": [
    {
     "data": {
      "text/html": [
       "<style>#sk-00b441ea-a0c3-436b-8cb8-885f6c42b47d {color: black;background-color: white;}#sk-00b441ea-a0c3-436b-8cb8-885f6c42b47d pre{padding: 0;}#sk-00b441ea-a0c3-436b-8cb8-885f6c42b47d div.sk-toggleable {background-color: white;}#sk-00b441ea-a0c3-436b-8cb8-885f6c42b47d label.sk-toggleable__label {cursor: pointer;display: block;width: 100%;margin-bottom: 0;padding: 0.2em 0.3em;box-sizing: border-box;text-align: center;}#sk-00b441ea-a0c3-436b-8cb8-885f6c42b47d div.sk-toggleable__content {max-height: 0;max-width: 0;overflow: hidden;text-align: left;background-color: #f0f8ff;}#sk-00b441ea-a0c3-436b-8cb8-885f6c42b47d div.sk-toggleable__content pre {margin: 0.2em;color: black;border-radius: 0.25em;background-color: #f0f8ff;}#sk-00b441ea-a0c3-436b-8cb8-885f6c42b47d input.sk-toggleable__control:checked~div.sk-toggleable__content {max-height: 200px;max-width: 100%;overflow: auto;}#sk-00b441ea-a0c3-436b-8cb8-885f6c42b47d div.sk-estimator input.sk-toggleable__control:checked~label.sk-toggleable__label {background-color: #d4ebff;}#sk-00b441ea-a0c3-436b-8cb8-885f6c42b47d div.sk-label input.sk-toggleable__control:checked~label.sk-toggleable__label {background-color: #d4ebff;}#sk-00b441ea-a0c3-436b-8cb8-885f6c42b47d input.sk-hidden--visually {border: 0;clip: rect(1px 1px 1px 1px);clip: rect(1px, 1px, 1px, 1px);height: 1px;margin: -1px;overflow: hidden;padding: 0;position: absolute;width: 1px;}#sk-00b441ea-a0c3-436b-8cb8-885f6c42b47d div.sk-estimator {font-family: monospace;background-color: #f0f8ff;margin: 0.25em 0.25em;border: 1px dotted black;border-radius: 0.25em;box-sizing: border-box;}#sk-00b441ea-a0c3-436b-8cb8-885f6c42b47d div.sk-estimator:hover {background-color: #d4ebff;}#sk-00b441ea-a0c3-436b-8cb8-885f6c42b47d div.sk-parallel-item::after {content: \"\";width: 100%;border-bottom: 1px solid gray;flex-grow: 1;}#sk-00b441ea-a0c3-436b-8cb8-885f6c42b47d div.sk-label:hover label.sk-toggleable__label {background-color: #d4ebff;}#sk-00b441ea-a0c3-436b-8cb8-885f6c42b47d div.sk-serial::before {content: \"\";position: absolute;border-left: 1px solid gray;box-sizing: border-box;top: 2em;bottom: 0;left: 50%;}#sk-00b441ea-a0c3-436b-8cb8-885f6c42b47d div.sk-serial {display: flex;flex-direction: column;align-items: center;background-color: white;}#sk-00b441ea-a0c3-436b-8cb8-885f6c42b47d div.sk-item {z-index: 1;}#sk-00b441ea-a0c3-436b-8cb8-885f6c42b47d div.sk-parallel {display: flex;align-items: stretch;justify-content: center;background-color: white;}#sk-00b441ea-a0c3-436b-8cb8-885f6c42b47d div.sk-parallel-item {display: flex;flex-direction: column;position: relative;background-color: white;}#sk-00b441ea-a0c3-436b-8cb8-885f6c42b47d div.sk-parallel-item:first-child::after {align-self: flex-end;width: 50%;}#sk-00b441ea-a0c3-436b-8cb8-885f6c42b47d div.sk-parallel-item:last-child::after {align-self: flex-start;width: 50%;}#sk-00b441ea-a0c3-436b-8cb8-885f6c42b47d div.sk-parallel-item:only-child::after {width: 0;}#sk-00b441ea-a0c3-436b-8cb8-885f6c42b47d div.sk-dashed-wrapped {border: 1px dashed gray;margin: 0.2em;box-sizing: border-box;padding-bottom: 0.1em;background-color: white;position: relative;}#sk-00b441ea-a0c3-436b-8cb8-885f6c42b47d div.sk-label label {font-family: monospace;font-weight: bold;background-color: white;display: inline-block;line-height: 1.2em;}#sk-00b441ea-a0c3-436b-8cb8-885f6c42b47d div.sk-label-container {position: relative;z-index: 2;text-align: center;}#sk-00b441ea-a0c3-436b-8cb8-885f6c42b47d div.sk-container {display: inline-block;position: relative;}</style><div id=\"sk-00b441ea-a0c3-436b-8cb8-885f6c42b47d\" class\"sk-top-container\"><div class=\"sk-container\"><div class=\"sk-item sk-dashed-wrapped\"><div class=\"sk-label-container\"><div class=\"sk-label sk-toggleable\"><input class=\"sk-toggleable__control sk-hidden--visually\" id=\"1ca7e735-b393-40e7-9b3a-e302c75f7a7f\" type=\"checkbox\" ><label class=\"sk-toggleable__label\" for=\"1ca7e735-b393-40e7-9b3a-e302c75f7a7f\">ColumnTransformer</label><div class=\"sk-toggleable__content\"><pre>ColumnTransformer(transformers=[('time_encoder', TimeFeaturesExtractor(),\n",
       "                                 ['release_date']),\n",
       "                                ('categorical_encoder',\n",
       "                                 Pipeline(steps=[('one_hot_encode',\n",
       "                                                  OneHotEncoder(handle_unknown='ignore',\n",
       "                                                                sparse=False))]),\n",
       "                                 ['original_language', 'status', 'all_genres',\n",
       "                                  'top_countries', 'available_in_english']),\n",
       "                                ('numerical_encoder',\n",
       "                                 Pipeline(steps=[('scaling',\n",
       "                                                  StandardScaler())]),\n",
       "                                 ['duration_min', 'budget',\n",
       "                                  'number_of_awards_won',\n",
       "                                  'number_of_nominations', 'has_collection',\n",
       "                                  'number_of_top_productions'])])</pre></div></div></div><div class=\"sk-parallel\"><div class=\"sk-parallel-item\"><div class=\"sk-item\"><div class=\"sk-label-container\"><div class=\"sk-label sk-toggleable\"><input class=\"sk-toggleable__control sk-hidden--visually\" id=\"2be3b5a5-46e8-4b3f-a393-4fb0f023071c\" type=\"checkbox\" ><label class=\"sk-toggleable__label\" for=\"2be3b5a5-46e8-4b3f-a393-4fb0f023071c\">time_encoder</label><div class=\"sk-toggleable__content\"><pre>['release_date']</pre></div></div></div><div class=\"sk-serial\"><div class=\"sk-item\"><div class=\"sk-estimator sk-toggleable\"><input class=\"sk-toggleable__control sk-hidden--visually\" id=\"99d4e0f9-4888-44f6-8959-3271c7aeb2a1\" type=\"checkbox\" ><label class=\"sk-toggleable__label\" for=\"99d4e0f9-4888-44f6-8959-3271c7aeb2a1\">TimeFeaturesExtractor</label><div class=\"sk-toggleable__content\"><pre>TimeFeaturesExtractor()</pre></div></div></div></div></div></div><div class=\"sk-parallel-item\"><div class=\"sk-item\"><div class=\"sk-label-container\"><div class=\"sk-label sk-toggleable\"><input class=\"sk-toggleable__control sk-hidden--visually\" id=\"b0c83f77-289a-40c6-ae0d-8fb93c490b3b\" type=\"checkbox\" ><label class=\"sk-toggleable__label\" for=\"b0c83f77-289a-40c6-ae0d-8fb93c490b3b\">categorical_encoder</label><div class=\"sk-toggleable__content\"><pre>['original_language', 'status', 'all_genres', 'top_countries', 'available_in_english']</pre></div></div></div><div class=\"sk-serial\"><div class=\"sk-item\"><div class=\"sk-serial\"><div class=\"sk-item\"><div class=\"sk-estimator sk-toggleable\"><input class=\"sk-toggleable__control sk-hidden--visually\" id=\"e8c4498c-a422-43a8-94e7-01bf90709750\" type=\"checkbox\" ><label class=\"sk-toggleable__label\" for=\"e8c4498c-a422-43a8-94e7-01bf90709750\">OneHotEncoder</label><div class=\"sk-toggleable__content\"><pre>OneHotEncoder(handle_unknown='ignore', sparse=False)</pre></div></div></div></div></div></div></div></div><div class=\"sk-parallel-item\"><div class=\"sk-item\"><div class=\"sk-label-container\"><div class=\"sk-label sk-toggleable\"><input class=\"sk-toggleable__control sk-hidden--visually\" id=\"27141f91-42dd-4058-a789-72d508a209be\" type=\"checkbox\" ><label class=\"sk-toggleable__label\" for=\"27141f91-42dd-4058-a789-72d508a209be\">numerical_encoder</label><div class=\"sk-toggleable__content\"><pre>['duration_min', 'budget', 'number_of_awards_won', 'number_of_nominations', 'has_collection', 'number_of_top_productions']</pre></div></div></div><div class=\"sk-serial\"><div class=\"sk-item\"><div class=\"sk-serial\"><div class=\"sk-item\"><div class=\"sk-estimator sk-toggleable\"><input class=\"sk-toggleable__control sk-hidden--visually\" id=\"9e8d4547-6be4-4ca2-b6ce-a1731b280e32\" type=\"checkbox\" ><label class=\"sk-toggleable__label\" for=\"9e8d4547-6be4-4ca2-b6ce-a1731b280e32\">StandardScaler</label><div class=\"sk-toggleable__content\"><pre>StandardScaler()</pre></div></div></div></div></div></div></div></div></div></div></div></div>"
      ],
      "text/plain": [
       "ColumnTransformer(transformers=[('time_encoder', TimeFeaturesExtractor(),\n",
       "                                 ['release_date']),\n",
       "                                ('categorical_encoder',\n",
       "                                 Pipeline(steps=[('one_hot_encode',\n",
       "                                                  OneHotEncoder(handle_unknown='ignore',\n",
       "                                                                sparse=False))]),\n",
       "                                 ['original_language', 'status', 'all_genres',\n",
       "                                  'top_countries', 'available_in_english']),\n",
       "                                ('numerical_encoder',\n",
       "                                 Pipeline(steps=[('scaling',\n",
       "                                                  StandardScaler())]),\n",
       "                                 ['duration_min', 'budget',\n",
       "                                  'number_of_awards_won',\n",
       "                                  'number_of_nominations', 'has_collection',\n",
       "                                  'number_of_top_productions'])])"
      ]
     },
     "execution_count": 68,
     "metadata": {},
     "output_type": "execute_result"
    }
   ],
   "source": [
    "updated_preprocessing = ColumnTransformer([\n",
    "    ('time_encoder',TimeFeaturesExtractor(),['release_date']),\n",
    "    ('categorical_encoder', categorical_encoder,categorical),\n",
    "    ('numerical_encoder', numerical_encoder,numerical)],remainder='drop')\n",
    "updated_preprocessing"
   ]
  },
  {
   "cell_type": "code",
   "execution_count": 69,
   "metadata": {},
   "outputs": [
    {
     "data": {
      "text/html": [
       "<style>#sk-e7892e42-0df9-460a-aa1d-aaec441ca78b {color: black;background-color: white;}#sk-e7892e42-0df9-460a-aa1d-aaec441ca78b pre{padding: 0;}#sk-e7892e42-0df9-460a-aa1d-aaec441ca78b div.sk-toggleable {background-color: white;}#sk-e7892e42-0df9-460a-aa1d-aaec441ca78b label.sk-toggleable__label {cursor: pointer;display: block;width: 100%;margin-bottom: 0;padding: 0.2em 0.3em;box-sizing: border-box;text-align: center;}#sk-e7892e42-0df9-460a-aa1d-aaec441ca78b div.sk-toggleable__content {max-height: 0;max-width: 0;overflow: hidden;text-align: left;background-color: #f0f8ff;}#sk-e7892e42-0df9-460a-aa1d-aaec441ca78b div.sk-toggleable__content pre {margin: 0.2em;color: black;border-radius: 0.25em;background-color: #f0f8ff;}#sk-e7892e42-0df9-460a-aa1d-aaec441ca78b input.sk-toggleable__control:checked~div.sk-toggleable__content {max-height: 200px;max-width: 100%;overflow: auto;}#sk-e7892e42-0df9-460a-aa1d-aaec441ca78b div.sk-estimator input.sk-toggleable__control:checked~label.sk-toggleable__label {background-color: #d4ebff;}#sk-e7892e42-0df9-460a-aa1d-aaec441ca78b div.sk-label input.sk-toggleable__control:checked~label.sk-toggleable__label {background-color: #d4ebff;}#sk-e7892e42-0df9-460a-aa1d-aaec441ca78b input.sk-hidden--visually {border: 0;clip: rect(1px 1px 1px 1px);clip: rect(1px, 1px, 1px, 1px);height: 1px;margin: -1px;overflow: hidden;padding: 0;position: absolute;width: 1px;}#sk-e7892e42-0df9-460a-aa1d-aaec441ca78b div.sk-estimator {font-family: monospace;background-color: #f0f8ff;margin: 0.25em 0.25em;border: 1px dotted black;border-radius: 0.25em;box-sizing: border-box;}#sk-e7892e42-0df9-460a-aa1d-aaec441ca78b div.sk-estimator:hover {background-color: #d4ebff;}#sk-e7892e42-0df9-460a-aa1d-aaec441ca78b div.sk-parallel-item::after {content: \"\";width: 100%;border-bottom: 1px solid gray;flex-grow: 1;}#sk-e7892e42-0df9-460a-aa1d-aaec441ca78b div.sk-label:hover label.sk-toggleable__label {background-color: #d4ebff;}#sk-e7892e42-0df9-460a-aa1d-aaec441ca78b div.sk-serial::before {content: \"\";position: absolute;border-left: 1px solid gray;box-sizing: border-box;top: 2em;bottom: 0;left: 50%;}#sk-e7892e42-0df9-460a-aa1d-aaec441ca78b div.sk-serial {display: flex;flex-direction: column;align-items: center;background-color: white;}#sk-e7892e42-0df9-460a-aa1d-aaec441ca78b div.sk-item {z-index: 1;}#sk-e7892e42-0df9-460a-aa1d-aaec441ca78b div.sk-parallel {display: flex;align-items: stretch;justify-content: center;background-color: white;}#sk-e7892e42-0df9-460a-aa1d-aaec441ca78b div.sk-parallel-item {display: flex;flex-direction: column;position: relative;background-color: white;}#sk-e7892e42-0df9-460a-aa1d-aaec441ca78b div.sk-parallel-item:first-child::after {align-self: flex-end;width: 50%;}#sk-e7892e42-0df9-460a-aa1d-aaec441ca78b div.sk-parallel-item:last-child::after {align-self: flex-start;width: 50%;}#sk-e7892e42-0df9-460a-aa1d-aaec441ca78b div.sk-parallel-item:only-child::after {width: 0;}#sk-e7892e42-0df9-460a-aa1d-aaec441ca78b div.sk-dashed-wrapped {border: 1px dashed gray;margin: 0.2em;box-sizing: border-box;padding-bottom: 0.1em;background-color: white;position: relative;}#sk-e7892e42-0df9-460a-aa1d-aaec441ca78b div.sk-label label {font-family: monospace;font-weight: bold;background-color: white;display: inline-block;line-height: 1.2em;}#sk-e7892e42-0df9-460a-aa1d-aaec441ca78b div.sk-label-container {position: relative;z-index: 2;text-align: center;}#sk-e7892e42-0df9-460a-aa1d-aaec441ca78b div.sk-container {display: inline-block;position: relative;}</style><div id=\"sk-e7892e42-0df9-460a-aa1d-aaec441ca78b\" class\"sk-top-container\"><div class=\"sk-container\"><div class=\"sk-item sk-dashed-wrapped\"><div class=\"sk-label-container\"><div class=\"sk-label sk-toggleable\"><input class=\"sk-toggleable__control sk-hidden--visually\" id=\"f30b84d0-aa77-4b39-a23f-fb3f7aa06081\" type=\"checkbox\" ><label class=\"sk-toggleable__label\" for=\"f30b84d0-aa77-4b39-a23f-fb3f7aa06081\">Pipeline</label><div class=\"sk-toggleable__content\"><pre>Pipeline(steps=[('preprocessing',\n",
       "                 ColumnTransformer(transformers=[('time_encoder',\n",
       "                                                  TimeFeaturesExtractor(),\n",
       "                                                  ['release_date']),\n",
       "                                                 ('categorical_encoder',\n",
       "                                                  Pipeline(steps=[('one_hot_encode',\n",
       "                                                                   OneHotEncoder(handle_unknown='ignore',\n",
       "                                                                                 sparse=False))]),\n",
       "                                                  ['original_language',\n",
       "                                                   'status', 'all_genres',\n",
       "                                                   'top_countries',\n",
       "                                                   'available_in_english']),\n",
       "                                                 ('numerical_encoder',\n",
       "                                                  Pipeline(steps=[('scaling',\n",
       "                                                                   StandardScaler())]),\n",
       "                                                  ['duration_min', 'budget',\n",
       "                                                   'number_of_awards_won',\n",
       "                                                   'number_of_nominations',\n",
       "                                                   'has_collection',\n",
       "                                                   'number_of_top_productions'])])),\n",
       "                ('linear_regression', Lasso())])</pre></div></div></div><div class=\"sk-serial\"><div class=\"sk-item sk-dashed-wrapped\"><div class=\"sk-label-container\"><div class=\"sk-label sk-toggleable\"><input class=\"sk-toggleable__control sk-hidden--visually\" id=\"a39d4952-60a4-4598-a89e-2a3e51fd20f0\" type=\"checkbox\" ><label class=\"sk-toggleable__label\" for=\"a39d4952-60a4-4598-a89e-2a3e51fd20f0\">preprocessing: ColumnTransformer</label><div class=\"sk-toggleable__content\"><pre>ColumnTransformer(transformers=[('time_encoder', TimeFeaturesExtractor(),\n",
       "                                 ['release_date']),\n",
       "                                ('categorical_encoder',\n",
       "                                 Pipeline(steps=[('one_hot_encode',\n",
       "                                                  OneHotEncoder(handle_unknown='ignore',\n",
       "                                                                sparse=False))]),\n",
       "                                 ['original_language', 'status', 'all_genres',\n",
       "                                  'top_countries', 'available_in_english']),\n",
       "                                ('numerical_encoder',\n",
       "                                 Pipeline(steps=[('scaling',\n",
       "                                                  StandardScaler())]),\n",
       "                                 ['duration_min', 'budget',\n",
       "                                  'number_of_awards_won',\n",
       "                                  'number_of_nominations', 'has_collection',\n",
       "                                  'number_of_top_productions'])])</pre></div></div></div><div class=\"sk-parallel\"><div class=\"sk-parallel-item\"><div class=\"sk-item\"><div class=\"sk-label-container\"><div class=\"sk-label sk-toggleable\"><input class=\"sk-toggleable__control sk-hidden--visually\" id=\"e9ebbf13-97f9-4e2c-949a-3d83e53c8f70\" type=\"checkbox\" ><label class=\"sk-toggleable__label\" for=\"e9ebbf13-97f9-4e2c-949a-3d83e53c8f70\">time_encoder</label><div class=\"sk-toggleable__content\"><pre>['release_date']</pre></div></div></div><div class=\"sk-serial\"><div class=\"sk-item\"><div class=\"sk-estimator sk-toggleable\"><input class=\"sk-toggleable__control sk-hidden--visually\" id=\"e769127f-f941-43fc-b4ca-211969fe4f7e\" type=\"checkbox\" ><label class=\"sk-toggleable__label\" for=\"e769127f-f941-43fc-b4ca-211969fe4f7e\">TimeFeaturesExtractor</label><div class=\"sk-toggleable__content\"><pre>TimeFeaturesExtractor()</pre></div></div></div></div></div></div><div class=\"sk-parallel-item\"><div class=\"sk-item\"><div class=\"sk-label-container\"><div class=\"sk-label sk-toggleable\"><input class=\"sk-toggleable__control sk-hidden--visually\" id=\"8ff12ac5-fe24-4b59-baaa-b2f301f68b13\" type=\"checkbox\" ><label class=\"sk-toggleable__label\" for=\"8ff12ac5-fe24-4b59-baaa-b2f301f68b13\">categorical_encoder</label><div class=\"sk-toggleable__content\"><pre>['original_language', 'status', 'all_genres', 'top_countries', 'available_in_english']</pre></div></div></div><div class=\"sk-serial\"><div class=\"sk-item\"><div class=\"sk-serial\"><div class=\"sk-item\"><div class=\"sk-estimator sk-toggleable\"><input class=\"sk-toggleable__control sk-hidden--visually\" id=\"465d9dad-6eab-4e41-bc1d-914a260ed617\" type=\"checkbox\" ><label class=\"sk-toggleable__label\" for=\"465d9dad-6eab-4e41-bc1d-914a260ed617\">OneHotEncoder</label><div class=\"sk-toggleable__content\"><pre>OneHotEncoder(handle_unknown='ignore', sparse=False)</pre></div></div></div></div></div></div></div></div><div class=\"sk-parallel-item\"><div class=\"sk-item\"><div class=\"sk-label-container\"><div class=\"sk-label sk-toggleable\"><input class=\"sk-toggleable__control sk-hidden--visually\" id=\"ec454145-c6e5-43b1-ad66-34cc12f89c9d\" type=\"checkbox\" ><label class=\"sk-toggleable__label\" for=\"ec454145-c6e5-43b1-ad66-34cc12f89c9d\">numerical_encoder</label><div class=\"sk-toggleable__content\"><pre>['duration_min', 'budget', 'number_of_awards_won', 'number_of_nominations', 'has_collection', 'number_of_top_productions']</pre></div></div></div><div class=\"sk-serial\"><div class=\"sk-item\"><div class=\"sk-serial\"><div class=\"sk-item\"><div class=\"sk-estimator sk-toggleable\"><input class=\"sk-toggleable__control sk-hidden--visually\" id=\"2ab6a966-362a-451a-98b8-0cb98a756661\" type=\"checkbox\" ><label class=\"sk-toggleable__label\" for=\"2ab6a966-362a-451a-98b8-0cb98a756661\">StandardScaler</label><div class=\"sk-toggleable__content\"><pre>StandardScaler()</pre></div></div></div></div></div></div></div></div></div></div><div class=\"sk-item\"><div class=\"sk-estimator sk-toggleable\"><input class=\"sk-toggleable__control sk-hidden--visually\" id=\"11889eae-5870-408c-8e79-3446b22deb40\" type=\"checkbox\" ><label class=\"sk-toggleable__label\" for=\"11889eae-5870-408c-8e79-3446b22deb40\">Lasso</label><div class=\"sk-toggleable__content\"><pre>Lasso()</pre></div></div></div></div></div></div></div>"
      ],
      "text/plain": [
       "Pipeline(steps=[('preprocessing',\n",
       "                 ColumnTransformer(transformers=[('time_encoder',\n",
       "                                                  TimeFeaturesExtractor(),\n",
       "                                                  ['release_date']),\n",
       "                                                 ('categorical_encoder',\n",
       "                                                  Pipeline(steps=[('one_hot_encode',\n",
       "                                                                   OneHotEncoder(handle_unknown='ignore',\n",
       "                                                                                 sparse=False))]),\n",
       "                                                  ['original_language',\n",
       "                                                   'status', 'all_genres',\n",
       "                                                   'top_countries',\n",
       "                                                   'available_in_english']),\n",
       "                                                 ('numerical_encoder',\n",
       "                                                  Pipeline(steps=[('scaling',\n",
       "                                                                   StandardScaler())]),\n",
       "                                                  ['duration_min', 'budget',\n",
       "                                                   'number_of_awards_won',\n",
       "                                                   'number_of_nominations',\n",
       "                                                   'has_collection',\n",
       "                                                   'number_of_top_productions'])])),\n",
       "                ('linear_regression', Lasso())])"
      ]
     },
     "execution_count": 69,
     "metadata": {},
     "output_type": "execute_result"
    }
   ],
   "source": [
    "time_pipeline = Pipeline([\n",
    "    ('preprocessing', updated_preprocessing),\n",
    "    ('linear_regression', Lasso())])\n",
    "time_pipeline"
   ]
  },
  {
   "cell_type": "markdown",
   "metadata": {},
   "source": [
    "### Advanced categorical encoder to reduce the number of features\n",
    "\n",
    "ℹ️ Most of it has already been coded for you and it shouldn't take long. Still if you want to skip it and move to the next section: _Model Tuning_"
   ]
  },
  {
   "cell_type": "markdown",
   "metadata": {},
   "source": [
    "👉 We need to reduce the number of features to one-hot-encode, which arise from the high cardinality of `all_genres` and `top_countries`"
   ]
  },
  {
   "cell_type": "code",
   "execution_count": 70,
   "metadata": {
    "ExecuteTime": {
     "end_time": "2021-06-29T17:29:14.191964Z",
     "start_time": "2021-06-29T17:29:14.184044Z"
    }
   },
   "outputs": [
    {
     "data": {
      "text/plain": [
       "all_genres       745\n",
       "top_countries    320\n",
       "dtype: int64"
      ]
     },
     "execution_count": 70,
     "metadata": {},
     "output_type": "execute_result"
    }
   ],
   "source": [
    "X[['all_genres', 'top_countries']].nunique()"
   ]
  },
  {
   "cell_type": "markdown",
   "metadata": {},
   "source": [
    "👇 Both share a common pattern: there can be more than 1 country and more than 1 genre per movie."
   ]
  },
  {
   "cell_type": "code",
   "execution_count": 71,
   "metadata": {
    "ExecuteTime": {
     "end_time": "2021-06-29T17:29:14.201275Z",
     "start_time": "2021-06-29T17:29:14.193459Z"
    }
   },
   "outputs": [
    {
     "data": {
      "text/html": [
       "<div>\n",
       "<style scoped>\n",
       "    .dataframe tbody tr th:only-of-type {\n",
       "        vertical-align: middle;\n",
       "    }\n",
       "\n",
       "    .dataframe tbody tr th {\n",
       "        vertical-align: top;\n",
       "    }\n",
       "\n",
       "    .dataframe thead th {\n",
       "        text-align: right;\n",
       "    }\n",
       "</style>\n",
       "<table border=\"1\" class=\"dataframe\">\n",
       "  <thead>\n",
       "    <tr style=\"text-align: right;\">\n",
       "      <th></th>\n",
       "      <th>all_genres</th>\n",
       "      <th>top_countries</th>\n",
       "    </tr>\n",
       "  </thead>\n",
       "  <tbody>\n",
       "    <tr>\n",
       "      <th>6459</th>\n",
       "      <td>Thriller</td>\n",
       "      <td>France, United States of America</td>\n",
       "    </tr>\n",
       "    <tr>\n",
       "      <th>6460</th>\n",
       "      <td>Action, Adventure, Comedy, Thriller</td>\n",
       "      <td>United States of America</td>\n",
       "    </tr>\n",
       "    <tr>\n",
       "      <th>6461</th>\n",
       "      <td>Drama</td>\n",
       "      <td>United States of America</td>\n",
       "    </tr>\n",
       "    <tr>\n",
       "      <th>6462</th>\n",
       "      <td>Horror, Thriller</td>\n",
       "      <td>United States of America</td>\n",
       "    </tr>\n",
       "    <tr>\n",
       "      <th>6463</th>\n",
       "      <td>Drama</td>\n",
       "      <td>France</td>\n",
       "    </tr>\n",
       "  </tbody>\n",
       "</table>\n",
       "</div>"
      ],
      "text/plain": [
       "                               all_genres                     top_countries\n",
       "6459                             Thriller  France, United States of America\n",
       "6460  Action, Adventure, Comedy, Thriller          United States of America\n",
       "6461                                Drama          United States of America\n",
       "6462                     Horror, Thriller          United States of America\n",
       "6463                                Drama                            France"
      ]
     },
     "execution_count": 71,
     "metadata": {},
     "output_type": "execute_result"
    }
   ],
   "source": [
    "X[['all_genres', 'top_countries']].tail()"
   ]
  },
  {
   "cell_type": "markdown",
   "metadata": {},
   "source": [
    "👉 Run the cell below where we have coded for you a custom transformer `CustomGenreAndCountryEncoder` which: \n",
    "- Select the 10 most frequent genres and the 5 most frequent countries\n",
    "- Encode `all_genres` into 10 One Hot Encoded features\n",
    "- Encode `top_countries` into 5 One Hot Encoded features"
   ]
  },
  {
   "cell_type": "code",
   "execution_count": 72,
   "metadata": {
    "ExecuteTime": {
     "end_time": "2021-06-29T17:29:14.210953Z",
     "start_time": "2021-06-29T17:29:14.202791Z"
    }
   },
   "outputs": [],
   "source": [
    "from collections import Counter\n",
    "from sklearn.base import BaseEstimator, TransformerMixin\n",
    "\n",
    "class CustomGenreAndCountryEncoder(BaseEstimator, TransformerMixin):\n",
    "    \"\"\"\n",
    "    Encoding the all_genres and top_companies features which are multi-categorical :\n",
    "    a movie has several possible genres and countries of productions!\n",
    "    \"\"\"\n",
    "\n",
    "    def __init__(self):\n",
    "        pass\n",
    "\n",
    "    def fit(self, X, y=None):\n",
    "        \"\"\"\n",
    "        compute top genres and top countries of productions from all_genres and top_countries features\n",
    "        \"\"\"\n",
    "\n",
    "        # compute top 10 genres       \n",
    "        list_of_genres = list(X['all_genres'].apply(lambda x: [i.strip() for i in x.split(\",\")] if x != [''] else []).values)\n",
    "        top_genres = [m[0] for m in Counter([i for j in list_of_genres for i in j]).most_common(10)]\n",
    "\n",
    "        # save top_genres in dedicated instance variable\n",
    "        self.top_genres = top_genres\n",
    "        \n",
    "         # compute top 5 countries       \n",
    "        list_of_countries = list(X['top_countries'].apply(lambda x: [i.strip() for i in x.split(\",\")] if x != [''] else []).values)\n",
    "        top_countries = [m[0] for m in Counter([i for j in list_of_countries for i in j]).most_common(5)]\n",
    "\n",
    "        # save top_countries in dedicated instance variable\n",
    "        self.top_countries = top_countries\n",
    "\n",
    "        return self\n",
    "\n",
    "    def transform(self, X, y=None):\n",
    "        \"\"\"\n",
    "        encoding genre and country\n",
    "        \"\"\"\n",
    "        X_new = X.copy()\n",
    "        for genre in self.top_genres:\n",
    "            X_new['genre_' + genre] = X_new['all_genres'].apply(lambda x: 1 if genre in x else 0)\n",
    "        X_new = X_new.drop(columns=[\"all_genres\"])\n",
    "        for country in self.top_countries:\n",
    "            X_new['country_' + country] = X_new['top_countries'].apply(lambda x: 1 if country in x else 0)\n",
    "        X_new = X_new.drop(columns=[\"top_countries\"])\n",
    "        return X_new"
   ]
  },
  {
   "cell_type": "code",
   "execution_count": 73,
   "metadata": {
    "ExecuteTime": {
     "end_time": "2021-06-29T17:29:14.289418Z",
     "start_time": "2021-06-29T17:29:14.212506Z"
    }
   },
   "outputs": [
    {
     "name": "stdout",
     "output_type": "stream",
     "text": [
      "(6463, 15)\n"
     ]
    },
    {
     "data": {
      "text/html": [
       "<div>\n",
       "<style scoped>\n",
       "    .dataframe tbody tr th:only-of-type {\n",
       "        vertical-align: middle;\n",
       "    }\n",
       "\n",
       "    .dataframe tbody tr th {\n",
       "        vertical-align: top;\n",
       "    }\n",
       "\n",
       "    .dataframe thead th {\n",
       "        text-align: right;\n",
       "    }\n",
       "</style>\n",
       "<table border=\"1\" class=\"dataframe\">\n",
       "  <thead>\n",
       "    <tr style=\"text-align: right;\">\n",
       "      <th></th>\n",
       "      <th>genre_Drama</th>\n",
       "      <th>genre_Comedy</th>\n",
       "      <th>genre_Thriller</th>\n",
       "      <th>genre_Action</th>\n",
       "      <th>genre_Romance</th>\n",
       "      <th>genre_Adventure</th>\n",
       "      <th>genre_Crime</th>\n",
       "      <th>genre_Science Fiction</th>\n",
       "      <th>genre_Horror</th>\n",
       "      <th>genre_Family</th>\n",
       "      <th>country_United States of America</th>\n",
       "      <th>country_United Kingdom</th>\n",
       "      <th>country_France</th>\n",
       "      <th>country_Germany</th>\n",
       "      <th>country_Canada</th>\n",
       "    </tr>\n",
       "  </thead>\n",
       "  <tbody>\n",
       "    <tr>\n",
       "      <th>0</th>\n",
       "      <td>0</td>\n",
       "      <td>1</td>\n",
       "      <td>0</td>\n",
       "      <td>0</td>\n",
       "      <td>0</td>\n",
       "      <td>0</td>\n",
       "      <td>0</td>\n",
       "      <td>0</td>\n",
       "      <td>0</td>\n",
       "      <td>0</td>\n",
       "      <td>1</td>\n",
       "      <td>0</td>\n",
       "      <td>0</td>\n",
       "      <td>0</td>\n",
       "      <td>0</td>\n",
       "    </tr>\n",
       "    <tr>\n",
       "      <th>1</th>\n",
       "      <td>1</td>\n",
       "      <td>1</td>\n",
       "      <td>0</td>\n",
       "      <td>0</td>\n",
       "      <td>1</td>\n",
       "      <td>0</td>\n",
       "      <td>0</td>\n",
       "      <td>0</td>\n",
       "      <td>0</td>\n",
       "      <td>1</td>\n",
       "      <td>1</td>\n",
       "      <td>0</td>\n",
       "      <td>0</td>\n",
       "      <td>0</td>\n",
       "      <td>0</td>\n",
       "    </tr>\n",
       "    <tr>\n",
       "      <th>2</th>\n",
       "      <td>1</td>\n",
       "      <td>0</td>\n",
       "      <td>0</td>\n",
       "      <td>0</td>\n",
       "      <td>0</td>\n",
       "      <td>0</td>\n",
       "      <td>0</td>\n",
       "      <td>0</td>\n",
       "      <td>0</td>\n",
       "      <td>0</td>\n",
       "      <td>1</td>\n",
       "      <td>0</td>\n",
       "      <td>0</td>\n",
       "      <td>0</td>\n",
       "      <td>0</td>\n",
       "    </tr>\n",
       "    <tr>\n",
       "      <th>3</th>\n",
       "      <td>1</td>\n",
       "      <td>0</td>\n",
       "      <td>1</td>\n",
       "      <td>0</td>\n",
       "      <td>0</td>\n",
       "      <td>0</td>\n",
       "      <td>0</td>\n",
       "      <td>0</td>\n",
       "      <td>0</td>\n",
       "      <td>0</td>\n",
       "      <td>0</td>\n",
       "      <td>0</td>\n",
       "      <td>0</td>\n",
       "      <td>0</td>\n",
       "      <td>0</td>\n",
       "    </tr>\n",
       "    <tr>\n",
       "      <th>4</th>\n",
       "      <td>0</td>\n",
       "      <td>0</td>\n",
       "      <td>1</td>\n",
       "      <td>0</td>\n",
       "      <td>0</td>\n",
       "      <td>0</td>\n",
       "      <td>0</td>\n",
       "      <td>0</td>\n",
       "      <td>1</td>\n",
       "      <td>0</td>\n",
       "      <td>1</td>\n",
       "      <td>0</td>\n",
       "      <td>0</td>\n",
       "      <td>0</td>\n",
       "      <td>1</td>\n",
       "    </tr>\n",
       "  </tbody>\n",
       "</table>\n",
       "</div>"
      ],
      "text/plain": [
       "   genre_Drama  genre_Comedy  genre_Thriller  genre_Action  genre_Romance  \\\n",
       "0            0             1               0             0              0   \n",
       "1            1             1               0             0              1   \n",
       "2            1             0               0             0              0   \n",
       "3            1             0               1             0              0   \n",
       "4            0             0               1             0              0   \n",
       "\n",
       "   genre_Adventure  genre_Crime  genre_Science Fiction  genre_Horror  \\\n",
       "0                0            0                      0             0   \n",
       "1                0            0                      0             0   \n",
       "2                0            0                      0             0   \n",
       "3                0            0                      0             0   \n",
       "4                0            0                      0             1   \n",
       "\n",
       "   genre_Family  country_United States of America  country_United Kingdom  \\\n",
       "0             0                                 1                       0   \n",
       "1             1                                 1                       0   \n",
       "2             0                                 1                       0   \n",
       "3             0                                 0                       0   \n",
       "4             0                                 1                       0   \n",
       "\n",
       "   country_France  country_Germany  country_Canada  \n",
       "0               0                0               0  \n",
       "1               0                0               0  \n",
       "2               0                0               0  \n",
       "3               0                0               0  \n",
       "4               0                0               1  "
      ]
     },
     "execution_count": 73,
     "metadata": {},
     "output_type": "execute_result"
    }
   ],
   "source": [
    "# Check it out\n",
    "X_custom = CustomGenreAndCountryEncoder().fit_transform(X[['all_genres', 'top_countries']])\n",
    "print(X_custom.shape)\n",
    "X_custom.head()"
   ]
  },
  {
   "cell_type": "markdown",
   "metadata": {},
   "source": [
    "**📝 Compute your `final_pipeline` by integrating all these transformers** (or all those you have coded)\n",
    "\n",
    "- `CustomGenreAndCountryEncoder`\n",
    "- `TimeFeaturesExtractor`\n",
    "- `CyclicalFeatureExtractor`"
   ]
  },
  {
   "cell_type": "code",
   "execution_count": 75,
   "metadata": {
    "ExecuteTime": {
     "end_time": "2021-06-29T17:29:14.316693Z",
     "start_time": "2021-06-29T17:29:14.291225Z"
    },
    "tags": [
     "challengify"
    ]
   },
   "outputs": [
    {
     "data": {
      "text/html": [
       "<style>#sk-1f2e1bc8-8fc7-4d9d-a867-3fe7dcc06f41 {color: black;background-color: white;}#sk-1f2e1bc8-8fc7-4d9d-a867-3fe7dcc06f41 pre{padding: 0;}#sk-1f2e1bc8-8fc7-4d9d-a867-3fe7dcc06f41 div.sk-toggleable {background-color: white;}#sk-1f2e1bc8-8fc7-4d9d-a867-3fe7dcc06f41 label.sk-toggleable__label {cursor: pointer;display: block;width: 100%;margin-bottom: 0;padding: 0.2em 0.3em;box-sizing: border-box;text-align: center;}#sk-1f2e1bc8-8fc7-4d9d-a867-3fe7dcc06f41 div.sk-toggleable__content {max-height: 0;max-width: 0;overflow: hidden;text-align: left;background-color: #f0f8ff;}#sk-1f2e1bc8-8fc7-4d9d-a867-3fe7dcc06f41 div.sk-toggleable__content pre {margin: 0.2em;color: black;border-radius: 0.25em;background-color: #f0f8ff;}#sk-1f2e1bc8-8fc7-4d9d-a867-3fe7dcc06f41 input.sk-toggleable__control:checked~div.sk-toggleable__content {max-height: 200px;max-width: 100%;overflow: auto;}#sk-1f2e1bc8-8fc7-4d9d-a867-3fe7dcc06f41 div.sk-estimator input.sk-toggleable__control:checked~label.sk-toggleable__label {background-color: #d4ebff;}#sk-1f2e1bc8-8fc7-4d9d-a867-3fe7dcc06f41 div.sk-label input.sk-toggleable__control:checked~label.sk-toggleable__label {background-color: #d4ebff;}#sk-1f2e1bc8-8fc7-4d9d-a867-3fe7dcc06f41 input.sk-hidden--visually {border: 0;clip: rect(1px 1px 1px 1px);clip: rect(1px, 1px, 1px, 1px);height: 1px;margin: -1px;overflow: hidden;padding: 0;position: absolute;width: 1px;}#sk-1f2e1bc8-8fc7-4d9d-a867-3fe7dcc06f41 div.sk-estimator {font-family: monospace;background-color: #f0f8ff;margin: 0.25em 0.25em;border: 1px dotted black;border-radius: 0.25em;box-sizing: border-box;}#sk-1f2e1bc8-8fc7-4d9d-a867-3fe7dcc06f41 div.sk-estimator:hover {background-color: #d4ebff;}#sk-1f2e1bc8-8fc7-4d9d-a867-3fe7dcc06f41 div.sk-parallel-item::after {content: \"\";width: 100%;border-bottom: 1px solid gray;flex-grow: 1;}#sk-1f2e1bc8-8fc7-4d9d-a867-3fe7dcc06f41 div.sk-label:hover label.sk-toggleable__label {background-color: #d4ebff;}#sk-1f2e1bc8-8fc7-4d9d-a867-3fe7dcc06f41 div.sk-serial::before {content: \"\";position: absolute;border-left: 1px solid gray;box-sizing: border-box;top: 2em;bottom: 0;left: 50%;}#sk-1f2e1bc8-8fc7-4d9d-a867-3fe7dcc06f41 div.sk-serial {display: flex;flex-direction: column;align-items: center;background-color: white;}#sk-1f2e1bc8-8fc7-4d9d-a867-3fe7dcc06f41 div.sk-item {z-index: 1;}#sk-1f2e1bc8-8fc7-4d9d-a867-3fe7dcc06f41 div.sk-parallel {display: flex;align-items: stretch;justify-content: center;background-color: white;}#sk-1f2e1bc8-8fc7-4d9d-a867-3fe7dcc06f41 div.sk-parallel-item {display: flex;flex-direction: column;position: relative;background-color: white;}#sk-1f2e1bc8-8fc7-4d9d-a867-3fe7dcc06f41 div.sk-parallel-item:first-child::after {align-self: flex-end;width: 50%;}#sk-1f2e1bc8-8fc7-4d9d-a867-3fe7dcc06f41 div.sk-parallel-item:last-child::after {align-self: flex-start;width: 50%;}#sk-1f2e1bc8-8fc7-4d9d-a867-3fe7dcc06f41 div.sk-parallel-item:only-child::after {width: 0;}#sk-1f2e1bc8-8fc7-4d9d-a867-3fe7dcc06f41 div.sk-dashed-wrapped {border: 1px dashed gray;margin: 0.2em;box-sizing: border-box;padding-bottom: 0.1em;background-color: white;position: relative;}#sk-1f2e1bc8-8fc7-4d9d-a867-3fe7dcc06f41 div.sk-label label {font-family: monospace;font-weight: bold;background-color: white;display: inline-block;line-height: 1.2em;}#sk-1f2e1bc8-8fc7-4d9d-a867-3fe7dcc06f41 div.sk-label-container {position: relative;z-index: 2;text-align: center;}#sk-1f2e1bc8-8fc7-4d9d-a867-3fe7dcc06f41 div.sk-container {display: inline-block;position: relative;}</style><div id=\"sk-1f2e1bc8-8fc7-4d9d-a867-3fe7dcc06f41\" class\"sk-top-container\"><div class=\"sk-container\"><div class=\"sk-item sk-dashed-wrapped\"><div class=\"sk-label-container\"><div class=\"sk-label sk-toggleable\"><input class=\"sk-toggleable__control sk-hidden--visually\" id=\"69be4e57-4d58-416e-b6bd-d31f9f472346\" type=\"checkbox\" ><label class=\"sk-toggleable__label\" for=\"69be4e57-4d58-416e-b6bd-d31f9f472346\">ColumnTransformer</label><div class=\"sk-toggleable__content\"><pre>ColumnTransformer(transformers=[('time_encoder', TimeFeaturesExtractor(),\n",
       "                                 ['release_date']),\n",
       "                                ('categorical_encoder',\n",
       "                                 Pipeline(steps=[('one_hot_encode',\n",
       "                                                  OneHotEncoder(handle_unknown='ignore',\n",
       "                                                                sparse=False))]),\n",
       "                                 ['original_language', 'status', 'all_genres',\n",
       "                                  'top_countries', 'available_in_english']),\n",
       "                                ('numerical_encoder',\n",
       "                                 Pipeline(steps=[('scaling',\n",
       "                                                  StandardScaler())]),\n",
       "                                 ['duration_min', 'budget',\n",
       "                                  'number_of_awards_won',\n",
       "                                  'number_of_nominations', 'has_collection',\n",
       "                                  'number_of_top_productions'])])</pre></div></div></div><div class=\"sk-parallel\"><div class=\"sk-parallel-item\"><div class=\"sk-item\"><div class=\"sk-label-container\"><div class=\"sk-label sk-toggleable\"><input class=\"sk-toggleable__control sk-hidden--visually\" id=\"45fb8122-07a5-488d-b0dd-fc464b1cff41\" type=\"checkbox\" ><label class=\"sk-toggleable__label\" for=\"45fb8122-07a5-488d-b0dd-fc464b1cff41\">time_encoder</label><div class=\"sk-toggleable__content\"><pre>['release_date']</pre></div></div></div><div class=\"sk-serial\"><div class=\"sk-item\"><div class=\"sk-estimator sk-toggleable\"><input class=\"sk-toggleable__control sk-hidden--visually\" id=\"efdb306c-63bf-4f90-8ab7-7e699ebb6e6e\" type=\"checkbox\" ><label class=\"sk-toggleable__label\" for=\"efdb306c-63bf-4f90-8ab7-7e699ebb6e6e\">TimeFeaturesExtractor</label><div class=\"sk-toggleable__content\"><pre>TimeFeaturesExtractor()</pre></div></div></div></div></div></div><div class=\"sk-parallel-item\"><div class=\"sk-item\"><div class=\"sk-label-container\"><div class=\"sk-label sk-toggleable\"><input class=\"sk-toggleable__control sk-hidden--visually\" id=\"6eb8086a-5307-488a-b8be-9c1bd22f1255\" type=\"checkbox\" ><label class=\"sk-toggleable__label\" for=\"6eb8086a-5307-488a-b8be-9c1bd22f1255\">categorical_encoder</label><div class=\"sk-toggleable__content\"><pre>['original_language', 'status', 'all_genres', 'top_countries', 'available_in_english']</pre></div></div></div><div class=\"sk-serial\"><div class=\"sk-item\"><div class=\"sk-serial\"><div class=\"sk-item\"><div class=\"sk-estimator sk-toggleable\"><input class=\"sk-toggleable__control sk-hidden--visually\" id=\"bbe58b50-7979-4ac2-b809-822844f5cdb0\" type=\"checkbox\" ><label class=\"sk-toggleable__label\" for=\"bbe58b50-7979-4ac2-b809-822844f5cdb0\">OneHotEncoder</label><div class=\"sk-toggleable__content\"><pre>OneHotEncoder(handle_unknown='ignore', sparse=False)</pre></div></div></div></div></div></div></div></div><div class=\"sk-parallel-item\"><div class=\"sk-item\"><div class=\"sk-label-container\"><div class=\"sk-label sk-toggleable\"><input class=\"sk-toggleable__control sk-hidden--visually\" id=\"4d5d922a-f41e-4ee8-962b-24df45546533\" type=\"checkbox\" ><label class=\"sk-toggleable__label\" for=\"4d5d922a-f41e-4ee8-962b-24df45546533\">numerical_encoder</label><div class=\"sk-toggleable__content\"><pre>['duration_min', 'budget', 'number_of_awards_won', 'number_of_nominations', 'has_collection', 'number_of_top_productions']</pre></div></div></div><div class=\"sk-serial\"><div class=\"sk-item\"><div class=\"sk-serial\"><div class=\"sk-item\"><div class=\"sk-estimator sk-toggleable\"><input class=\"sk-toggleable__control sk-hidden--visually\" id=\"aa61b5c9-ee75-471e-8abc-61eb6c3dd84c\" type=\"checkbox\" ><label class=\"sk-toggleable__label\" for=\"aa61b5c9-ee75-471e-8abc-61eb6c3dd84c\">StandardScaler</label><div class=\"sk-toggleable__content\"><pre>StandardScaler()</pre></div></div></div></div></div></div></div></div></div></div></div></div>"
      ],
      "text/plain": [
       "ColumnTransformer(transformers=[('time_encoder', TimeFeaturesExtractor(),\n",
       "                                 ['release_date']),\n",
       "                                ('categorical_encoder',\n",
       "                                 Pipeline(steps=[('one_hot_encode',\n",
       "                                                  OneHotEncoder(handle_unknown='ignore',\n",
       "                                                                sparse=False))]),\n",
       "                                 ['original_language', 'status', 'all_genres',\n",
       "                                  'top_countries', 'available_in_english']),\n",
       "                                ('numerical_encoder',\n",
       "                                 Pipeline(steps=[('scaling',\n",
       "                                                  StandardScaler())]),\n",
       "                                 ['duration_min', 'budget',\n",
       "                                  'number_of_awards_won',\n",
       "                                  'number_of_nominations', 'has_collection',\n",
       "                                  'number_of_top_productions'])])"
      ]
     },
     "execution_count": 75,
     "metadata": {},
     "output_type": "execute_result"
    }
   ],
   "source": [
    "final_preprocessing = ColumnTransformer([\n",
    "    ('time_encoder',TimeFeaturesExtractor(),['release_date']),\n",
    "    ('categorical_encoder', categorical_encoder,categorical),\n",
    "    ('numerical_encoder', numerical_encoder,numerical)],remainder='drop')\n",
    "final_preprocessing"
   ]
  },
  {
   "cell_type": "markdown",
   "metadata": {},
   "source": [
    "📝 **Compute and store its cross validated scores as `final_scores` array of floats**\n",
    "\n",
    "- It does not necessarily improve the performance before we can try-out doing model tuning\n",
    "- However, with a now limited number of features, we will be able to train more complex models in next section (ensemble...)"
   ]
  },
  {
   "cell_type": "markdown",
   "metadata": {},
   "source": [
    "### 🧪 Save your result\n",
    "\n",
    "Run the following cell to save your results."
   ]
  },
  {
   "cell_type": "code",
   "execution_count": null,
   "metadata": {
    "ExecuteTime": {
     "end_time": "2021-06-29T17:29:15.204479Z",
     "start_time": "2021-06-29T17:29:15.198198Z"
    }
   },
   "outputs": [],
   "source": [
    "ChallengeResult(\n",
    "    'feature_engineering',\n",
    "    X_time_features=X_time_features,\n",
    "    X_time_cyclical= X_time_cyclical,\n",
    "    time_pipeline=time_pipeline,\n",
    "    final_pipeline=final_pipeline,\n",
    "    final_scores=final_scores\n",
    ").write()\n",
    "\n",
    "# Hint: Try restarting your notebook if you obtain an error about saving a custom encoder"
   ]
  },
  {
   "cell_type": "markdown",
   "metadata": {},
   "source": [
    "## Model tuning"
   ]
  },
  {
   "cell_type": "markdown",
   "metadata": {},
   "source": [
    "### Random Forest"
   ]
  },
  {
   "cell_type": "markdown",
   "metadata": {},
   "source": [
    "📝 **Change the estimator of your `final_pipeline` by a Random Forest and checkout your new cross-validated score**"
   ]
  },
  {
   "cell_type": "code",
   "execution_count": null,
   "metadata": {
    "ExecuteTime": {
     "end_time": "2021-06-29T17:29:19.391364Z",
     "start_time": "2021-06-29T17:29:15.206532Z"
    },
    "tags": [
     "challengify"
    ]
   },
   "outputs": [],
   "source": [
    "# YOUR CODE HERE"
   ]
  },
  {
   "cell_type": "markdown",
   "metadata": {},
   "source": [
    "### Best hyperparameters quest\n",
    "\n",
    "\n",
    "\n",
    "**📝 Fine tune your model to try to get the best performance in the minimum amount of time!**\n",
    "\n",
    "- Store the result of your search inside the `search` variable.\n",
    "- Store your 5 cross-validated scores inside `best_scores` array of floats"
   ]
  },
  {
   "cell_type": "code",
   "execution_count": null,
   "metadata": {
    "ExecuteTime": {
     "end_time": "2021-06-29T17:29:19.431573Z",
     "start_time": "2021-06-29T17:29:19.394891Z"
    },
    "tags": [
     "challengify"
    ]
   },
   "outputs": [],
   "source": [
    "# YOUR CODE HERE"
   ]
  },
  {
   "cell_type": "markdown",
   "metadata": {},
   "source": [
    "**📝 Re-train your best pipeline on the whole (X,y) dataset**\n",
    "- Store the trained pipeline inside the `best_pipeline` variable"
   ]
  },
  {
   "cell_type": "code",
   "execution_count": null,
   "metadata": {
    "ExecuteTime": {
     "end_time": "2021-06-29T17:30:18.200730Z",
     "start_time": "2021-06-29T17:30:14.992877Z"
    },
    "tags": [
     "challengify"
    ]
   },
   "outputs": [],
   "source": [
    "# YOUR CODE HERE"
   ]
  },
  {
   "cell_type": "markdown",
   "metadata": {},
   "source": [
    "### Prediction\n",
    "\n",
    "Now you have your model tuned with the best hyperparameters, you are ready for a prediction.\n",
    "\n",
    "Here is a famous TV show released in 2017:\n",
    "\n",
    "```python\n",
    "dict(\n",
    "        original_title=str(\"La Casa de Papel\"),\n",
    "        title=str(\"Money Heist\"), \n",
    "        release_date= pd.to_datetime([\"2017-05-02\"]), \n",
    "        duration_min=float(50),\n",
    "        description=str(\"An unusual group of robbers attempt to carry out the most perfect robbery\"), \n",
    "        budget=float(3_000_000), \n",
    "        original_language =str(\"es\"), \n",
    "        status=str(\"Released\"),\n",
    "        number_of_awards_won =int(2), \n",
    "        number_of_nominations=int(5), \n",
    "        has_collection=int(1),\n",
    "        all_genres=str(\"Action, Crime, Mystery\"), \n",
    "        top_countries=str(\"Spain, France, United States of America\"), \n",
    "        number_of_top_productions=int('1'),\n",
    "        available_in_english=bool('True') \n",
    ")\n",
    "```\n",
    "\n",
    "**📝 Compute the predicted popularity of this TV show and store it into the `popularity` variable as a floating number.**"
   ]
  },
  {
   "cell_type": "code",
   "execution_count": null,
   "metadata": {
    "ExecuteTime": {
     "end_time": "2021-06-29T17:30:18.209145Z",
     "start_time": "2021-06-29T17:30:18.202809Z"
    },
    "tags": [
     "challengify"
    ]
   },
   "outputs": [],
   "source": [
    "# YOUR CODE HERE"
   ]
  },
  {
   "cell_type": "code",
   "execution_count": null,
   "metadata": {
    "ExecuteTime": {
     "end_time": "2021-06-29T17:30:18.293267Z",
     "start_time": "2021-06-29T17:30:18.211979Z"
    },
    "tags": [
     "challengify"
    ]
   },
   "outputs": [],
   "source": [
    "# YOUR CODE HERE"
   ]
  },
  {
   "cell_type": "markdown",
   "metadata": {},
   "source": [
    "### 🧪 Save your results\n",
    "\n",
    "Run the following cell to save your results."
   ]
  },
  {
   "cell_type": "code",
   "execution_count": null,
   "metadata": {
    "ExecuteTime": {
     "end_time": "2021-06-29T17:30:18.492068Z",
     "start_time": "2021-06-29T17:30:18.294946Z"
    }
   },
   "outputs": [],
   "source": [
    "ChallengeResult(\n",
    "    \"model_tuning\",\n",
    "    search=search,\n",
    "    best_pipeline=best_pipeline,\n",
    "    best_scores = best_scores,\n",
    "    popularity=popularity\n",
    ").write()"
   ]
  },
  {
   "cell_type": "markdown",
   "metadata": {},
   "source": [
    "## API \n",
    "\n",
    "Time to put a pipeline in production!\n",
    "\n",
    "👉 Go to https://github.com/lewagon/data-certification-api and follow instructions\n",
    "\n",
    "**This final part is independent from the above notebook**"
   ]
  }
 ],
 "metadata": {
  "interpreter": {
   "hash": "572b4e543617d03e90ecaf525e08695da1ff29b13594f787e33b342cf572f792"
  },
  "kernelspec": {
   "display_name": "Python 3",
   "language": "python",
   "name": "python3"
  },
  "language_info": {
   "codemirror_mode": {
    "name": "ipython",
    "version": 3
   },
   "file_extension": ".py",
   "mimetype": "text/x-python",
   "name": "python",
   "nbconvert_exporter": "python",
   "pygments_lexer": "ipython3",
   "version": "3.9.2"
  },
  "toc": {
   "base_numbering": 1,
   "nav_menu": {},
   "number_sections": true,
   "sideBar": true,
   "skip_h1_title": true,
   "title_cell": "Table of Contents",
   "title_sidebar": "Contents",
   "toc_cell": false,
   "toc_position": {
    "height": "calc(100% - 180px)",
    "left": "10px",
    "top": "150px",
    "width": "242px"
   },
   "toc_section_display": true,
   "toc_window_display": true
  },
  "varInspector": {
   "cols": {
    "lenName": 16,
    "lenType": 16,
    "lenVar": 40
   },
   "kernels_config": {
    "python": {
     "delete_cmd_postfix": "",
     "delete_cmd_prefix": "del ",
     "library": "var_list.py",
     "varRefreshCmd": "print(var_dic_list())"
    },
    "r": {
     "delete_cmd_postfix": ") ",
     "delete_cmd_prefix": "rm(",
     "library": "var_list.r",
     "varRefreshCmd": "cat(var_dic_list()) "
    }
   },
   "types_to_exclude": [
    "module",
    "function",
    "builtin_function_or_method",
    "instance",
    "_Feature"
   ],
   "window_display": false
  }
 },
 "nbformat": 4,
 "nbformat_minor": 4
}
